{
  "cells": [
    {
      "cell_type": "markdown",
      "metadata": {
        "id": "B7ekE2pBce0f"
      },
      "source": [
        "> Introdução à Ciência dos Dados \\\n",
        "> Ciência da Computação – UFV/Florestal\n",
        "\n",
        "\n",
        "* **Nome:** %s\n",
        "* **Matrícula:**  %d\n",
        "\n",
        "# Aula Prática 03\n",
        "##  Teorema Central do Limite\n",
        "\n",
        "**Objetivo:** Aplicar os conceitos do teorema central do limite para inferir conhecimento sobre uma população. \\\n",
        "**Pré-requisitos:** Linguagem de programação Python, estatística básica \\\n",
        "**Meta:** Ao final da prática, o aluno será capaz de utilizar ferramentas de análise de dados para inferir características de uma população a partir de amostras, e também de verificar se uma amostra pertence ou não a determinada população.\n",
        "\n",
        "----"
      ]
    },
    {
      "cell_type": "code",
      "source": [
        "### NÃO REMOVA ESSA CÉLULA! ####\n",
        "!pip --no-cache-dir install --upgrade learntools_dados_ufv\n",
        "\n",
        "!wget https://raw.githubusercontent.com/gfviegas/CCF425-resources/master/p3/renda_populacao.csv\n",
        "!wget https://raw.githubusercontent.com/gfviegas/CCF425-resources/master/p3/renda_amostra1.csv\n",
        "\n",
        "!wget https://raw.githubusercontent.com/gfviegas/CCF425-resources/master/p3/pesos_populacao.csv\n",
        "!wget https://raw.githubusercontent.com/gfviegas/CCF425-resources/master/p3/pesos_amostra1.csv\n",
        "!wget https://raw.githubusercontent.com/gfviegas/CCF425-resources/master/p3/pesos_amostra2.csv\n",
        "!wget https://raw.githubusercontent.com/gfviegas/CCF425-resources/master/p3/pesos_amostra3.csv\n",
        "!wget https://raw.githubusercontent.com/gfviegas/CCF425-resources/master/p3/pesos_amostra4.csv"
      ],
      "metadata": {
        "id": "JWrndYx6csMf",
        "colab": {
          "base_uri": "https://localhost:8080/"
        },
        "outputId": "8054eef0-39e4-44bc-c3d3-1cee4fabc425"
      },
      "execution_count": 1,
      "outputs": [
        {
          "output_type": "stream",
          "name": "stdout",
          "text": [
            "Looking in indexes: https://pypi.org/simple, https://us-python.pkg.dev/colab-wheels/public/simple/\n",
            "Collecting learntools_dados_ufv\n",
            "  Downloading learntools_dados_ufv-1.0.10.tar.gz (29 kB)\n",
            "  Preparing metadata (setup.py) ... \u001b[?25l\u001b[?25hdone\n",
            "Building wheels for collected packages: learntools_dados_ufv\n",
            "  Building wheel for learntools_dados_ufv (setup.py) ... \u001b[?25l\u001b[?25hdone\n",
            "  Created wheel for learntools_dados_ufv: filename=learntools_dados_ufv-1.0.10-py3-none-any.whl size=37116 sha256=6abaf3f75ba51ea707766010355b8a07528e74f377b0b883af21c3f81e85fdc7\n",
            "  Stored in directory: /tmp/pip-ephem-wheel-cache-_1wkiumn/wheels/26/f8/3e/b15724cf1339acbf446237f41bf17ff83f5abb1b764d78d7b5\n",
            "Successfully built learntools_dados_ufv\n",
            "Installing collected packages: learntools_dados_ufv\n",
            "Successfully installed learntools_dados_ufv-1.0.10\n",
            "--2023-04-05 17:58:38--  https://raw.githubusercontent.com/gfviegas/CCF425-resources/master/p3/renda_populacao.csv\n",
            "Resolving raw.githubusercontent.com (raw.githubusercontent.com)... 185.199.111.133, 185.199.110.133, 185.199.109.133, ...\n",
            "Connecting to raw.githubusercontent.com (raw.githubusercontent.com)|185.199.111.133|:443... connected.\n",
            "HTTP request sent, awaiting response... 200 OK\n",
            "Length: 88501 (86K) [text/plain]\n",
            "Saving to: ‘renda_populacao.csv’\n",
            "\n",
            "renda_populacao.csv 100%[===================>]  86.43K  --.-KB/s    in 0.003s  \n",
            "\n",
            "2023-04-05 17:58:38 (29.4 MB/s) - ‘renda_populacao.csv’ saved [88501/88501]\n",
            "\n",
            "--2023-04-05 17:58:38--  https://raw.githubusercontent.com/gfviegas/CCF425-resources/master/p3/renda_amostra1.csv\n",
            "Resolving raw.githubusercontent.com (raw.githubusercontent.com)... 185.199.108.133, 185.199.109.133, 185.199.110.133, ...\n",
            "Connecting to raw.githubusercontent.com (raw.githubusercontent.com)|185.199.108.133|:443... connected.\n",
            "HTTP request sent, awaiting response... 200 OK\n",
            "Length: 877 [text/plain]\n",
            "Saving to: ‘renda_amostra1.csv’\n",
            "\n",
            "renda_amostra1.csv  100%[===================>]     877  --.-KB/s    in 0s      \n",
            "\n",
            "2023-04-05 17:58:39 (30.9 MB/s) - ‘renda_amostra1.csv’ saved [877/877]\n",
            "\n",
            "--2023-04-05 17:58:40--  https://raw.githubusercontent.com/gfviegas/CCF425-resources/master/p3/pesos_populacao.csv\n",
            "Resolving raw.githubusercontent.com (raw.githubusercontent.com)... 185.199.108.133, 185.199.109.133, 185.199.110.133, ...\n",
            "Connecting to raw.githubusercontent.com (raw.githubusercontent.com)|185.199.108.133|:443... connected.\n",
            "HTTP request sent, awaiting response... 200 OK\n",
            "Length: 70000 (68K) [text/plain]\n",
            "Saving to: ‘pesos_populacao.csv’\n",
            "\n",
            "pesos_populacao.csv 100%[===================>]  68.36K  --.-KB/s    in 0.002s  \n",
            "\n",
            "2023-04-05 17:58:40 (41.0 MB/s) - ‘pesos_populacao.csv’ saved [70000/70000]\n",
            "\n",
            "--2023-04-05 17:58:40--  https://raw.githubusercontent.com/gfviegas/CCF425-resources/master/p3/pesos_amostra1.csv\n",
            "Resolving raw.githubusercontent.com (raw.githubusercontent.com)... 185.199.108.133, 185.199.109.133, 185.199.110.133, ...\n",
            "Connecting to raw.githubusercontent.com (raw.githubusercontent.com)|185.199.108.133|:443... connected.\n",
            "HTTP request sent, awaiting response... 200 OK\n",
            "Length: 700 [text/plain]\n",
            "Saving to: ‘pesos_amostra1.csv’\n",
            "\n",
            "pesos_amostra1.csv  100%[===================>]     700  --.-KB/s    in 0s      \n",
            "\n",
            "2023-04-05 17:58:40 (26.6 MB/s) - ‘pesos_amostra1.csv’ saved [700/700]\n",
            "\n",
            "--2023-04-05 17:58:40--  https://raw.githubusercontent.com/gfviegas/CCF425-resources/master/p3/pesos_amostra2.csv\n",
            "Resolving raw.githubusercontent.com (raw.githubusercontent.com)... 185.199.108.133, 185.199.109.133, 185.199.110.133, ...\n",
            "Connecting to raw.githubusercontent.com (raw.githubusercontent.com)|185.199.108.133|:443... connected.\n",
            "HTTP request sent, awaiting response... 200 OK\n",
            "Length: 608 [text/plain]\n",
            "Saving to: ‘pesos_amostra2.csv’\n",
            "\n",
            "pesos_amostra2.csv  100%[===================>]     608  --.-KB/s    in 0s      \n",
            "\n",
            "2023-04-05 17:58:40 (30.9 MB/s) - ‘pesos_amostra2.csv’ saved [608/608]\n",
            "\n",
            "--2023-04-05 17:58:40--  https://raw.githubusercontent.com/gfviegas/CCF425-resources/master/p3/pesos_amostra3.csv\n",
            "Resolving raw.githubusercontent.com (raw.githubusercontent.com)... 185.199.108.133, 185.199.109.133, 185.199.110.133, ...\n",
            "Connecting to raw.githubusercontent.com (raw.githubusercontent.com)|185.199.108.133|:443... connected.\n",
            "HTTP request sent, awaiting response... 200 OK\n",
            "Length: 700 [text/plain]\n",
            "Saving to: ‘pesos_amostra3.csv’\n",
            "\n",
            "pesos_amostra3.csv  100%[===================>]     700  --.-KB/s    in 0s      \n",
            "\n",
            "2023-04-05 17:58:40 (24.6 MB/s) - ‘pesos_amostra3.csv’ saved [700/700]\n",
            "\n",
            "--2023-04-05 17:58:40--  https://raw.githubusercontent.com/gfviegas/CCF425-resources/master/p3/pesos_amostra4.csv\n",
            "Resolving raw.githubusercontent.com (raw.githubusercontent.com)... 185.199.108.133, 185.199.109.133, 185.199.110.133, ...\n",
            "Connecting to raw.githubusercontent.com (raw.githubusercontent.com)|185.199.108.133|:443... connected.\n",
            "HTTP request sent, awaiting response... 200 OK\n",
            "Length: 700 [text/plain]\n",
            "Saving to: ‘pesos_amostra4.csv’\n",
            "\n",
            "pesos_amostra4.csv  100%[===================>]     700  --.-KB/s    in 0s      \n",
            "\n",
            "2023-04-05 17:58:41 (34.6 MB/s) - ‘pesos_amostra4.csv’ saved [700/700]\n",
            "\n"
          ]
        }
      ]
    },
    {
      "cell_type": "code",
      "execution_count": 2,
      "metadata": {
        "id": "_X9J3UPRX7_6"
      },
      "outputs": [],
      "source": [
        "#### Não altere essa célula!!! ####\n",
        "import pandas as pd\n",
        "import numpy as np\n",
        "import matplotlib.pyplot as plt\n",
        "import seaborn as sns\n",
        "\n",
        "\n",
        "from learntools_dados_ufv.core import binder; binder.bind(globals())\n",
        "from learntools_dados_ufv.ccf425.pratica_3 import *"
      ]
    },
    {
      "cell_type": "markdown",
      "metadata": {
        "id": "AwbsSFyfce0j"
      },
      "source": [
        "# Roteiro"
      ]
    },
    {
      "cell_type": "markdown",
      "metadata": {
        "id": "CHMN-XCice0k"
      },
      "source": [
        "## Leitura dos dados\n",
        "Veja os dados do arquivo `renda_populacao.csv`. \n",
        "\n",
        "Use a opção `squeeze=True` para obter uma Série do arquivo e não um DataFrame (comportamento default). Note que não possui cabeçalhos."
      ]
    },
    {
      "cell_type": "code",
      "execution_count": 3,
      "metadata": {
        "id": "WPytsVToce0k",
        "outputId": "f9960d07-af98-4474-d423-aebb280e47e0",
        "colab": {
          "base_uri": "https://localhost:8080/"
        }
      },
      "outputs": [
        {
          "output_type": "stream",
          "name": "stderr",
          "text": [
            "<ipython-input-3-e30f9c6ac499>:1: FutureWarning: The squeeze argument has been deprecated and will be removed in a future version. Append .squeeze(\"columns\") to the call to squeeze.\n",
            "\n",
            "\n",
            "  series = pd.read_csv('./renda_populacao.csv', index_col=False, header=None, squeeze=True)\n"
          ]
        },
        {
          "output_type": "execute_result",
          "data": {
            "text/plain": [
              "0         9536.34\n",
              "1       267273.60\n",
              "2        39596.61\n",
              "3        24992.04\n",
              "4         9286.11\n",
              "          ...    \n",
              "9995     31717.13\n",
              "9996     30511.21\n",
              "9997      9335.55\n",
              "9998      9905.62\n",
              "9999    122687.20\n",
              "Name: 0, Length: 10000, dtype: float64"
            ]
          },
          "metadata": {},
          "execution_count": 3
        }
      ],
      "source": [
        "series = pd.read_csv('./renda_populacao.csv', index_col=False, header=None, squeeze=True)\n",
        "series"
      ]
    },
    {
      "cell_type": "markdown",
      "metadata": {
        "id": "XJam9X9Rce0l"
      },
      "source": [
        "## Explorar os dados com base em estatísticas descritivas\n",
        "\n",
        "Observação: para formatar a saída dos números reais no pandas, utilizar o comando: `pd.options.display.float_format = \"{:.2f}\".format`\n"
      ]
    },
    {
      "cell_type": "code",
      "execution_count": 4,
      "metadata": {
        "id": "mXO_Ud9zce0m",
        "outputId": "9a6d776d-7ebb-404a-a6ee-720adeabc32e",
        "colab": {
          "base_uri": "https://localhost:8080/"
        }
      },
      "outputs": [
        {
          "output_type": "execute_result",
          "data": {
            "text/plain": [
              "count     10000.00\n",
              "mean      36210.55\n",
              "std       46539.07\n",
              "min         391.72\n",
              "25%       11205.69\n",
              "50%       22006.79\n",
              "75%       43049.55\n",
              "max     1119768.63\n",
              "Name: 0, dtype: float64"
            ]
          },
          "metadata": {},
          "execution_count": 4
        }
      ],
      "source": [
        "pd.options.display.float_format = \"{:.2f}\".format\n",
        "\n",
        "series.describe()"
      ]
    },
    {
      "cell_type": "markdown",
      "metadata": {
        "id": "0-cPTAN8ce0m"
      },
      "source": [
        "## Plotar a distribuição dessa população\n",
        "\n",
        "Observação: Por enquanto vamos simplesmente aceitar esse código usando as bibliotecas _matplotlib_ e _seaborn_. Depois vamos entender melhor como gerar gráficos."
      ]
    },
    {
      "cell_type": "code",
      "execution_count": null,
      "metadata": {
        "id": "f0EZo97Lce0n"
      },
      "outputs": [],
      "source": [
        "def plot_dist_data(data):\n",
        "    ax = sns.displot(data)\n",
        "    ax.set(xlabel=\"Renda\", ylabel=\"Frequência\")\n",
        "\n",
        "    plt.show()\n",
        "\n",
        "\n",
        "plot_dist_data(series)"
      ]
    },
    {
      "cell_type": "markdown",
      "metadata": {
        "id": "PD-SIyvTce0n"
      },
      "source": [
        "## Plotar uma amostra dessa população de tamanho 10\n",
        "\n",
        "Note que a amostragem é aleatória, e portanto, em cada execução vai gerar um gráfico diferente."
      ]
    },
    {
      "cell_type": "code",
      "execution_count": null,
      "metadata": {
        "id": "3l7cYnhjce0n"
      },
      "outputs": [],
      "source": [
        "# Gera uma amostra de tamanho 100 dos dados. \n",
        "sample = series.sample(100)\n",
        "sample"
      ]
    },
    {
      "cell_type": "code",
      "execution_count": null,
      "metadata": {
        "id": "3DOjbUaqce0o"
      },
      "outputs": [],
      "source": [
        "# Plota de fato a amostra\n",
        "plot_dist_data(sample)"
      ]
    },
    {
      "cell_type": "markdown",
      "metadata": {
        "id": "ifEeRfWLce0o"
      },
      "source": [
        "## Explorar os dados com base em estatísticas descritivas da amostra\n",
        "\n",
        "Veja a média da amostra. Esse valor está dentro do esperado para a população?\n",
        "\n",
        "Repita os últimos 3 passos (gerar amostra, plotar amostra, calcular média da amostra) algumas vezes para verificar o que acontece com a média. \n",
        "\n",
        "> Observação: os resultados de cada execução serão diferentes, pois estamos pegando amostras aleatórias."
      ]
    },
    {
      "cell_type": "code",
      "execution_count": null,
      "metadata": {
        "id": "hY5UGk9mce0p"
      },
      "outputs": [],
      "source": [
        "sample.describe()"
      ]
    },
    {
      "cell_type": "markdown",
      "metadata": {
        "id": "imXBatyzce0p"
      },
      "source": [
        "## Gerar métricas de um conjunto de amostras aleatórias\n",
        "\n",
        "Vamos gerar 50 amostras aleatórias da população, calcular a média de cada amostra, plotar a distribuição das médias, e calcular a média das médias das amostras e o erro padrão."
      ]
    },
    {
      "cell_type": "code",
      "execution_count": null,
      "metadata": {
        "id": "_vq_l-dkce0p"
      },
      "outputs": [],
      "source": [
        "# Gerar N amostras de tamanho T e plota as médias das amostras\n",
        "def analyze_samples(N=50, T=100):\n",
        "    # Gera N amostras diferentes de tamanho T\n",
        "    samples_list = [series.sample(T) for _i in range(0, N)]\n",
        "    # Gera uma lista com a média de cada uma das amostras acima\n",
        "    means_of_samples = [s.mean() for s in samples_list]\n",
        "\n",
        "    # Média das médias\n",
        "    mean_of_means = np.mean(means_of_samples)\n",
        "\n",
        "    # Erro padrão\n",
        "    std_error = series.std() / np.sqrt(len(means_of_samples))\n",
        "\n",
        "    print(\"Média das médias: {:.2f}\".format(mean_of_means))\n",
        "    print(\"Erro padrão: {:.2f}\".format(std_error))\n",
        "\n",
        "    plot_dist_data(means_of_samples)\n",
        "\n",
        "\n",
        "\n",
        "analyze_samples(50, 100)"
      ]
    },
    {
      "cell_type": "markdown",
      "metadata": {
        "id": "cB69YZjsce0q"
      },
      "source": [
        "## Analisar o conjunto de amostras\n",
        "Repita a célula anterior algumas vezes. Observe o gráfico.\n",
        "\n",
        "- Ele segue a distribuição Normal?\n",
        "- As médias das médias das amostras estão próximas da média da população?\n",
        "- E os erros padrões?\n"
      ]
    },
    {
      "cell_type": "markdown",
      "metadata": {
        "id": "zM6ddcFBce0q"
      },
      "source": [
        "## Veja amostras maiores\n",
        "Repita o processo apresentado (de gerar amostras, calcular médias e ver gráficos), mas agora com um número maior de amostras (100, 250, 500). \n",
        "\n",
        "Podemos observar que a distribuição das médias se aproxima mais da distribuição Normal? E o que acontece com o erro padrão?"
      ]
    },
    {
      "cell_type": "code",
      "execution_count": null,
      "metadata": {
        "id": "p3No6jtMce0q"
      },
      "outputs": [],
      "source": [
        "analyze_samples(N=100)"
      ]
    },
    {
      "cell_type": "code",
      "execution_count": null,
      "metadata": {
        "id": "-5wUXhcece0q"
      },
      "outputs": [],
      "source": [
        "analyze_samples(N=250)"
      ]
    },
    {
      "cell_type": "code",
      "execution_count": null,
      "metadata": {
        "id": "oTNyivXece0r"
      },
      "outputs": [],
      "source": [
        "analyze_samples(N=500)"
      ]
    },
    {
      "cell_type": "markdown",
      "metadata": {
        "id": "cxH2JZ8sce0r"
      },
      "source": [
        "## Verificar se uma amostra pertence a população\n",
        "\n",
        "Leia o arquivo de amostra de rendas (renda_amostra1.csv). Verifique se essa amostra faz parte da população de renda (renda.csv) ou não: \n",
        "1. Calcule a média e o erro padrão;\n",
        "2. Verifique a quantos erros da média da população a média da amostra está;\n"
      ]
    },
    {
      "cell_type": "code",
      "execution_count": null,
      "metadata": {
        "id": "Oqrrz41Bce0r"
      },
      "outputs": [],
      "source": [
        "sample_1 = pd.read_csv(\"./renda_amostra1.csv\", index_col=False, header=None, squeeze=True)\n",
        "sample_1"
      ]
    },
    {
      "cell_type": "code",
      "execution_count": null,
      "metadata": {
        "id": "3MUPPamRce0r"
      },
      "outputs": [],
      "source": [
        "series_mean = series.mean()\n",
        "sample_1_mean = sample_1.mean()\n",
        "std_error = series.std() / np.sqrt(len(sample_1))\n",
        "\n",
        "print(\"Média da população: {:.2f}\".format(series_mean))\n",
        "print(\"Média da amostra: {:.2f}\".format(sample_1_mean))\n",
        "print(\"Erro padrão: {:.2f}\".format(std_error))"
      ]
    },
    {
      "cell_type": "code",
      "execution_count": null,
      "metadata": {
        "id": "WG8FPQSWce0s"
      },
      "outputs": [],
      "source": [
        "# Calcula a diferença entre a média da população e da amostra, em termos do erro padrão.\n",
        "std_error_distance = abs(series_mean - sample_1_mean) / std_error\n",
        "\n",
        "print(\"A diferença entre a média da população e da amostra é de {:.4f} erros padrão\".format(std_error_distance))"
      ]
    },
    {
      "cell_type": "markdown",
      "metadata": {
        "id": "8aG5nMG5ce0s"
      },
      "source": [
        "# Exercícios"
      ]
    },
    {
      "cell_type": "markdown",
      "metadata": {
        "id": "3LWiNtDCX7_7"
      },
      "source": [
        "## 1. Leia os dados de uma população de pesos (_pesos_populacao.csv_)\n",
        "Armazene na variável `population_weight`. \n",
        "\n",
        "Chame a função `q1.check()` no fim da célula para verificar a resposta.\n",
        "Você pode pedir dicas com `q1.hint()`"
      ]
    },
    {
      "cell_type": "code",
      "execution_count": 23,
      "metadata": {
        "id": "ja1KJaDIce0s",
        "colab": {
          "base_uri": "https://localhost:8080/",
          "height": 361
        },
        "outputId": "01d32717-00d4-4561-dc87-8e5286ce5424"
      },
      "outputs": [
        {
          "output_type": "stream",
          "name": "stdout",
          "text": [
            "count   10000.00\n",
            "mean      161.99\n",
            "std        15.05\n",
            "min       103.25\n",
            "25%       151.95\n",
            "50%       161.93\n",
            "75%       172.20\n",
            "max       220.32\n",
            "Name: 0, dtype: float64\n"
          ]
        },
        {
          "output_type": "stream",
          "name": "stderr",
          "text": [
            "<ipython-input-23-6a77b1e44df6>:3: FutureWarning: The squeeze argument has been deprecated and will be removed in a future version. Append .squeeze(\"columns\") to the call to squeeze.\n",
            "\n",
            "\n",
            "  population_weight = pd.read_csv('./pesos_populacao.csv', index_col=False, header=None, squeeze=True)\n",
            "/usr/local/lib/python3.9/dist-packages/learntools_dados_ufv/ccf425/pratica_3.py:15: FutureWarning: The squeeze argument has been deprecated and will be removed in a future version. Append .squeeze(\"columns\") to the call to squeeze.\n",
            "\n",
            "\n",
            "  assert_series_equals(population_weight, pd.read_csv('./pesos_populacao.csv', header=None, squeeze=True), name='population_weight')\n"
          ]
        },
        {
          "output_type": "display_data",
          "data": {
            "text/plain": [
              "<IPython.core.display.Javascript object>"
            ],
            "application/javascript": [
              "parent.postMessage({\"jupyterEvent\": \"custom.exercise_interaction\", \"data\": {\"outcomeType\": 1, \"valueTowardsCompletion\": 0.5, \"interactionType\": 1, \"questionType\": 2, \"questionId\": \"1_Q1\", \"learnToolsVersion\": \"1.0.10\", \"failureMessage\": \"\", \"exceptionClass\": \"\", \"trace\": \"\"}}, \"*\")"
            ]
          },
          "metadata": {}
        },
        {
          "output_type": "display_data",
          "data": {
            "text/plain": [
              "CORRETO: \n"
            ],
            "text/markdown": "<span style=\"color:#33cc33\">CORRETO:</span> \n\n"
          },
          "metadata": {}
        }
      ],
      "source": [
        "# q1.hint()\n",
        "\n",
        "population_weight = pd.read_csv('./pesos_populacao.csv', index_col=False, header=None, squeeze=True)\n",
        "# display(population_weight)\n",
        "print(population_weight.describe())\n",
        "\n",
        "q1.check()"
      ]
    },
    {
      "cell_type": "markdown",
      "metadata": {
        "id": "wPZMt8Fpce0s"
      },
      "source": [
        "## 2. Analise a `Amostra 1`\n",
        "Essa é uma atividade com múltiplas questões."
      ]
    },
    {
      "cell_type": "markdown",
      "metadata": {
        "id": "Qdz528Ecce0t"
      },
      "source": [
        "### 2.a. Leia o arquivo com os dados da amostra.\n",
        "Armazene na variável `sample_1_weight`. \n",
        "\n",
        "Chame a função `q2.a.check()` no fim da célula para verificar a resposta.\n",
        "Você pode pedir dicas com `q2.a.hint()`"
      ]
    },
    {
      "cell_type": "code",
      "execution_count": 21,
      "metadata": {
        "id": "5xuRkwaJce0t",
        "colab": {
          "base_uri": "https://localhost:8080/",
          "height": 361
        },
        "outputId": "3fa7dcad-e160-4667-c46e-d68cc4ecf953"
      },
      "outputs": [
        {
          "output_type": "stream",
          "name": "stdout",
          "text": [
            "count   100.00\n",
            "mean    161.89\n",
            "std      15.94\n",
            "min     125.68\n",
            "25%     149.62\n",
            "50%     161.34\n",
            "75%     171.39\n",
            "max     207.76\n",
            "Name: 0, dtype: float64\n"
          ]
        },
        {
          "output_type": "stream",
          "name": "stderr",
          "text": [
            "<ipython-input-21-85dbef5b8122>:3: FutureWarning: The squeeze argument has been deprecated and will be removed in a future version. Append .squeeze(\"columns\") to the call to squeeze.\n",
            "\n",
            "\n",
            "  sample_1_weight = pd.read_csv('./pesos_amostra1.csv', index_col=False, header=None, squeeze=True)\n",
            "/usr/local/lib/python3.9/dist-packages/learntools_dados_ufv/ccf425/pratica_3.py:26: FutureWarning: The squeeze argument has been deprecated and will be removed in a future version. Append .squeeze(\"columns\") to the call to squeeze.\n",
            "\n",
            "\n",
            "  assert_series_equals(sample_1_weight, pd.read_csv('./pesos_amostra1.csv', header=None, squeeze=True), name='sample_1_weight')\n"
          ]
        },
        {
          "output_type": "display_data",
          "data": {
            "text/plain": [
              "<IPython.core.display.Javascript object>"
            ],
            "application/javascript": [
              "parent.postMessage({\"jupyterEvent\": \"custom.exercise_interaction\", \"data\": {\"outcomeType\": 1, \"valueTowardsCompletion\": 0.5, \"interactionType\": 1, \"questionType\": 2, \"questionId\": \"2.1_Q2A\", \"learnToolsVersion\": \"1.0.10\", \"failureMessage\": \"\", \"exceptionClass\": \"\", \"trace\": \"\"}}, \"*\")"
            ]
          },
          "metadata": {}
        },
        {
          "output_type": "display_data",
          "data": {
            "text/plain": [
              "CORRETO: \n"
            ],
            "text/markdown": "<span style=\"color:#33cc33\">CORRETO:</span> \n\n"
          },
          "metadata": {}
        }
      ],
      "source": [
        "# q2.a.hint()\n",
        "\n",
        "sample_1_weight = pd.read_csv('./pesos_amostra1.csv', index_col=False, header=None, squeeze=True)\n",
        "# display(sample_1_weight)\n",
        "print(sample_1_weight.describe())\n",
        "\n",
        "q2.a.check()"
      ]
    },
    {
      "cell_type": "markdown",
      "source": [
        "### Função para checar se pertence a população."
      ],
      "metadata": {
        "id": "GGKfd-zYrlyP"
      }
    },
    {
      "cell_type": "code",
      "source": [
        "def check_from_population(sample, population):\n",
        "  population_mean = population.mean();\n",
        "  sample_mean = sample.mean();\n",
        "  error = population.std() / np.sqrt(len(sample));\n",
        "  print(\"Error: \", error)\n",
        "  distance = abs(population_mean - sample_mean) / error;\n",
        "  print(\"Distance: \",distance)\n",
        "  return True if distance < 3*error else False"
      ],
      "metadata": {
        "id": "rYhX2mxmrsIj"
      },
      "execution_count": 40,
      "outputs": []
    },
    {
      "cell_type": "markdown",
      "metadata": {
        "id": "k3vFLM4uce0t"
      },
      "source": [
        "### 2.b. Verifique se a amostra pertence a população.\n",
        "A amostra foi retirada ou não da população de pesos? Justifique\n",
        "\n",
        "Armazene a resposta booleana na variável `is_sample_1_from_population`. \n",
        "\n",
        "\n",
        "Chame a função `q2.b.check()` no fim da célula para verificar a resposta.\n",
        "Você pode pedir dicas com `q2.b.hint(n)` onde n é o número da dica.\n",
        "\n",
        "> OBS: Mesmo que o corretor aceite respostas booleanas (e você pode \"_roubar_\" testando a resposta antes), será analisado também a justificativa."
      ]
    },
    {
      "cell_type": "code",
      "execution_count": 41,
      "metadata": {
        "id": "JLL_kWbQce0t",
        "colab": {
          "base_uri": "https://localhost:8080/",
          "height": 98
        },
        "outputId": "00b7c74c-fdde-41e3-cd06-e91a94fe6872"
      },
      "outputs": [
        {
          "output_type": "stream",
          "name": "stdout",
          "text": [
            "Error:  1.504760320187408\n",
            "Distance:  0.06787193856048412\n"
          ]
        },
        {
          "output_type": "display_data",
          "data": {
            "text/plain": [
              "True"
            ]
          },
          "metadata": {}
        },
        {
          "output_type": "display_data",
          "data": {
            "text/plain": [
              "<IPython.core.display.Javascript object>"
            ],
            "application/javascript": [
              "parent.postMessage({\"jupyterEvent\": \"custom.exercise_interaction\", \"data\": {\"outcomeType\": 1, \"valueTowardsCompletion\": 0.5, \"interactionType\": 1, \"questionType\": 1, \"questionId\": \"2.2_Q2B\", \"learnToolsVersion\": \"1.0.10\", \"failureMessage\": \"\", \"exceptionClass\": \"\", \"trace\": \"\"}}, \"*\")"
            ]
          },
          "metadata": {}
        },
        {
          "output_type": "display_data",
          "data": {
            "text/plain": [
              "CORRETO: \n"
            ],
            "text/markdown": "<span style=\"color:#33cc33\">CORRETO:</span> \n\n"
          },
          "metadata": {}
        }
      ],
      "source": [
        "#q2.b.hint()\n",
        "\n",
        "is_sample_1_from_population = check_from_population(sample_1_weight, population_weight)\n",
        "display(is_sample_1_from_population)\n",
        "\n",
        "q2.b.check()"
      ]
    },
    {
      "cell_type": "markdown",
      "metadata": {
        "id": "8BhQK-xTce0t"
      },
      "source": [
        "## 3. Analise a `Amostra 2`\n",
        "Essa é uma atividade com múltiplas questões."
      ]
    },
    {
      "cell_type": "markdown",
      "metadata": {
        "id": "Goct_aTLce0t"
      },
      "source": [
        "### 3.a. Leia o arquivo com os dados da amostra.\n",
        "Armazene na variável `sample_2_weight`. \n",
        "\n",
        "Chame a função `q3.a.check()` no fim da célula para verificar a resposta.\n",
        "Você pode pedir dicas com `q3.a.hint()`"
      ]
    },
    {
      "cell_type": "code",
      "execution_count": null,
      "metadata": {
        "id": "q2OynwLHce0u"
      },
      "outputs": [],
      "source": [
        "# q3.a.hint()\n",
        "\n",
        "sample_2_weight = pd.read_csv('./pesos_amostra2.csv', index_col=False, header=None, squeeze=True)\n",
        "display(sample_2_weight)\n",
        "\n",
        "q3.a.check()"
      ]
    },
    {
      "cell_type": "markdown",
      "metadata": {
        "id": "weOh7rGWce0u"
      },
      "source": [
        "### 3.b. Verifique se a amostra pertence a população.\n",
        "A amostra foi retirada ou não da população de pesos? Justifique\n",
        "\n",
        "Armazene a resposta booleana na variável `is_sample_2_from_population`. \n",
        "\n",
        "\n",
        "Chame a função `q3.b.check()` no fim da célula para verificar a resposta.\n",
        "Você pode pedir dicas com `q3.b.hint(n)` onde n é o número da dica.\n",
        "\n",
        "> OBS: Mesmo que o corretor aceite respostas booleanas (e você pode \"_roubar_\" testando a resposta antes), será analisado também a justificativa."
      ]
    },
    {
      "cell_type": "code",
      "execution_count": 42,
      "metadata": {
        "id": "ADI57jIhce0u",
        "colab": {
          "base_uri": "https://localhost:8080/",
          "height": 98
        },
        "outputId": "16a15617-7251-409a-e06f-23a3e4e3e966"
      },
      "outputs": [
        {
          "output_type": "stream",
          "name": "stdout",
          "text": [
            "Error:  1.504760320187408\n",
            "Distance:  59.24766210534879\n"
          ]
        },
        {
          "output_type": "display_data",
          "data": {
            "text/plain": [
              "False"
            ]
          },
          "metadata": {}
        },
        {
          "output_type": "display_data",
          "data": {
            "text/plain": [
              "<IPython.core.display.Javascript object>"
            ],
            "application/javascript": [
              "parent.postMessage({\"jupyterEvent\": \"custom.exercise_interaction\", \"data\": {\"outcomeType\": 1, \"valueTowardsCompletion\": 0.5, \"interactionType\": 1, \"questionType\": 1, \"questionId\": \"3.2_Q3B\", \"learnToolsVersion\": \"1.0.10\", \"failureMessage\": \"\", \"exceptionClass\": \"\", \"trace\": \"\"}}, \"*\")"
            ]
          },
          "metadata": {}
        },
        {
          "output_type": "display_data",
          "data": {
            "text/plain": [
              "CORRETO: \n"
            ],
            "text/markdown": "<span style=\"color:#33cc33\">CORRETO:</span> \n\n"
          },
          "metadata": {}
        }
      ],
      "source": [
        "# q3.b.hint()\n",
        "\n",
        "is_sample_2_from_population = check_from_population(sample_2_weight, population_weight)\n",
        "display(is_sample_2_from_population)\n",
        "\n",
        "q3.b.check()"
      ]
    },
    {
      "cell_type": "markdown",
      "metadata": {
        "id": "D1S_zwDwce0u"
      },
      "source": [
        "## 4. Analise a `Amostra 3`\n",
        "Essa é uma atividade com múltiplas questões."
      ]
    },
    {
      "cell_type": "markdown",
      "metadata": {
        "id": "V4t4szWcce0u"
      },
      "source": [
        "### 4.a. Leia o arquivo com os dados da amostra.\n",
        "Armazene na variável `sample_3_weight`. \n",
        "\n",
        "Chame a função `q4.a.check()` no fim da célula para verificar a resposta.\n",
        "Você pode pedir dicas com `q4.a.hint()`"
      ]
    },
    {
      "cell_type": "code",
      "execution_count": null,
      "metadata": {
        "id": "QTgIHUcOce0u"
      },
      "outputs": [],
      "source": [
        "# q4.a.hint()\n",
        "\n",
        "sample_3_weight = pd.read_csv('./pesos_amostra3.csv', index_col=False, header=None, squeeze=True)\n",
        "display(sample_3_weight)\n",
        "\n",
        "q4.a.check()"
      ]
    },
    {
      "cell_type": "markdown",
      "metadata": {
        "id": "X0-d7FOuce0v"
      },
      "source": [
        "### 4.b. Verifique se a amostra pertence a população.\n",
        "A amostra foi retirada ou não da população de pesos? Justifique\n",
        "\n",
        "Armazene a resposta booleana na variável `is_sample_3_from_population`. \n",
        "\n",
        "\n",
        "Chame a função `q4.b.check()` no fim da célula para verificar a resposta.\n",
        "Você pode pedir dicas com `q4.b.hint(n)` onde n é o número da dica.\n",
        "\n",
        "> OBS: Mesmo que o corretor aceite respostas booleanas (e você pode \"_roubar_\" testando a resposta antes), será analisado também a justificativa."
      ]
    },
    {
      "cell_type": "code",
      "execution_count": 43,
      "metadata": {
        "id": "FNlXSD_Qce0v",
        "colab": {
          "base_uri": "https://localhost:8080/",
          "height": 98
        },
        "outputId": "41f4bd6f-fe17-4232-f089-47be9e4ce439"
      },
      "outputs": [
        {
          "output_type": "stream",
          "name": "stdout",
          "text": [
            "Error:  1.504760320187408\n",
            "Distance:  32.04554795410499\n"
          ]
        },
        {
          "output_type": "display_data",
          "data": {
            "text/plain": [
              "False"
            ]
          },
          "metadata": {}
        },
        {
          "output_type": "display_data",
          "data": {
            "text/plain": [
              "<IPython.core.display.Javascript object>"
            ],
            "application/javascript": [
              "parent.postMessage({\"jupyterEvent\": \"custom.exercise_interaction\", \"data\": {\"outcomeType\": 1, \"valueTowardsCompletion\": 0.5, \"interactionType\": 1, \"questionType\": 1, \"questionId\": \"4.2_Q4B\", \"learnToolsVersion\": \"1.0.10\", \"failureMessage\": \"\", \"exceptionClass\": \"\", \"trace\": \"\"}}, \"*\")"
            ]
          },
          "metadata": {}
        },
        {
          "output_type": "display_data",
          "data": {
            "text/plain": [
              "CORRETO: \n"
            ],
            "text/markdown": "<span style=\"color:#33cc33\">CORRETO:</span> \n\n"
          },
          "metadata": {}
        }
      ],
      "source": [
        "# q4.b.hint()\n",
        "\n",
        "is_sample_3_from_population = check_from_population(sample_3_weight, population_weight)\n",
        "display(is_sample_3_from_population)\n",
        "\n",
        "q4.b.check()"
      ]
    },
    {
      "cell_type": "markdown",
      "metadata": {
        "id": "iqBcNmxIce0v"
      },
      "source": [
        "## 5. Analise a `Amostra 4`\n",
        "Essa é uma atividade com múltiplas questões."
      ]
    },
    {
      "cell_type": "markdown",
      "metadata": {
        "id": "bjUidZpice0v"
      },
      "source": [
        "### 5.a. Leia o arquivo com os dados da amostra.\n",
        "Armazene na variável `sample_4_weight`. \n",
        "\n",
        "Chame a função `q5.a.check()` no fim da célula para verificar a resposta.\n",
        "Você pode pedir dicas com `q5.a.hint()`"
      ]
    },
    {
      "cell_type": "code",
      "execution_count": null,
      "metadata": {
        "id": "YvpvzigCce0v"
      },
      "outputs": [],
      "source": [
        "# q5.a.hint()\n",
        "\n",
        "sample_4_weight = pd.read_csv('./pesos_amostra4.csv', index_col=False, header=None, squeeze=True)\n",
        "display(sample_4_weight)\n",
        "\n",
        "q5.a.check()"
      ]
    },
    {
      "cell_type": "markdown",
      "metadata": {
        "id": "YrF609M-ce0v"
      },
      "source": [
        "### 5.b. Verifique se a amostra pertence a população.\n",
        "A amostra foi retirada ou não da população de pesos? Justifique\n",
        "\n",
        "Armazene a resposta booleana na variável `is_sample_4_from_population`. \n",
        "\n",
        "\n",
        "Chame a função `q5.b.check()` no fim da célula para verificar a resposta.\n",
        "Você pode pedir dicas com `q5.b.hint(n)` onde n é o número da dica.\n",
        "\n",
        "> OBS: Mesmo que o corretor aceite respostas booleanas (e você pode \"_roubar_\" testando a resposta antes), será analisado também a justificativa."
      ]
    },
    {
      "cell_type": "code",
      "execution_count": 44,
      "metadata": {
        "id": "vbcA6yj9ce0v",
        "colab": {
          "base_uri": "https://localhost:8080/",
          "height": 98
        },
        "outputId": "ec4bfd4f-3e34-4708-a0d5-24771aef8099"
      },
      "outputs": [
        {
          "output_type": "stream",
          "name": "stdout",
          "text": [
            "Error:  1.504760320187408\n",
            "Distance:  5.098573438622101\n"
          ]
        },
        {
          "output_type": "display_data",
          "data": {
            "text/plain": [
              "False"
            ]
          },
          "metadata": {}
        },
        {
          "output_type": "display_data",
          "data": {
            "text/plain": [
              "<IPython.core.display.Javascript object>"
            ],
            "application/javascript": [
              "parent.postMessage({\"jupyterEvent\": \"custom.exercise_interaction\", \"data\": {\"outcomeType\": 1, \"valueTowardsCompletion\": 0.5, \"interactionType\": 1, \"questionType\": 1, \"questionId\": \"5.2_Q5B\", \"learnToolsVersion\": \"1.0.10\", \"failureMessage\": \"\", \"exceptionClass\": \"\", \"trace\": \"\"}}, \"*\")"
            ]
          },
          "metadata": {}
        },
        {
          "output_type": "display_data",
          "data": {
            "text/plain": [
              "CORRETO: \n"
            ],
            "text/markdown": "<span style=\"color:#33cc33\">CORRETO:</span> \n\n"
          },
          "metadata": {}
        }
      ],
      "source": [
        "# q5.b.hint()\n",
        "\n",
        "is_sample_4_from_population = check_from_population(sample_4_weight, population_weight)\n",
        "display(is_sample_4_from_population)\n",
        "\n",
        "q5.b.check()"
      ]
    },
    {
      "cell_type": "markdown",
      "metadata": {
        "id": "MK2u5ib7ce0v"
      },
      "source": [
        "## 6. Verifique se duas amostras são da mesma população.\n",
        "É provável que as amostras 2 e 3 tenham vindo de uma mesma população? Justifique.\n",
        "\n",
        "Essa atividade não tem `check`, mas você pode pedir dicas com `q6.hint()`"
      ]
    },
    {
      "cell_type": "code",
      "execution_count": null,
      "metadata": {
        "id": "YDewtgaGce0w"
      },
      "outputs": [],
      "source": [
        "# q6.hint()"
      ]
    },
    {
      "cell_type": "markdown",
      "metadata": {
        "id": "tiX-8REZce0w"
      },
      "source": [
        "### Resposta para questão 6:\n"
      ]
    }
  ],
  "metadata": {
    "colab": {
      "provenance": []
    },
    "interpreter": {
      "hash": "aee8b7b246df8f9039afb4144a1f6fd8d2ca17a180786b69acc140d282b71a49"
    },
    "kernelspec": {
      "display_name": "Python 3.9.12 64-bit",
      "language": "python",
      "name": "python3"
    },
    "language_info": {
      "codemirror_mode": {
        "name": "ipython",
        "version": 3
      },
      "file_extension": ".py",
      "mimetype": "text/x-python",
      "name": "python",
      "nbconvert_exporter": "python",
      "pygments_lexer": "ipython3",
      "version": "3.9.12"
    }
  },
  "nbformat": 4,
  "nbformat_minor": 0
}