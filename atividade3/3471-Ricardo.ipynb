{
  "cells": [
    {
      "cell_type": "markdown",
      "metadata": {
        "id": "B7ekE2pBce0f"
      },
      "source": [
        "> Introdução à Ciência dos Dados \\\n",
        "> Ciência da Computação – UFV/Florestal\n",
        "\n",
        "\n",
        "* **Nome:** %s\n",
        "* **Matrícula:**  %d\n",
        "\n",
        "# Aula Prática 03\n",
        "##  Teorema Central do Limite\n",
        "\n",
        "**Objetivo:** Aplicar os conceitos do teorema central do limite para inferir conhecimento sobre uma população. \\\n",
        "**Pré-requisitos:** Linguagem de programação Python, estatística básica \\\n",
        "**Meta:** Ao final da prática, o aluno será capaz de utilizar ferramentas de análise de dados para inferir características de uma população a partir de amostras, e também de verificar se uma amostra pertence ou não a determinada população.\n",
        "\n",
        "----"
      ]
    },
    {
      "cell_type": "code",
      "source": [
        "### NÃO REMOVA ESSA CÉLULA! ####\n",
        "!pip --no-cache-dir install --upgrade learntools_dados_ufv\n",
        "\n",
        "!wget https://raw.githubusercontent.com/gfviegas/CCF425-resources/master/p3/renda_populacao.csv\n",
        "!wget https://raw.githubusercontent.com/gfviegas/CCF425-resources/master/p3/renda_amostra1.csv\n",
        "\n",
        "!wget https://raw.githubusercontent.com/gfviegas/CCF425-resources/master/p3/pesos_populacao.csv\n",
        "!wget https://raw.githubusercontent.com/gfviegas/CCF425-resources/master/p3/pesos_amostra1.csv\n",
        "!wget https://raw.githubusercontent.com/gfviegas/CCF425-resources/master/p3/pesos_amostra2.csv\n",
        "!wget https://raw.githubusercontent.com/gfviegas/CCF425-resources/master/p3/pesos_amostra3.csv\n",
        "!wget https://raw.githubusercontent.com/gfviegas/CCF425-resources/master/p3/pesos_amostra4.csv"
      ],
      "metadata": {
        "id": "JWrndYx6csMf",
        "colab": {
          "base_uri": "https://localhost:8080/"
        },
        "outputId": "3a0d42d8-16d0-482d-c803-fad589d5ea25"
      },
      "execution_count": 58,
      "outputs": [
        {
          "output_type": "stream",
          "name": "stdout",
          "text": [
            "Looking in indexes: https://pypi.org/simple, https://us-python.pkg.dev/colab-wheels/public/simple/\n",
            "Requirement already satisfied: learntools_dados_ufv in /usr/local/lib/python3.9/dist-packages (1.0.10)\n",
            "--2023-04-05 20:25:34--  https://raw.githubusercontent.com/gfviegas/CCF425-resources/master/p3/renda_populacao.csv\n",
            "Resolving raw.githubusercontent.com (raw.githubusercontent.com)... 185.199.110.133, 185.199.108.133, 185.199.109.133, ...\n",
            "Connecting to raw.githubusercontent.com (raw.githubusercontent.com)|185.199.110.133|:443... connected.\n",
            "HTTP request sent, awaiting response... 200 OK\n",
            "Length: 88501 (86K) [text/plain]\n",
            "Saving to: ‘renda_populacao.csv.1’\n",
            "\n",
            "renda_populacao.csv 100%[===================>]  86.43K  --.-KB/s    in 0.002s  \n",
            "\n",
            "2023-04-05 20:25:34 (37.4 MB/s) - ‘renda_populacao.csv.1’ saved [88501/88501]\n",
            "\n",
            "--2023-04-05 20:25:34--  https://raw.githubusercontent.com/gfviegas/CCF425-resources/master/p3/renda_amostra1.csv\n",
            "Resolving raw.githubusercontent.com (raw.githubusercontent.com)... 185.199.108.133, 185.199.109.133, 185.199.110.133, ...\n",
            "Connecting to raw.githubusercontent.com (raw.githubusercontent.com)|185.199.108.133|:443... connected.\n",
            "HTTP request sent, awaiting response... 200 OK\n",
            "Length: 877 [text/plain]\n",
            "Saving to: ‘renda_amostra1.csv.1’\n",
            "\n",
            "renda_amostra1.csv. 100%[===================>]     877  --.-KB/s    in 0s      \n",
            "\n",
            "2023-04-05 20:25:34 (41.0 MB/s) - ‘renda_amostra1.csv.1’ saved [877/877]\n",
            "\n",
            "--2023-04-05 20:25:34--  https://raw.githubusercontent.com/gfviegas/CCF425-resources/master/p3/pesos_populacao.csv\n",
            "Resolving raw.githubusercontent.com (raw.githubusercontent.com)... 185.199.108.133, 185.199.109.133, 185.199.110.133, ...\n",
            "Connecting to raw.githubusercontent.com (raw.githubusercontent.com)|185.199.108.133|:443... connected.\n",
            "HTTP request sent, awaiting response... 200 OK\n",
            "Length: 70000 (68K) [text/plain]\n",
            "Saving to: ‘pesos_populacao.csv.1’\n",
            "\n",
            "pesos_populacao.csv 100%[===================>]  68.36K  --.-KB/s    in 0.001s  \n",
            "\n",
            "2023-04-05 20:25:34 (48.3 MB/s) - ‘pesos_populacao.csv.1’ saved [70000/70000]\n",
            "\n",
            "--2023-04-05 20:25:35--  https://raw.githubusercontent.com/gfviegas/CCF425-resources/master/p3/pesos_amostra1.csv\n",
            "Resolving raw.githubusercontent.com (raw.githubusercontent.com)... 185.199.108.133, 185.199.109.133, 185.199.110.133, ...\n",
            "Connecting to raw.githubusercontent.com (raw.githubusercontent.com)|185.199.108.133|:443... connected.\n",
            "HTTP request sent, awaiting response... 200 OK\n",
            "Length: 700 [text/plain]\n",
            "Saving to: ‘pesos_amostra1.csv.1’\n",
            "\n",
            "pesos_amostra1.csv. 100%[===================>]     700  --.-KB/s    in 0s      \n",
            "\n",
            "2023-04-05 20:25:35 (34.9 MB/s) - ‘pesos_amostra1.csv.1’ saved [700/700]\n",
            "\n",
            "--2023-04-05 20:25:35--  https://raw.githubusercontent.com/gfviegas/CCF425-resources/master/p3/pesos_amostra2.csv\n",
            "Resolving raw.githubusercontent.com (raw.githubusercontent.com)... 185.199.110.133, 185.199.108.133, 185.199.109.133, ...\n",
            "Connecting to raw.githubusercontent.com (raw.githubusercontent.com)|185.199.110.133|:443... connected.\n",
            "HTTP request sent, awaiting response... 200 OK\n",
            "Length: 608 [text/plain]\n",
            "Saving to: ‘pesos_amostra2.csv.1’\n",
            "\n",
            "pesos_amostra2.csv. 100%[===================>]     608  --.-KB/s    in 0s      \n",
            "\n",
            "2023-04-05 20:25:35 (41.6 MB/s) - ‘pesos_amostra2.csv.1’ saved [608/608]\n",
            "\n",
            "--2023-04-05 20:25:35--  https://raw.githubusercontent.com/gfviegas/CCF425-resources/master/p3/pesos_amostra3.csv\n",
            "Resolving raw.githubusercontent.com (raw.githubusercontent.com)... 185.199.108.133, 185.199.109.133, 185.199.110.133, ...\n",
            "Connecting to raw.githubusercontent.com (raw.githubusercontent.com)|185.199.108.133|:443... connected.\n",
            "HTTP request sent, awaiting response... 200 OK\n",
            "Length: 700 [text/plain]\n",
            "Saving to: ‘pesos_amostra3.csv.1’\n",
            "\n",
            "pesos_amostra3.csv. 100%[===================>]     700  --.-KB/s    in 0s      \n",
            "\n",
            "2023-04-05 20:25:35 (31.3 MB/s) - ‘pesos_amostra3.csv.1’ saved [700/700]\n",
            "\n",
            "--2023-04-05 20:25:35--  https://raw.githubusercontent.com/gfviegas/CCF425-resources/master/p3/pesos_amostra4.csv\n",
            "Resolving raw.githubusercontent.com (raw.githubusercontent.com)... 185.199.108.133, 185.199.109.133, 185.199.110.133, ...\n",
            "Connecting to raw.githubusercontent.com (raw.githubusercontent.com)|185.199.108.133|:443... connected.\n",
            "HTTP request sent, awaiting response... 200 OK\n",
            "Length: 700 [text/plain]\n",
            "Saving to: ‘pesos_amostra4.csv.1’\n",
            "\n",
            "pesos_amostra4.csv. 100%[===================>]     700  --.-KB/s    in 0s      \n",
            "\n",
            "2023-04-05 20:25:35 (37.2 MB/s) - ‘pesos_amostra4.csv.1’ saved [700/700]\n",
            "\n"
          ]
        }
      ]
    },
    {
      "cell_type": "code",
      "execution_count": 59,
      "metadata": {
        "id": "_X9J3UPRX7_6",
        "colab": {
          "base_uri": "https://localhost:8080/"
        },
        "outputId": "7e4e6daf-d3ff-4269-bdb4-2e370531276a"
      },
      "outputs": [
        {
          "output_type": "stream",
          "name": "stderr",
          "text": [
            "WARNING:root:Ignoring repeated attempt to bind to globals\n"
          ]
        }
      ],
      "source": [
        "#### Não altere essa célula!!! ####\n",
        "import pandas as pd\n",
        "import numpy as np\n",
        "import matplotlib.pyplot as plt\n",
        "import seaborn as sns\n",
        "\n",
        "\n",
        "from learntools_dados_ufv.core import binder; binder.bind(globals())\n",
        "from learntools_dados_ufv.ccf425.pratica_3 import *"
      ]
    },
    {
      "cell_type": "markdown",
      "metadata": {
        "id": "AwbsSFyfce0j"
      },
      "source": [
        "# Roteiro"
      ]
    },
    {
      "cell_type": "markdown",
      "metadata": {
        "id": "CHMN-XCice0k"
      },
      "source": [
        "## Leitura dos dados\n",
        "Veja os dados do arquivo `renda_populacao.csv`. \n",
        "\n",
        "Use a opção `squeeze=True` para obter uma Série do arquivo e não um DataFrame (comportamento default). Note que não possui cabeçalhos."
      ]
    },
    {
      "cell_type": "code",
      "execution_count": 60,
      "metadata": {
        "id": "WPytsVToce0k",
        "outputId": "05f14ad6-7056-4769-ce66-ca5261fd6c94",
        "colab": {
          "base_uri": "https://localhost:8080/"
        }
      },
      "outputs": [
        {
          "output_type": "stream",
          "name": "stderr",
          "text": [
            "<ipython-input-60-e30f9c6ac499>:1: FutureWarning: The squeeze argument has been deprecated and will be removed in a future version. Append .squeeze(\"columns\") to the call to squeeze.\n",
            "\n",
            "\n",
            "  series = pd.read_csv('./renda_populacao.csv', index_col=False, header=None, squeeze=True)\n"
          ]
        },
        {
          "output_type": "execute_result",
          "data": {
            "text/plain": [
              "0        9536.34\n",
              "1      267273.60\n",
              "2       39596.61\n",
              "3       24992.04\n",
              "4        9286.11\n",
              "          ...   \n",
              "9995    31717.13\n",
              "9996    30511.21\n",
              "9997     9335.55\n",
              "9998     9905.62\n",
              "9999   122687.20\n",
              "Name: 0, Length: 10000, dtype: float64"
            ]
          },
          "metadata": {},
          "execution_count": 60
        }
      ],
      "source": [
        "series = pd.read_csv('./renda_populacao.csv', index_col=False, header=None, squeeze=True)\n",
        "series"
      ]
    },
    {
      "cell_type": "markdown",
      "metadata": {
        "id": "XJam9X9Rce0l"
      },
      "source": [
        "## Explorar os dados com base em estatísticas descritivas\n",
        "\n",
        "Observação: para formatar a saída dos números reais no pandas, utilizar o comando: `pd.options.display.float_format = \"{:.2f}\".format`\n"
      ]
    },
    {
      "cell_type": "code",
      "execution_count": 61,
      "metadata": {
        "id": "mXO_Ud9zce0m",
        "outputId": "efb4d384-efd4-462d-b2d0-651ea04e1acd",
        "colab": {
          "base_uri": "https://localhost:8080/"
        }
      },
      "outputs": [
        {
          "output_type": "execute_result",
          "data": {
            "text/plain": [
              "count     10000.00\n",
              "mean      36210.55\n",
              "std       46539.07\n",
              "min         391.72\n",
              "25%       11205.69\n",
              "50%       22006.79\n",
              "75%       43049.55\n",
              "max     1119768.63\n",
              "Name: 0, dtype: float64"
            ]
          },
          "metadata": {},
          "execution_count": 61
        }
      ],
      "source": [
        "pd.options.display.float_format = \"{:.2f}\".format\n",
        "\n",
        "series.describe()"
      ]
    },
    {
      "cell_type": "markdown",
      "metadata": {
        "id": "0-cPTAN8ce0m"
      },
      "source": [
        "## Plotar a distribuição dessa população\n",
        "\n",
        "Observação: Por enquanto vamos simplesmente aceitar esse código usando as bibliotecas _matplotlib_ e _seaborn_. Depois vamos entender melhor como gerar gráficos."
      ]
    },
    {
      "cell_type": "code",
      "execution_count": 62,
      "metadata": {
        "id": "f0EZo97Lce0n",
        "colab": {
          "base_uri": "https://localhost:8080/",
          "height": 506
        },
        "outputId": "f8a6329a-b8f5-4589-8908-af425049c61e"
      },
      "outputs": [
        {
          "output_type": "display_data",
          "data": {
            "text/plain": [
              "<Figure size 500x500 with 1 Axes>"
            ],
            "image/png": "[encoded data removed]"
          },
          "metadata": {}
        }
      ],
      "source": [
        "def plot_dist_data(data):\n",
        "    ax = sns.displot(data)\n",
        "    ax.set(xlabel=\"Renda\", ylabel=\"Frequência\")\n",
        "\n",
        "    plt.show()\n",
        "\n",
        "\n",
        "plot_dist_data(series)"
      ]
    },
    {
      "cell_type": "markdown",
      "metadata": {
        "id": "PD-SIyvTce0n"
      },
      "source": [
        "## Plotar uma amostra dessa população de tamanho 10\n",
        "\n",
        "Note que a amostragem é aleatória, e portanto, em cada execução vai gerar um gráfico diferente."
      ]
    },
    {
      "cell_type": "code",
      "execution_count": 63,
      "metadata": {
        "id": "3l7cYnhjce0n",
        "colab": {
          "base_uri": "https://localhost:8080/"
        },
        "outputId": "91e04ba3-ce98-4c66-fc26-f2ac4d5c6445"
      },
      "outputs": [
        {
          "output_type": "execute_result",
          "data": {
            "text/plain": [
              "5482    71258.24\n",
              "1435    25063.34\n",
              "6991     8159.67\n",
              "6318    17915.75\n",
              "5162     2810.01\n",
              "          ...   \n",
              "3419    13829.36\n",
              "2743    24921.46\n",
              "1011    53395.67\n",
              "4983   106990.75\n",
              "2389    33220.44\n",
              "Name: 0, Length: 100, dtype: float64"
            ]
          },
          "metadata": {},
          "execution_count": 63
        }
      ],
      "source": [
        "# Gera uma amostra de tamanho 100 dos dados. \n",
        "sample = series.sample(100)\n",
        "sample"
      ]
    },
    {
      "cell_type": "code",
      "execution_count": 64,
      "metadata": {
        "id": "3DOjbUaqce0o",
        "colab": {
          "base_uri": "https://localhost:8080/",
          "height": 506
        },
        "outputId": "f1f9ab04-18c2-4bff-b8d4-e74b79a0e01f"
      },
      "outputs": [
        {
          "output_type": "display_data",
          "data": {
            "text/plain": [
              "<Figure size 500x500 with 1 Axes>"
            ],
            "image/png": "[encoded data removed]"
          },
          "metadata": {}
        }
      ],
      "source": [
        "# Plota de fato a amostra\n",
        "plot_dist_data(sample)"
      ]
    },
    {
      "cell_type": "markdown",
      "metadata": {
        "id": "ifEeRfWLce0o"
      },
      "source": [
        "## Explorar os dados com base em estatísticas descritivas da amostra\n",
        "\n",
        "Veja a média da amostra. Esse valor está dentro do esperado para a população?\n",
        "\n",
        "Repita os últimos 3 passos (gerar amostra, plotar amostra, calcular média da amostra) algumas vezes para verificar o que acontece com a média. \n",
        "\n",
        "> Observação: os resultados de cada execução serão diferentes, pois estamos pegando amostras aleatórias."
      ]
    },
    {
      "cell_type": "code",
      "execution_count": 65,
      "metadata": {
        "id": "hY5UGk9mce0p",
        "colab": {
          "base_uri": "https://localhost:8080/"
        },
        "outputId": "e3a44ab3-063e-463f-d318-e1ee3f312012"
      },
      "outputs": [
        {
          "output_type": "execute_result",
          "data": {
            "text/plain": [
              "count      100.00\n",
              "mean     34894.86\n",
              "std      40761.48\n",
              "min       2007.63\n",
              "25%      11812.06\n",
              "50%      21577.36\n",
              "75%      49894.82\n",
              "max     318878.13\n",
              "Name: 0, dtype: float64"
            ]
          },
          "metadata": {},
          "execution_count": 65
        }
      ],
      "source": [
        "sample.describe()"
      ]
    },
    {
      "cell_type": "markdown",
      "metadata": {
        "id": "imXBatyzce0p"
      },
      "source": [
        "## Gerar métricas de um conjunto de amostras aleatórias\n",
        "\n",
        "Vamos gerar 50 amostras aleatórias da população, calcular a média de cada amostra, plotar a distribuição das médias, e calcular a média das médias das amostras e o erro padrão."
      ]
    },
    {
      "cell_type": "code",
      "execution_count": 66,
      "metadata": {
        "id": "_vq_l-dkce0p",
        "colab": {
          "base_uri": "https://localhost:8080/",
          "height": 561
        },
        "outputId": "8be95aa1-3799-4d20-ca38-e48620d8d2e3"
      },
      "outputs": [
        {
          "output_type": "stream",
          "name": "stdout",
          "text": [
            "Média das médias: 35888.50\n",
            "Erro padrão: 6581.62\n"
          ]
        },
        {
          "output_type": "display_data",
          "data": {
            "text/plain": [
              "<Figure size 500x500 with 1 Axes>"
            ],
            "image/png": "[encoded data removed]"
          },
          "metadata": {}
        }
      ],
      "source": [
        "# Gerar N amostras de tamanho T e plota as médias das amostras\n",
        "def analyze_samples(N=50, T=100):\n",
        "    # Gera N amostras diferentes de tamanho T\n",
        "    samples_list = [series.sample(T) for _i in range(0, N)]\n",
        "    # Gera uma lista com a média de cada uma das amostras acima\n",
        "    means_of_samples = [s.mean() for s in samples_list]\n",
        "\n",
        "    # Média das médias\n",
        "    mean_of_means = np.mean(means_of_samples)\n",
        "\n",
        "    # Erro padrão\n",
        "    std_error = series.std() / np.sqrt(len(means_of_samples))\n",
        "\n",
        "    print(\"Média das médias: {:.2f}\".format(mean_of_means))\n",
        "    print(\"Erro padrão: {:.2f}\".format(std_error))\n",
        "\n",
        "    plot_dist_data(means_of_samples)\n",
        "\n",
        "\n",
        "\n",
        "analyze_samples(50, 100)"
      ]
    },
    {
      "cell_type": "markdown",
      "metadata": {
        "id": "cB69YZjsce0q"
      },
      "source": [
        "## Analisar o conjunto de amostras\n",
        "Repita a célula anterior algumas vezes. Observe o gráfico.\n",
        "\n",
        "- Ele segue a distribuição Normal?\n",
        "- As médias das médias das amostras estão próximas da média da população?\n",
        "- E os erros padrões?\n"
      ]
    },
    {
      "cell_type": "markdown",
      "metadata": {
        "id": "zM6ddcFBce0q"
      },
      "source": [
        "## Veja amostras maiores\n",
        "Repita o processo apresentado (de gerar amostras, calcular médias e ver gráficos), mas agora com um número maior de amostras (100, 250, 500). \n",
        "\n",
        "Podemos observar que a distribuição das médias se aproxima mais da distribuição Normal? E o que acontece com o erro padrão?"
      ]
    },
    {
      "cell_type": "code",
      "execution_count": 67,
      "metadata": {
        "id": "p3No6jtMce0q",
        "colab": {
          "base_uri": "https://localhost:8080/",
          "height": 561
        },
        "outputId": "987cea53-6aa4-40ae-ed61-b204432a38d6"
      },
      "outputs": [
        {
          "output_type": "stream",
          "name": "stdout",
          "text": [
            "Média das médias: 36595.16\n",
            "Erro padrão: 4653.91\n"
          ]
        },
        {
          "output_type": "display_data",
          "data": {
            "text/plain": [
              "<Figure size 500x500 with 1 Axes>"
            ],
            "image/png": "[encoded data removed]"
          },
          "metadata": {}
        }
      ],
      "source": [
        "analyze_samples(N=100)"
      ]
    },
    {
      "cell_type": "code",
      "execution_count": 68,
      "metadata": {
        "id": "-5wUXhcece0q",
        "colab": {
          "base_uri": "https://localhost:8080/",
          "height": 561
        },
        "outputId": "3d6e9e44-b223-4382-ac0c-b7352e21ac84"
      },
      "outputs": [
        {
          "output_type": "stream",
          "name": "stdout",
          "text": [
            "Média das médias: 36042.51\n",
            "Erro padrão: 2943.39\n"
          ]
        },
        {
          "output_type": "display_data",
          "data": {
            "text/plain": [
              "<Figure size 500x500 with 1 Axes>"
            ],
            "image/png": "[encoded data removed]"
          },
          "metadata": {}
        }
      ],
      "source": [
        "analyze_samples(N=250)"
      ]
    },
    {
      "cell_type": "code",
      "execution_count": 69,
      "metadata": {
        "id": "oTNyivXece0r",
        "colab": {
          "base_uri": "https://localhost:8080/",
          "height": 561
        },
        "outputId": "c61e261e-4c4b-449e-a74b-ebe027738b0e"
      },
      "outputs": [
        {
          "output_type": "stream",
          "name": "stdout",
          "text": [
            "Média das médias: 36220.34\n",
            "Erro padrão: 2081.29\n"
          ]
        },
        {
          "output_type": "display_data",
          "data": {
            "text/plain": [
              "<Figure size 500x500 with 1 Axes>"
            ],
            "image/png": "[encoded data removed]"
          },
          "metadata": {}
        }
      ],
      "source": [
        "analyze_samples(N=500)"
      ]
    },
    {
      "cell_type": "markdown",
      "metadata": {
        "id": "cxH2JZ8sce0r"
      },
      "source": [
        "## Verificar se uma amostra pertence a população\n",
        "\n",
        "Leia o arquivo de amostra de rendas (renda_amostra1.csv). Verifique se essa amostra faz parte da população de renda (renda.csv) ou não: \n",
        "1. Calcule a média e o erro padrão;\n",
        "2. Verifique a quantos erros da média da população a média da amostra está;\n"
      ]
    },
    {
      "cell_type": "code",
      "execution_count": 70,
      "metadata": {
        "id": "Oqrrz41Bce0r",
        "colab": {
          "base_uri": "https://localhost:8080/"
        },
        "outputId": "bd3dc90b-64fb-42d7-c759-e8535421d627"
      },
      "outputs": [
        {
          "output_type": "stream",
          "name": "stderr",
          "text": [
            "<ipython-input-70-d1e2fb53ff59>:1: FutureWarning: The squeeze argument has been deprecated and will be removed in a future version. Append .squeeze(\"columns\") to the call to squeeze.\n",
            "\n",
            "\n",
            "  sample_1 = pd.read_csv(\"./renda_amostra1.csv\", index_col=False, header=None, squeeze=True)\n"
          ]
        },
        {
          "output_type": "execute_result",
          "data": {
            "text/plain": [
              "0      4462.94\n",
              "1     28223.57\n",
              "2     64744.10\n",
              "3      4326.30\n",
              "4      6050.94\n",
              "        ...   \n",
              "95     6257.41\n",
              "96     7002.31\n",
              "97     2489.48\n",
              "98    59734.25\n",
              "99   194382.99\n",
              "Name: 0, Length: 100, dtype: float64"
            ]
          },
          "metadata": {},
          "execution_count": 70
        }
      ],
      "source": [
        "sample_1 = pd.read_csv(\"./renda_amostra1.csv\", index_col=False, header=None, squeeze=True)\n",
        "sample_1"
      ]
    },
    {
      "cell_type": "code",
      "execution_count": 71,
      "metadata": {
        "id": "3MUPPamRce0r",
        "colab": {
          "base_uri": "https://localhost:8080/"
        },
        "outputId": "28e8ceac-6610-4bb6-d028-15b78970ead2"
      },
      "outputs": [
        {
          "output_type": "stream",
          "name": "stdout",
          "text": [
            "Média da população: 36210.55\n",
            "Média da amostra: 35515.00\n",
            "Erro padrão: 4653.91\n"
          ]
        }
      ],
      "source": [
        "series_mean = series.mean()\n",
        "sample_1_mean = sample_1.mean()\n",
        "std_error = series.std() / np.sqrt(len(sample_1))\n",
        "\n",
        "print(\"Média da população: {:.2f}\".format(series_mean))\n",
        "print(\"Média da amostra: {:.2f}\".format(sample_1_mean))\n",
        "print(\"Erro padrão: {:.2f}\".format(std_error))"
      ]
    },
    {
      "cell_type": "code",
      "execution_count": 72,
      "metadata": {
        "id": "WG8FPQSWce0s",
        "colab": {
          "base_uri": "https://localhost:8080/"
        },
        "outputId": "9418a29a-c530-4614-8ffb-6b11236a0e33"
      },
      "outputs": [
        {
          "output_type": "stream",
          "name": "stdout",
          "text": [
            "A diferença entre a média da população e da amostra é de 0.1495 erros padrão\n"
          ]
        }
      ],
      "source": [
        "# Calcula a diferença entre a média da população e da amostra, em termos do erro padrão.\n",
        "std_error_distance = abs(series_mean - sample_1_mean) / std_error\n",
        "\n",
        "print(\"A diferença entre a média da população e da amostra é de {:.4f} erros padrão\".format(std_error_distance))"
      ]
    },
    {
      "cell_type": "markdown",
      "metadata": {
        "id": "8aG5nMG5ce0s"
      },
      "source": [
        "# Exercícios"
      ]
    },
    {
      "cell_type": "markdown",
      "metadata": {
        "id": "3LWiNtDCX7_7"
      },
      "source": [
        "## 1. Leia os dados de uma população de pesos (_pesos_populacao.csv_)\n",
        "Armazene na variável `population_weight`. \n",
        "\n",
        "Chame a função `q1.check()` no fim da célula para verificar a resposta.\n",
        "Você pode pedir dicas com `q1.hint()`"
      ]
    },
    {
      "cell_type": "code",
      "execution_count": 73,
      "metadata": {
        "id": "ja1KJaDIce0s",
        "colab": {
          "base_uri": "https://localhost:8080/",
          "height": 361
        },
        "outputId": "5b4ca2b9-8abc-4a98-ab82-6880e38e6393"
      },
      "outputs": [
        {
          "output_type": "stream",
          "name": "stdout",
          "text": [
            "count   10000.00\n",
            "mean      161.99\n",
            "std        15.05\n",
            "min       103.25\n",
            "25%       151.95\n",
            "50%       161.93\n",
            "75%       172.20\n",
            "max       220.32\n",
            "Name: 0, dtype: float64\n"
          ]
        },
        {
          "output_type": "stream",
          "name": "stderr",
          "text": [
            "<ipython-input-73-6a77b1e44df6>:3: FutureWarning: The squeeze argument has been deprecated and will be removed in a future version. Append .squeeze(\"columns\") to the call to squeeze.\n",
            "\n",
            "\n",
            "  population_weight = pd.read_csv('./pesos_populacao.csv', index_col=False, header=None, squeeze=True)\n",
            "/usr/local/lib/python3.9/dist-packages/learntools_dados_ufv/ccf425/pratica_3.py:15: FutureWarning: The squeeze argument has been deprecated and will be removed in a future version. Append .squeeze(\"columns\") to the call to squeeze.\n",
            "\n",
            "\n",
            "  assert_series_equals(population_weight, pd.read_csv('./pesos_populacao.csv', header=None, squeeze=True), name='population_weight')\n"
          ]
        },
        {
          "output_type": "display_data",
          "data": {
            "text/plain": [
              "<IPython.core.display.Javascript object>"
            ],
            "application/javascript": [
              "parent.postMessage({\"jupyterEvent\": \"custom.exercise_interaction\", \"data\": {\"outcomeType\": 1, \"valueTowardsCompletion\": 0.5, \"interactionType\": 1, \"questionType\": 2, \"questionId\": \"1_Q1\", \"learnToolsVersion\": \"1.0.10\", \"failureMessage\": \"\", \"exceptionClass\": \"\", \"trace\": \"\"}}, \"*\")"
            ]
          },
          "metadata": {}
        },
        {
          "output_type": "display_data",
          "data": {
            "text/plain": [
              "CORRETO: \n"
            ],
            "text/markdown": "<span style=\"color:#33cc33\">CORRETO:</span> \n\n"
          },
          "metadata": {}
        }
      ],
      "source": [
        "# q1.hint()\n",
        "\n",
        "population_weight = pd.read_csv('./pesos_populacao.csv', index_col=False, header=None, squeeze=True)\n",
        "# display(population_weight)\n",
        "print(population_weight.describe())\n",
        "\n",
        "q1.check()"
      ]
    },
    {
      "cell_type": "markdown",
      "metadata": {
        "id": "wPZMt8Fpce0s"
      },
      "source": [
        "## 2. Analise a `Amostra 1`\n",
        "Essa é uma atividade com múltiplas questões."
      ]
    },
    {
      "cell_type": "markdown",
      "metadata": {
        "id": "Qdz528Ecce0t"
      },
      "source": [
        "### 2.a. Leia o arquivo com os dados da amostra.\n",
        "Armazene na variável `sample_1_weight`. \n",
        "\n",
        "Chame a função `q2.a.check()` no fim da célula para verificar a resposta.\n",
        "Você pode pedir dicas com `q2.a.hint()`"
      ]
    },
    {
      "cell_type": "code",
      "execution_count": 74,
      "metadata": {
        "id": "5xuRkwaJce0t",
        "colab": {
          "base_uri": "https://localhost:8080/",
          "height": 361
        },
        "outputId": "3dc7f270-edd4-4dc2-c2e8-c016bed38021"
      },
      "outputs": [
        {
          "output_type": "stream",
          "name": "stdout",
          "text": [
            "count   100.00\n",
            "mean    161.89\n",
            "std      15.94\n",
            "min     125.68\n",
            "25%     149.62\n",
            "50%     161.34\n",
            "75%     171.39\n",
            "max     207.76\n",
            "Name: 0, dtype: float64\n"
          ]
        },
        {
          "output_type": "stream",
          "name": "stderr",
          "text": [
            "<ipython-input-74-85dbef5b8122>:3: FutureWarning: The squeeze argument has been deprecated and will be removed in a future version. Append .squeeze(\"columns\") to the call to squeeze.\n",
            "\n",
            "\n",
            "  sample_1_weight = pd.read_csv('./pesos_amostra1.csv', index_col=False, header=None, squeeze=True)\n",
            "/usr/local/lib/python3.9/dist-packages/learntools_dados_ufv/ccf425/pratica_3.py:26: FutureWarning: The squeeze argument has been deprecated and will be removed in a future version. Append .squeeze(\"columns\") to the call to squeeze.\n",
            "\n",
            "\n",
            "  assert_series_equals(sample_1_weight, pd.read_csv('./pesos_amostra1.csv', header=None, squeeze=True), name='sample_1_weight')\n"
          ]
        },
        {
          "output_type": "display_data",
          "data": {
            "text/plain": [
              "<IPython.core.display.Javascript object>"
            ],
            "application/javascript": [
              "parent.postMessage({\"jupyterEvent\": \"custom.exercise_interaction\", \"data\": {\"outcomeType\": 1, \"valueTowardsCompletion\": 0.5, \"interactionType\": 1, \"questionType\": 2, \"questionId\": \"2.1_Q2A\", \"learnToolsVersion\": \"1.0.10\", \"failureMessage\": \"\", \"exceptionClass\": \"\", \"trace\": \"\"}}, \"*\")"
            ]
          },
          "metadata": {}
        },
        {
          "output_type": "display_data",
          "data": {
            "text/plain": [
              "CORRETO: \n"
            ],
            "text/markdown": "<span style=\"color:#33cc33\">CORRETO:</span> \n\n"
          },
          "metadata": {}
        }
      ],
      "source": [
        "# q2.a.hint()\n",
        "\n",
        "sample_1_weight = pd.read_csv('./pesos_amostra1.csv', index_col=False, header=None, squeeze=True)\n",
        "# display(sample_1_weight)\n",
        "print(sample_1_weight.describe())\n",
        "\n",
        "q2.a.check()"
      ]
    },
    {
      "cell_type": "markdown",
      "source": [
        "### Função para checar se pertence a população."
      ],
      "metadata": {
        "id": "GGKfd-zYrlyP"
      }
    },
    {
      "cell_type": "markdown",
      "source": [
        "O erro padrão mede a provável distancia que a média amostral está da populacional.\n",
        "\"*Distance*\" calcula o número de desvios (ou erros padrões) que a média amostral está afastada da média populacional"
      ],
      "metadata": {
        "id": "60LBKOOB-QKE"
      }
    },
    {
      "cell_type": "code",
      "source": [
        "def check_from_population(sample, population):\n",
        "  population_mean = population.mean();\n",
        "  sample_mean = sample.mean();\n",
        "  error = population.std() / np.sqrt(len(sample));\n",
        "  print(\"Error: \", error)\n",
        "  distance = abs(population_mean - sample_mean) / error;\n",
        "  print(\"Distance: \",distance)\n",
        "  return True if distance < 3*error else False"
      ],
      "metadata": {
        "id": "rYhX2mxmrsIj"
      },
      "execution_count": 75,
      "outputs": []
    },
    {
      "cell_type": "markdown",
      "metadata": {
        "id": "k3vFLM4uce0t"
      },
      "source": [
        "### 2.b. Verifique se a amostra pertence a população.\n",
        "A amostra foi retirada ou não da população de pesos? Justifique\n",
        "\n",
        "Armazene a resposta booleana na variável `is_sample_1_from_population`. \n",
        "\n",
        "\n",
        "Chame a função `q2.b.check()` no fim da célula para verificar a resposta.\n",
        "Você pode pedir dicas com `q2.b.hint(n)` onde n é o número da dica.\n",
        "\n",
        "> OBS: Mesmo que o corretor aceite respostas booleanas (e você pode \"_roubar_\" testando a resposta antes), será analisado também a justificativa."
      ]
    },
    {
      "cell_type": "code",
      "execution_count": 76,
      "metadata": {
        "id": "JLL_kWbQce0t",
        "colab": {
          "base_uri": "https://localhost:8080/",
          "height": 98
        },
        "outputId": "8d4b9eda-bbfa-430e-e22b-ae508b7cb26f"
      },
      "outputs": [
        {
          "output_type": "stream",
          "name": "stdout",
          "text": [
            "Error:  1.504760320187408\n",
            "Distance:  0.06787193856048412\n"
          ]
        },
        {
          "output_type": "display_data",
          "data": {
            "text/plain": [
              "True"
            ]
          },
          "metadata": {}
        },
        {
          "output_type": "display_data",
          "data": {
            "text/plain": [
              "<IPython.core.display.Javascript object>"
            ],
            "application/javascript": [
              "parent.postMessage({\"jupyterEvent\": \"custom.exercise_interaction\", \"data\": {\"outcomeType\": 1, \"valueTowardsCompletion\": 0.5, \"interactionType\": 1, \"questionType\": 1, \"questionId\": \"2.2_Q2B\", \"learnToolsVersion\": \"1.0.10\", \"failureMessage\": \"\", \"exceptionClass\": \"\", \"trace\": \"\"}}, \"*\")"
            ]
          },
          "metadata": {}
        },
        {
          "output_type": "display_data",
          "data": {
            "text/plain": [
              "CORRETO: \n"
            ],
            "text/markdown": "<span style=\"color:#33cc33\">CORRETO:</span> \n\n"
          },
          "metadata": {}
        }
      ],
      "source": [
        "#q2.b.hint()\n",
        "\n",
        "is_sample_1_from_population = check_from_population(sample_1_weight, population_weight)\n",
        "display(is_sample_1_from_population)\n",
        "\n",
        "q2.b.check()"
      ]
    },
    {
      "cell_type": "markdown",
      "metadata": {
        "id": "8BhQK-xTce0t"
      },
      "source": [
        "## 3. Analise a `Amostra 2`\n",
        "Essa é uma atividade com múltiplas questões."
      ]
    },
    {
      "cell_type": "markdown",
      "metadata": {
        "id": "Goct_aTLce0t"
      },
      "source": [
        "### 3.a. Leia o arquivo com os dados da amostra.\n",
        "Armazene na variável `sample_2_weight`. \n",
        "\n",
        "Chame a função `q3.a.check()` no fim da célula para verificar a resposta.\n",
        "Você pode pedir dicas com `q3.a.hint()`"
      ]
    },
    {
      "cell_type": "code",
      "execution_count": 77,
      "metadata": {
        "id": "q2OynwLHce0u",
        "colab": {
          "base_uri": "https://localhost:8080/",
          "height": 414
        },
        "outputId": "732eccf7-c881-4b44-f0c9-762bf34517c0"
      },
      "outputs": [
        {
          "output_type": "stream",
          "name": "stderr",
          "text": [
            "<ipython-input-77-ba0b9796140b>:3: FutureWarning: The squeeze argument has been deprecated and will be removed in a future version. Append .squeeze(\"columns\") to the call to squeeze.\n",
            "\n",
            "\n",
            "  sample_2_weight = pd.read_csv('./pesos_amostra2.csv', index_col=False, header=None, squeeze=True)\n"
          ]
        },
        {
          "output_type": "display_data",
          "data": {
            "text/plain": [
              "0     57.05\n",
              "1     52.67\n",
              "2     90.12\n",
              "3     51.51\n",
              "4     72.91\n",
              "      ...  \n",
              "95   103.64\n",
              "96    80.51\n",
              "97    59.21\n",
              "98    97.96\n",
              "99    91.60\n",
              "Name: 0, Length: 100, dtype: float64"
            ]
          },
          "metadata": {}
        },
        {
          "output_type": "stream",
          "name": "stderr",
          "text": [
            "/usr/local/lib/python3.9/dist-packages/learntools_dados_ufv/ccf425/pratica_3.py:53: FutureWarning: The squeeze argument has been deprecated and will be removed in a future version. Append .squeeze(\"columns\") to the call to squeeze.\n",
            "\n",
            "\n",
            "  assert_series_equals(sample_2_weight, pd.read_csv('./pesos_amostra2.csv', header=None, squeeze=True), name='sample_2_weight')\n"
          ]
        },
        {
          "output_type": "display_data",
          "data": {
            "text/plain": [
              "<IPython.core.display.Javascript object>"
            ],
            "application/javascript": [
              "parent.postMessage({\"jupyterEvent\": \"custom.exercise_interaction\", \"data\": {\"outcomeType\": 1, \"valueTowardsCompletion\": 0.5, \"interactionType\": 1, \"questionType\": 2, \"questionId\": \"3.1_Q3A\", \"learnToolsVersion\": \"1.0.10\", \"failureMessage\": \"\", \"exceptionClass\": \"\", \"trace\": \"\"}}, \"*\")"
            ]
          },
          "metadata": {}
        },
        {
          "output_type": "display_data",
          "data": {
            "text/plain": [
              "CORRETO: \n"
            ],
            "text/markdown": "<span style=\"color:#33cc33\">CORRETO:</span> \n\n"
          },
          "metadata": {}
        }
      ],
      "source": [
        "# q3.a.hint()\n",
        "\n",
        "sample_2_weight = pd.read_csv('./pesos_amostra2.csv', index_col=False, header=None, squeeze=True)\n",
        "display(sample_2_weight)\n",
        "\n",
        "q3.a.check()"
      ]
    },
    {
      "cell_type": "markdown",
      "metadata": {
        "id": "weOh7rGWce0u"
      },
      "source": [
        "### 3.b. Verifique se a amostra pertence a população.\n",
        "A amostra foi retirada ou não da população de pesos? Justifique\n",
        "\n",
        "Armazene a resposta booleana na variável `is_sample_2_from_population`. \n",
        "\n",
        "\n",
        "Chame a função `q3.b.check()` no fim da célula para verificar a resposta.\n",
        "Você pode pedir dicas com `q3.b.hint(n)` onde n é o número da dica.\n",
        "\n",
        "> OBS: Mesmo que o corretor aceite respostas booleanas (e você pode \"_roubar_\" testando a resposta antes), será analisado também a justificativa."
      ]
    },
    {
      "cell_type": "code",
      "execution_count": 78,
      "metadata": {
        "id": "ADI57jIhce0u",
        "colab": {
          "base_uri": "https://localhost:8080/",
          "height": 98
        },
        "outputId": "d893a22d-8176-4427-e92b-5c7e5f0f697d"
      },
      "outputs": [
        {
          "output_type": "stream",
          "name": "stdout",
          "text": [
            "Error:  1.504760320187408\n",
            "Distance:  59.24766210534879\n"
          ]
        },
        {
          "output_type": "display_data",
          "data": {
            "text/plain": [
              "False"
            ]
          },
          "metadata": {}
        },
        {
          "output_type": "display_data",
          "data": {
            "text/plain": [
              "<IPython.core.display.Javascript object>"
            ],
            "application/javascript": [
              "parent.postMessage({\"jupyterEvent\": \"custom.exercise_interaction\", \"data\": {\"outcomeType\": 1, \"valueTowardsCompletion\": 0.5, \"interactionType\": 1, \"questionType\": 1, \"questionId\": \"3.2_Q3B\", \"learnToolsVersion\": \"1.0.10\", \"failureMessage\": \"\", \"exceptionClass\": \"\", \"trace\": \"\"}}, \"*\")"
            ]
          },
          "metadata": {}
        },
        {
          "output_type": "display_data",
          "data": {
            "text/plain": [
              "CORRETO: \n"
            ],
            "text/markdown": "<span style=\"color:#33cc33\">CORRETO:</span> \n\n"
          },
          "metadata": {}
        }
      ],
      "source": [
        "# q3.b.hint()\n",
        "\n",
        "is_sample_2_from_population = check_from_population(sample_2_weight, population_weight)\n",
        "display(is_sample_2_from_population)\n",
        "\n",
        "q3.b.check()"
      ]
    },
    {
      "cell_type": "markdown",
      "metadata": {
        "id": "D1S_zwDwce0u"
      },
      "source": [
        "## 4. Analise a `Amostra 3`\n",
        "Essa é uma atividade com múltiplas questões."
      ]
    },
    {
      "cell_type": "markdown",
      "metadata": {
        "id": "V4t4szWcce0u"
      },
      "source": [
        "### 4.a. Leia o arquivo com os dados da amostra.\n",
        "Armazene na variável `sample_3_weight`. \n",
        "\n",
        "Chame a função `q4.a.check()` no fim da célula para verificar a resposta.\n",
        "Você pode pedir dicas com `q4.a.hint()`"
      ]
    },
    {
      "cell_type": "code",
      "execution_count": 79,
      "metadata": {
        "id": "QTgIHUcOce0u",
        "colab": {
          "base_uri": "https://localhost:8080/",
          "height": 414
        },
        "outputId": "114f3a68-1a30-4dbd-8f1c-5110feb48a3e"
      },
      "outputs": [
        {
          "output_type": "stream",
          "name": "stderr",
          "text": [
            "<ipython-input-79-ef6a2553c576>:3: FutureWarning: The squeeze argument has been deprecated and will be removed in a future version. Append .squeeze(\"columns\") to the call to squeeze.\n",
            "\n",
            "\n",
            "  sample_3_weight = pd.read_csv('./pesos_amostra3.csv', index_col=False, header=None, squeeze=True)\n"
          ]
        },
        {
          "output_type": "display_data",
          "data": {
            "text/plain": [
              "0    214.26\n",
              "1    204.95\n",
              "2    216.39\n",
              "3    202.86\n",
              "4    190.51\n",
              "      ...  \n",
              "95   201.70\n",
              "96   221.31\n",
              "97   218.35\n",
              "98   213.32\n",
              "99   199.10\n",
              "Name: 0, Length: 100, dtype: float64"
            ]
          },
          "metadata": {}
        },
        {
          "output_type": "stream",
          "name": "stderr",
          "text": [
            "/usr/local/lib/python3.9/dist-packages/learntools_dados_ufv/ccf425/pratica_3.py:80: FutureWarning: The squeeze argument has been deprecated and will be removed in a future version. Append .squeeze(\"columns\") to the call to squeeze.\n",
            "\n",
            "\n",
            "  assert_series_equals(sample_3_weight, pd.read_csv('./pesos_amostra3.csv', header=None, squeeze=True), name='sample_3_weight')\n"
          ]
        },
        {
          "output_type": "display_data",
          "data": {
            "text/plain": [
              "<IPython.core.display.Javascript object>"
            ],
            "application/javascript": [
              "parent.postMessage({\"jupyterEvent\": \"custom.exercise_interaction\", \"data\": {\"outcomeType\": 1, \"valueTowardsCompletion\": 0.5, \"interactionType\": 1, \"questionType\": 2, \"questionId\": \"4.1_Q4A\", \"learnToolsVersion\": \"1.0.10\", \"failureMessage\": \"\", \"exceptionClass\": \"\", \"trace\": \"\"}}, \"*\")"
            ]
          },
          "metadata": {}
        },
        {
          "output_type": "display_data",
          "data": {
            "text/plain": [
              "CORRETO: \n"
            ],
            "text/markdown": "<span style=\"color:#33cc33\">CORRETO:</span> \n\n"
          },
          "metadata": {}
        }
      ],
      "source": [
        "# q4.a.hint()\n",
        "\n",
        "sample_3_weight = pd.read_csv('./pesos_amostra3.csv', index_col=False, header=None, squeeze=True)\n",
        "display(sample_3_weight)\n",
        "\n",
        "q4.a.check()"
      ]
    },
    {
      "cell_type": "markdown",
      "metadata": {
        "id": "X0-d7FOuce0v"
      },
      "source": [
        "### 4.b. Verifique se a amostra pertence a população.\n",
        "A amostra foi retirada ou não da população de pesos? Justifique\n",
        "\n",
        "Armazene a resposta booleana na variável `is_sample_3_from_population`. \n",
        "\n",
        "\n",
        "Chame a função `q4.b.check()` no fim da célula para verificar a resposta.\n",
        "Você pode pedir dicas com `q4.b.hint(n)` onde n é o número da dica.\n",
        "\n",
        "> OBS: Mesmo que o corretor aceite respostas booleanas (e você pode \"_roubar_\" testando a resposta antes), será analisado também a justificativa."
      ]
    },
    {
      "cell_type": "code",
      "execution_count": 80,
      "metadata": {
        "id": "FNlXSD_Qce0v",
        "colab": {
          "base_uri": "https://localhost:8080/",
          "height": 98
        },
        "outputId": "9680a199-c9fd-40c3-e951-232a16dea45b"
      },
      "outputs": [
        {
          "output_type": "stream",
          "name": "stdout",
          "text": [
            "Error:  1.504760320187408\n",
            "Distance:  32.04554795410499\n"
          ]
        },
        {
          "output_type": "display_data",
          "data": {
            "text/plain": [
              "False"
            ]
          },
          "metadata": {}
        },
        {
          "output_type": "display_data",
          "data": {
            "text/plain": [
              "<IPython.core.display.Javascript object>"
            ],
            "application/javascript": [
              "parent.postMessage({\"jupyterEvent\": \"custom.exercise_interaction\", \"data\": {\"outcomeType\": 1, \"valueTowardsCompletion\": 0.5, \"interactionType\": 1, \"questionType\": 1, \"questionId\": \"4.2_Q4B\", \"learnToolsVersion\": \"1.0.10\", \"failureMessage\": \"\", \"exceptionClass\": \"\", \"trace\": \"\"}}, \"*\")"
            ]
          },
          "metadata": {}
        },
        {
          "output_type": "display_data",
          "data": {
            "text/plain": [
              "CORRETO: \n"
            ],
            "text/markdown": "<span style=\"color:#33cc33\">CORRETO:</span> \n\n"
          },
          "metadata": {}
        }
      ],
      "source": [
        "# q4.b.hint()\n",
        "\n",
        "is_sample_3_from_population = check_from_population(sample_3_weight, population_weight)\n",
        "display(is_sample_3_from_population)\n",
        "\n",
        "q4.b.check()"
      ]
    },
    {
      "cell_type": "markdown",
      "metadata": {
        "id": "iqBcNmxIce0v"
      },
      "source": [
        "## 5. Analise a `Amostra 4`\n",
        "Essa é uma atividade com múltiplas questões."
      ]
    },
    {
      "cell_type": "markdown",
      "metadata": {
        "id": "bjUidZpice0v"
      },
      "source": [
        "### 5.a. Leia o arquivo com os dados da amostra.\n",
        "Armazene na variável `sample_4_weight`. \n",
        "\n",
        "Chame a função `q5.a.check()` no fim da célula para verificar a resposta.\n",
        "Você pode pedir dicas com `q5.a.hint()`"
      ]
    },
    {
      "cell_type": "code",
      "execution_count": 81,
      "metadata": {
        "id": "YvpvzigCce0v",
        "colab": {
          "base_uri": "https://localhost:8080/",
          "height": 414
        },
        "outputId": "831656eb-d14f-449b-fe83-4126f65201da"
      },
      "outputs": [
        {
          "output_type": "stream",
          "name": "stderr",
          "text": [
            "<ipython-input-81-97100ae5b571>:3: FutureWarning: The squeeze argument has been deprecated and will be removed in a future version. Append .squeeze(\"columns\") to the call to squeeze.\n",
            "\n",
            "\n",
            "  sample_4_weight = pd.read_csv('./pesos_amostra4.csv', index_col=False, header=None, squeeze=True)\n"
          ]
        },
        {
          "output_type": "display_data",
          "data": {
            "text/plain": [
              "0    138.50\n",
              "1    133.93\n",
              "2    146.47\n",
              "3    174.60\n",
              "4    116.79\n",
              "      ...  \n",
              "95   171.52\n",
              "96   159.26\n",
              "97   164.46\n",
              "98   188.13\n",
              "99   163.94\n",
              "Name: 0, Length: 100, dtype: float64"
            ]
          },
          "metadata": {}
        },
        {
          "output_type": "stream",
          "name": "stderr",
          "text": [
            "/usr/local/lib/python3.9/dist-packages/learntools_dados_ufv/ccf425/pratica_3.py:107: FutureWarning: The squeeze argument has been deprecated and will be removed in a future version. Append .squeeze(\"columns\") to the call to squeeze.\n",
            "\n",
            "\n",
            "  assert_series_equals(sample_4_weight, pd.read_csv('./pesos_amostra4.csv', header=None, squeeze=True), name='sample_4_weight')\n"
          ]
        },
        {
          "output_type": "display_data",
          "data": {
            "text/plain": [
              "<IPython.core.display.Javascript object>"
            ],
            "application/javascript": [
              "parent.postMessage({\"jupyterEvent\": \"custom.exercise_interaction\", \"data\": {\"outcomeType\": 1, \"valueTowardsCompletion\": 0.5, \"interactionType\": 1, \"questionType\": 2, \"questionId\": \"5.1_Q5A\", \"learnToolsVersion\": \"1.0.10\", \"failureMessage\": \"\", \"exceptionClass\": \"\", \"trace\": \"\"}}, \"*\")"
            ]
          },
          "metadata": {}
        },
        {
          "output_type": "display_data",
          "data": {
            "text/plain": [
              "CORRETO: \n"
            ],
            "text/markdown": "<span style=\"color:#33cc33\">CORRETO:</span> \n\n"
          },
          "metadata": {}
        }
      ],
      "source": [
        "# q5.a.hint()\n",
        "\n",
        "sample_4_weight = pd.read_csv('./pesos_amostra4.csv', index_col=False, header=None, squeeze=True)\n",
        "display(sample_4_weight)\n",
        "\n",
        "q5.a.check()"
      ]
    },
    {
      "cell_type": "markdown",
      "metadata": {
        "id": "YrF609M-ce0v"
      },
      "source": [
        "### 5.b. Verifique se a amostra pertence a população.\n",
        "A amostra foi retirada ou não da população de pesos? Justifique\n",
        "\n",
        "Armazene a resposta booleana na variável `is_sample_4_from_population`. \n",
        "\n",
        "\n",
        "Chame a função `q5.b.check()` no fim da célula para verificar a resposta.\n",
        "Você pode pedir dicas com `q5.b.hint(n)` onde n é o número da dica.\n",
        "\n",
        "> OBS: Mesmo que o corretor aceite respostas booleanas (e você pode \"_roubar_\" testando a resposta antes), será analisado também a justificativa."
      ]
    },
    {
      "cell_type": "code",
      "execution_count": 82,
      "metadata": {
        "id": "vbcA6yj9ce0v",
        "colab": {
          "base_uri": "https://localhost:8080/",
          "height": 98
        },
        "outputId": "c8cbd249-dc32-4c69-d387-4ac61c56e813"
      },
      "outputs": [
        {
          "output_type": "stream",
          "name": "stdout",
          "text": [
            "Error:  1.504760320187408\n",
            "Distance:  5.098573438622101\n"
          ]
        },
        {
          "output_type": "display_data",
          "data": {
            "text/plain": [
              "False"
            ]
          },
          "metadata": {}
        },
        {
          "output_type": "display_data",
          "data": {
            "text/plain": [
              "<IPython.core.display.Javascript object>"
            ],
            "application/javascript": [
              "parent.postMessage({\"jupyterEvent\": \"custom.exercise_interaction\", \"data\": {\"outcomeType\": 1, \"valueTowardsCompletion\": 0.5, \"interactionType\": 1, \"questionType\": 1, \"questionId\": \"5.2_Q5B\", \"learnToolsVersion\": \"1.0.10\", \"failureMessage\": \"\", \"exceptionClass\": \"\", \"trace\": \"\"}}, \"*\")"
            ]
          },
          "metadata": {}
        },
        {
          "output_type": "display_data",
          "data": {
            "text/plain": [
              "CORRETO: \n"
            ],
            "text/markdown": "<span style=\"color:#33cc33\">CORRETO:</span> \n\n"
          },
          "metadata": {}
        }
      ],
      "source": [
        "# q5.b.hint()\n",
        "\n",
        "is_sample_4_from_population = check_from_population(sample_4_weight, population_weight)\n",
        "display(is_sample_4_from_population)\n",
        "\n",
        "q5.b.check()"
      ]
    },
    {
      "cell_type": "markdown",
      "source": [],
      "metadata": {
        "id": "lGZwPDWAClre"
      }
    },
    {
      "cell_type": "markdown",
      "metadata": {
        "id": "MK2u5ib7ce0v"
      },
      "source": [
        "## 6. Verifique se duas amostras são da mesma população.\n",
        "É provável que as amostras 2 e 3 tenham vindo de uma mesma população? Justifique.\n",
        "\n",
        "Essa atividade não tem `check`, mas você pode pedir dicas com `q6.hint()`"
      ]
    },
    {
      "cell_type": "code",
      "execution_count": 83,
      "metadata": {
        "id": "YDewtgaGce0w"
      },
      "outputs": [],
      "source": [
        "# q6.hint()"
      ]
    },
    {
      "cell_type": "markdown",
      "metadata": {
        "id": "tiX-8REZce0w"
      },
      "source": [
        "### Resposta para questão 6:\n",
        "\n",
        "Retomando a explicação da função de checar se uma amostra pertence a uma população: \n",
        "\n",
        "*O erro padrão mede a provável distancia que a média amostral está da populacional.\n",
        "\"Distance\" calcula o número de desvios (ou erros padrões) que a média amostral está afastada da média populacional*\n",
        "\n",
        "Com base nisso, usamos na amostras anteriormes um limiar para dizer se pertence ou não de 3 desvios padrões.\n",
        "\n",
        "A amostra 3 apresenta um valor de diferença de quase 40 desvios padrões, o que pode nos dizer, com grande certeza, que esta amostra não representa o mesmo conjunto de dados que a amostra 2.\n"
      ]
    }
  ],
  "metadata": {
    "colab": {
      "provenance": []
    },
    "interpreter": {
      "hash": "aee8b7b246df8f9039afb4144a1f6fd8d2ca17a180786b69acc140d282b71a49"
    },
    "kernelspec": {
      "display_name": "Python 3.9.12 64-bit",
      "language": "python",
      "name": "python3"
    },
    "language_info": {
      "codemirror_mode": {
        "name": "ipython",
        "version": 3
      },
      "file_extension": ".py",
      "mimetype": "text/x-python",
      "name": "python",
      "nbconvert_exporter": "python",
      "pygments_lexer": "ipython3",
      "version": "3.9.12"
    }
  },
  "nbformat": 4,
  "nbformat_minor": 0
}