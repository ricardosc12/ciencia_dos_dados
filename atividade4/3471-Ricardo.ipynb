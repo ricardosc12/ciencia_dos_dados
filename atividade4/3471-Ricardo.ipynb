{
  "nbformat": 4,
  "nbformat_minor": 0,
  "metadata": {
    "colab": {
      "provenance": []
    },
    "kernelspec": {
      "name": "python3",
      "display_name": "Python 3"
    },
    "language_info": {
      "name": "python"
    }
  },
  "cells": [
    {
      "cell_type": "markdown",
      "source": [
        "##Atividade 4 - Inferência estatística"
      ],
      "metadata": {
        "id": "nRcyHbOb8b9B"
      }
    },
    {
      "cell_type": "code",
      "source": [
        "import pandas as pd\n",
        "import numpy as np\n",
        "import math\n",
        "import scipy.stats as stats"
      ],
      "metadata": {
        "id": "IYZo52vI8lXh"
      },
      "execution_count": 12,
      "outputs": []
    },
    {
      "cell_type": "markdown",
      "source": [
        "##Questão 1"
      ],
      "metadata": {
        "id": "eoS8jJLV8iYx"
      }
    },
    {
      "cell_type": "markdown",
      "source": [
        "Leitura dos dados"
      ],
      "metadata": {
        "id": "anM6JzXi9M6p"
      }
    },
    {
      "cell_type": "code",
      "execution_count": 13,
      "metadata": {
        "id": "UgTCYZ9k8asZ"
      },
      "outputs": [],
      "source": [
        "ie666 = pd.read_csv('./atraso_ie666.csv', header=None).squeeze(1)\n",
        "ia171 = pd.read_csv('./atraso_ia171.csv', header=None).squeeze(1)"
      ]
    },
    {
      "cell_type": "markdown",
      "source": [
        "Estatística dos dados"
      ],
      "metadata": {
        "id": "jObC1po29QsR"
      }
    },
    {
      "cell_type": "code",
      "source": [
        "print(\"\\nIE666\")\n",
        "print(ie666.describe())\n",
        "print(\"\\nIA171\")\n",
        "print(ia171.describe())"
      ],
      "metadata": {
        "colab": {
          "base_uri": "https://localhost:8080/"
        },
        "id": "FYU06DU09U0p",
        "outputId": "0f5f500b-7910-4db1-d66d-9bd63b81d236"
      },
      "execution_count": 14,
      "outputs": [
        {
          "output_type": "stream",
          "name": "stdout",
          "text": [
            "\n",
            "IE666\n",
            "count    100.000000\n",
            "mean     186.781500\n",
            "std       53.278042\n",
            "min       54.960000\n",
            "25%      154.040000\n",
            "50%      178.895000\n",
            "75%      230.262500\n",
            "max      317.690000\n",
            "Name: 0, dtype: float64\n",
            "\n",
            "IA171\n",
            "count    100.000000\n",
            "mean     500.230600\n",
            "std       23.901383\n",
            "min      424.770000\n",
            "25%      483.540000\n",
            "50%      503.905000\n",
            "75%      516.222500\n",
            "max      558.330000\n",
            "Name: 0, dtype: float64\n"
          ]
        }
      ]
    },
    {
      "cell_type": "markdown",
      "source": [
        "####Hipóteses\n",
        "**Queremos determinar qual roteador é melhor em termos de latência. Para isso faremos as seguintes hipóteses.**\n",
        "\n",
        "H0: Não há diferenças significativas entre as médias das duas amostras de latência.\n",
        "\n",
        "H1: Há diferenças significativas entre as médias das duas amostras de latência."
      ],
      "metadata": {
        "id": "cUTCXKKp9XwR"
      }
    },
    {
      "cell_type": "markdown",
      "source": [
        "####Resolução\n",
        "Usaremos o teste t Student para avaliarmos as diferêncas entre as amostras."
      ],
      "metadata": {
        "id": "nNSkC_CY-uhJ"
      }
    },
    {
      "cell_type": "code",
      "source": [
        "data_ie666 = ie666.values\n",
        "data_ia171 = ia171.values\n",
        "\n",
        "t_stat, p_val = stats.ttest_ind(data_ie666, data_ia171)\n",
        "\n",
        "print(\"Estatística t:\", t_stat)\n",
        "print(\"Valor p:\", p_val)"
      ],
      "metadata": {
        "colab": {
          "base_uri": "https://localhost:8080/"
        },
        "id": "Txk08S4v--Jh",
        "outputId": "6f899f69-4968-4ea8-b2ce-58777f31e1b8"
      },
      "execution_count": 15,
      "outputs": [
        {
          "output_type": "stream",
          "name": "stdout",
          "text": [
            "Estatística t: -53.678568338543045\n",
            "Valor p: 6.0146248534390525e-120\n"
          ]
        }
      ]
    },
    {
      "cell_type": "markdown",
      "source": [
        "###Conclusão\n",
        "O parâmetro **t** representa a diferença entre as médias das amostras em termos de desvio padrão.\n",
        "O resultado foi negativo e expressivo, o que indica que a média do roteador ie666 é significamente menor em relação ao roteador ia171."
      ],
      "metadata": {
        "id": "KxJcaBc0_ChJ"
      }
    },
    {
      "cell_type": "markdown",
      "source": [
        "O parâmetro **p** servirá para concluirmos nossa hipótese. E usando um nível de significância de 5% ou 0.05, vêmos que o valor ficou abaixo do nível de significância.\n",
        "Com isso, concluimos a rejeição da hipótese nula, de que as médias não têm uma diferência significativa.\n",
        "Portando, o roteador ie666, com uma precisão de 95%, é melhor do que o roteador ia171."
      ],
      "metadata": {
        "id": "ss1obFNp_duJ"
      }
    },
    {
      "cell_type": "markdown",
      "source": [
        "###Roteador IE666 é o melhor."
      ],
      "metadata": {
        "id": "CSos2C_AAyGr"
      }
    },
    {
      "cell_type": "markdown",
      "source": [
        "##Questão 2"
      ],
      "metadata": {
        "id": "uhDMxYR4B1wT"
      }
    },
    {
      "cell_type": "markdown",
      "source": [
        "Leitura dos dados"
      ],
      "metadata": {
        "id": "WDvUKZSACXiT"
      }
    },
    {
      "cell_type": "code",
      "source": [
        "bitcomb = pd.read_csv('./tempo_bitcomb.csv', header=None).squeeze(1)\n",
        "combinar = pd.read_csv('./tempo_combinar.csv', header=None).squeeze(1)"
      ],
      "metadata": {
        "id": "bv6Izv1UCcwD"
      },
      "execution_count": 16,
      "outputs": []
    },
    {
      "cell_type": "markdown",
      "source": [
        "Estatística dos dados"
      ],
      "metadata": {
        "id": "6wuG-0wFCilK"
      }
    },
    {
      "cell_type": "code",
      "source": [
        "print(\"\\nBITCOMB\")\n",
        "print(bitcomb.describe())\n",
        "print(\"\\nCOMBINAR\")\n",
        "print(combinar.describe())"
      ],
      "metadata": {
        "colab": {
          "base_uri": "https://localhost:8080/"
        },
        "id": "LjasBf3aCkqD",
        "outputId": "f6deefd8-4d71-4841-fe99-5d19a14bad72"
      },
      "execution_count": 17,
      "outputs": [
        {
          "output_type": "stream",
          "name": "stdout",
          "text": [
            "\n",
            "BITCOMB\n",
            "count    100.000000\n",
            "mean       8.743500\n",
            "std        3.600244\n",
            "min       -0.070000\n",
            "25%        6.100000\n",
            "50%        8.640000\n",
            "75%       11.382500\n",
            "max       17.200000\n",
            "Name: 0, dtype: float64\n",
            "\n",
            "COMBINAR\n",
            "count    100.000000\n",
            "mean       9.540900\n",
            "std        3.956263\n",
            "min       -2.150000\n",
            "25%        7.682500\n",
            "50%        9.250000\n",
            "75%       12.407500\n",
            "max       18.400000\n",
            "Name: 0, dtype: float64\n"
          ]
        }
      ]
    },
    {
      "cell_type": "markdown",
      "source": [
        "####Hipóteses\n",
        "\n",
        "H0: Não há diferenças significativas entre as médias das duas amostras em relação ao tempo de execução.\n",
        "\n",
        "H1: Há diferenças significativas entre as médias das duas amostras em relação ao tempo de execução.\n"
      ],
      "metadata": {
        "id": "D4rFZI9nCqKb"
      }
    },
    {
      "cell_type": "markdown",
      "source": [
        "####Resolução\n"
      ],
      "metadata": {
        "id": "dlit72YUDUPD"
      }
    },
    {
      "cell_type": "code",
      "source": [
        "data_bitcomb = bitcomb.values\n",
        "data_combinar = combinar.values\n",
        "t_stat, p_val = stats.ttest_ind(data_bitcomb, data_combinar)\n",
        "print(\"Estatística t:\", t_stat)\n",
        "print(\"Valor p:\", p_val)"
      ],
      "metadata": {
        "colab": {
          "base_uri": "https://localhost:8080/"
        },
        "id": "lxq-yHXzDXNL",
        "outputId": "149276ed-6a0c-49f2-bcb1-ca357b62f140"
      },
      "execution_count": 18,
      "outputs": [
        {
          "output_type": "stream",
          "name": "stdout",
          "text": [
            "Estatística t: -1.4906945721074143\n",
            "Valor p: 0.13763304867237086\n"
          ]
        }
      ]
    },
    {
      "cell_type": "markdown",
      "source": [
        "####Conclusão"
      ],
      "metadata": {
        "id": "PS0O2YmQDbHb"
      }
    },
    {
      "cell_type": "markdown",
      "source": [
        "O teste aponta uma pequena diferença entre as médias do tempo de execução dos dois algoritmos. O valor por ser pequeno e negativo aponta uma média um pouco menor do algoritmo bitcomb."
      ],
      "metadata": {
        "id": "vNP0thK5DfYr"
      }
    },
    {
      "cell_type": "markdown",
      "source": [
        "O valor de p obtido foi maior que 0.05, indicando que não há evidências suficientes para rejeitar a hipótese nula de que não há diferença significativa entre as médias das amostras.\n",
        "\n",
        "Assim, não podemos afirmar com precisão de 95% que um dos algoritmos é melhor que o outro. A variação observada nos testes pode ser devido a variação aleatória nos dados."
      ],
      "metadata": {
        "id": "b2P8XSGCD2e6"
      }
    },
    {
      "cell_type": "markdown",
      "source": [
        "###Escolha = BITCOMB"
      ],
      "metadata": {
        "id": "Gh0iDIbGFFns"
      }
    },
    {
      "cell_type": "markdown",
      "source": [
        "Mesmo que não há evidência de diferença significativas entre eles, ainda assim, escolherei apenas visualizando as estatísticas de seus dados.\n",
        "\n",
        "Com isso, o bitcomb ganha uma leve vantagem, talvez até insignificante, mas dado este conjunto, levaremos em conta."
      ],
      "metadata": {
        "id": "3mR4HTXaFIxD"
      }
    }
  ]
}