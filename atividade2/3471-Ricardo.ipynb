{
  "cells": [
    {
      "cell_type": "markdown",
      "metadata": {
        "id": "VKVeuIoh6N-S"
      },
      "source": [
        "> Introdução à Ciência dos Dados \\\n",
        "> Ciência da Computação – UFV/Florestal\n",
        "\n",
        "\n",
        "* **Nome:** %s\n",
        "* **Matrícula:**  %d\n",
        "\n",
        "# Aula Prática 02\n",
        "##  Estatística Descritiva\n",
        "\n",
        "**Objetivo:** Avaliar dados numéricos com base em cálculos estatísticos \\\n",
        "**Pré-requisitos:** Linguagem de programação Python, estatística básica \\\n",
        "**Meta:** Ao final da prática, o aluno será capaz de utilizar ferramentas de análise de dados para calcular indicadores estatísticos e comparar valores.\n",
        "\n",
        "----"
      ]
    },
    {
      "cell_type": "code",
      "source": [
        "from google.colab import drive\n",
        "drive.mount('/content/drive')"
      ],
      "metadata": {
        "colab": {
          "base_uri": "https://localhost:8080/"
        },
        "id": "HV5R_cxTlt3n",
        "outputId": "6b93a2b9-6482-4ab5-9d2e-c7a1bdb7608b"
      },
      "execution_count": 68,
      "outputs": [
        {
          "output_type": "stream",
          "name": "stdout",
          "text": [
            "Drive already mounted at /content/drive; to attempt to forcibly remount, call drive.mount(\"/content/drive\", force_remount=True).\n"
          ]
        }
      ]
    },
    {
      "cell_type": "code",
      "source": [
        "### NÃO REMOVA ESSA CÉLULA! ####\n",
        "!pip install learntools_dados_ufv\n",
        "\n",
        "!wget https://raw.githubusercontent.com/gfviegas/CCF425-resources/master/p2/series.csv\n",
        "!wget https://raw.githubusercontent.com/gfviegas/CCF425-resources/master/p2/altura_homens.csv\n",
        "!wget https://raw.githubusercontent.com/gfviegas/CCF425-resources/master/p2/altura_mulheres.csv"
      ],
      "metadata": {
        "id": "T-n9f0IN7P13",
        "colab": {
          "base_uri": "https://localhost:8080/"
        },
        "outputId": "2e4b8112-91ae-4e5f-9c79-72839c036154"
      },
      "execution_count": 69,
      "outputs": [
        {
          "output_type": "stream",
          "name": "stdout",
          "text": [
            "Looking in indexes: https://pypi.org/simple, https://us-python.pkg.dev/colab-wheels/public/simple/\n",
            "Requirement already satisfied: learntools_dados_ufv in /usr/local/lib/python3.9/dist-packages (1.0.10)\n",
            "--2023-03-30 00:35:19--  https://raw.githubusercontent.com/gfviegas/CCF425-resources/master/p2/series.csv\n",
            "Resolving raw.githubusercontent.com (raw.githubusercontent.com)... 185.199.108.133, 185.199.109.133, 185.199.110.133, ...\n",
            "Connecting to raw.githubusercontent.com (raw.githubusercontent.com)|185.199.108.133|:443... connected.\n",
            "HTTP request sent, awaiting response... 200 OK\n",
            "Length: 43 [text/plain]\n",
            "Saving to: ‘series.csv.1’\n",
            "\n",
            "series.csv.1        100%[===================>]      43  --.-KB/s    in 0s      \n",
            "\n",
            "2023-03-30 00:35:19 (2.12 MB/s) - ‘series.csv.1’ saved [43/43]\n",
            "\n",
            "--2023-03-30 00:35:19--  https://raw.githubusercontent.com/gfviegas/CCF425-resources/master/p2/altura_homens.csv\n",
            "Resolving raw.githubusercontent.com (raw.githubusercontent.com)... 185.199.108.133, 185.199.109.133, 185.199.110.133, ...\n",
            "Connecting to raw.githubusercontent.com (raw.githubusercontent.com)|185.199.108.133|:443... connected.\n",
            "HTTP request sent, awaiting response... 200 OK\n",
            "Length: 7000 (6.8K) [text/plain]\n",
            "Saving to: ‘altura_homens.csv.1’\n",
            "\n",
            "altura_homens.csv.1 100%[===================>]   6.84K  --.-KB/s    in 0s      \n",
            "\n",
            "2023-03-30 00:35:19 (59.4 MB/s) - ‘altura_homens.csv.1’ saved [7000/7000]\n",
            "\n",
            "--2023-03-30 00:35:20--  https://raw.githubusercontent.com/gfviegas/CCF425-resources/master/p2/altura_mulheres.csv\n",
            "Resolving raw.githubusercontent.com (raw.githubusercontent.com)... 185.199.108.133, 185.199.109.133, 185.199.110.133, ...\n",
            "Connecting to raw.githubusercontent.com (raw.githubusercontent.com)|185.199.108.133|:443... connected.\n",
            "HTTP request sent, awaiting response... 200 OK\n",
            "Length: 7000 (6.8K) [text/plain]\n",
            "Saving to: ‘altura_mulheres.csv.1’\n",
            "\n",
            "altura_mulheres.csv 100%[===================>]   6.84K  --.-KB/s    in 0s      \n",
            "\n",
            "2023-03-30 00:35:20 (50.7 MB/s) - ‘altura_mulheres.csv.1’ saved [7000/7000]\n",
            "\n"
          ]
        }
      ]
    },
    {
      "cell_type": "code",
      "execution_count": 70,
      "metadata": {
        "id": "_X9J3UPRX7_6",
        "colab": {
          "base_uri": "https://localhost:8080/"
        },
        "outputId": "3a30891d-d60e-496a-a1ed-4f57aeac1e8a"
      },
      "outputs": [
        {
          "output_type": "stream",
          "name": "stderr",
          "text": [
            "WARNING:root:Ignoring repeated attempt to bind to globals\n"
          ]
        }
      ],
      "source": [
        "#### Não altere essa célula!!! ####\n",
        "import pandas as pd\n",
        "import numpy as np\n",
        "from learntools_dados_ufv.core import binder; binder.bind(globals())\n",
        "from learntools_dados_ufv.ccf425.pratica_2 import *"
      ]
    },
    {
      "cell_type": "markdown",
      "metadata": {
        "id": "8_kKp1SH6N-Z"
      },
      "source": [
        "# Roteiro\n",
        "\n",
        "## Leitura dos dados\n",
        "Veja os dados do arquivo `series.csv`. \n",
        "\n",
        "Use a opção `squeeze=True` para obter uma Série do arquivo e não um DataFrame (comportamento default)."
      ]
    },
    {
      "cell_type": "code",
      "execution_count": 71,
      "metadata": {
        "id": "HF4kr37Z6N-a",
        "outputId": "c2cdb66d-03a6-4adf-8ff6-1f55a7053be8",
        "colab": {
          "base_uri": "https://localhost:8080/"
        }
      },
      "outputs": [
        {
          "output_type": "stream",
          "name": "stderr",
          "text": [
            "<ipython-input-71-1d0382391766>:1: FutureWarning: The squeeze argument has been deprecated and will be removed in a future version. Append .squeeze(\"columns\") to the call to squeeze.\n",
            "\n",
            "\n",
            "  series = pd.read_csv('./series.csv', index_col=False, header=None, squeeze=True)\n"
          ]
        },
        {
          "output_type": "execute_result",
          "data": {
            "text/plain": [
              "0      13\n",
              "1       3\n",
              "2       5\n",
              "3       6\n",
              "4       7\n",
              "5       9\n",
              "6       5\n",
              "7      33\n",
              "8      67\n",
              "9     432\n",
              "10      5\n",
              "11      7\n",
              "12     35\n",
              "13     67\n",
              "14     83\n",
              "15     57\n",
              "16     88\n",
              "Name: 0, dtype: int64"
            ]
          },
          "metadata": {},
          "execution_count": 71
        }
      ],
      "source": [
        "series = pd.read_csv('./series.csv', index_col=False, header=None, squeeze=True)\n",
        "series"
      ]
    },
    {
      "cell_type": "markdown",
      "metadata": {
        "id": "Mw2yyXzu6N-b"
      },
      "source": [
        "## Explore os dados com base em estatísticas descritivas"
      ]
    },
    {
      "cell_type": "code",
      "execution_count": 72,
      "metadata": {
        "id": "g-dv3GAy6N-b",
        "outputId": "d5f4ba63-33d8-4bdb-85e6-12573874a1b6",
        "colab": {
          "base_uri": "https://localhost:8080/"
        }
      },
      "outputs": [
        {
          "output_type": "stream",
          "name": "stdout",
          "text": [
            "O valor mínimo é: 3\n",
            "O valor máximo é: 432\n",
            "O valor da média é: 54.24\n",
            "O valor do desvio padrão é: 101.94\n",
            "A moda é: 0    5\n",
            "Name: 0, dtype: int64\n"
          ]
        }
      ],
      "source": [
        "# Mínimo\n",
        "print('O valor mínimo é: {}'.format(series.min()))\n",
        "\n",
        "# Máximo\n",
        "print('O valor máximo é: {}'.format(series.max()))\n",
        "\n",
        "# Média\n",
        "print('O valor da média é: {:.2f}'.format(series.mean()))\n",
        "\n",
        "# Desvio Padrão\n",
        "print('O valor do desvio padrão é: {:.2f}'.format(series.std()))\n",
        "\n",
        "# Moda\n",
        "print('A moda é: {}'.format(series.mode()))"
      ]
    },
    {
      "cell_type": "markdown",
      "metadata": {
        "id": "ey3yYAH46N-c"
      },
      "source": [
        "## Calcule os percentis"
      ]
    },
    {
      "cell_type": "code",
      "execution_count": 73,
      "metadata": {
        "id": "Zk2egrJu6N-c",
        "outputId": "745cf685-8a3c-4b9b-84ec-8a7ad6c1d5dd",
        "colab": {
          "base_uri": "https://localhost:8080/"
        }
      },
      "outputs": [
        {
          "output_type": "stream",
          "name": "stdout",
          "text": [
            "Percentil 25: 6.00\n",
            "Percentil 50: 13.00\n",
            "Percentil 75: 67.00\n",
            "Percentil 95: 156.80\n"
          ]
        }
      ],
      "source": [
        "# Percentil 25 (1º quartil)\n",
        "print('Percentil 25: {:.2f}'.format(series.quantile(.25)))\n",
        "\n",
        "# Percentil 50 (2º quartil ou mediana)\n",
        "print('Percentil 50: {:.2f}'.format(series.quantile(.50)))\n",
        "\n",
        "# Percentil 75 (3º quartil)\n",
        "print('Percentil 75: {:.2f}'.format(series.quantile(.75)))\n",
        "\n",
        "# Percentil 95\n",
        "print('Percentil 95: {:.2f}'.format(series.quantile(.95)))"
      ]
    },
    {
      "cell_type": "markdown",
      "metadata": {
        "id": "iwYIAbay6N-d"
      },
      "source": [
        "## Calcule a tablea de frequências"
      ]
    },
    {
      "cell_type": "code",
      "execution_count": 74,
      "metadata": {
        "id": "TExAAgdU6N-d",
        "outputId": "9f77f914-0967-4b5e-b8d8-48109dafbb43",
        "colab": {
          "base_uri": "https://localhost:8080/"
        }
      },
      "outputs": [
        {
          "output_type": "execute_result",
          "data": {
            "text/plain": [
              "5      3\n",
              "7      2\n",
              "67     2\n",
              "13     1\n",
              "3      1\n",
              "6      1\n",
              "9      1\n",
              "33     1\n",
              "432    1\n",
              "35     1\n",
              "83     1\n",
              "57     1\n",
              "88     1\n",
              "Name: 0, dtype: int64"
            ]
          },
          "metadata": {},
          "execution_count": 74
        }
      ],
      "source": [
        "series.value_counts()"
      ]
    },
    {
      "cell_type": "markdown",
      "metadata": {
        "id": "hvJMH0Rr6N-e"
      },
      "source": [
        "# Exercícios"
      ]
    },
    {
      "cell_type": "markdown",
      "metadata": {
        "id": "3LWiNtDCX7_7"
      },
      "source": [
        "## 1. Leia os arquivos `altura_homens.csv` e `altura_mulheres.csv`\n",
        "Esses arquivos contém as alturas (em cm) de 1000 homens e 1000 mulheres, respectivamente. \\\n",
        "Leia os arquivos e salve-os em uma variável contendo uma série Pandas com os dados respectivos.\n",
        "\n",
        "Armazene-os nas variáveis `men_height_series` e `women_height_series` respectivamente. \n",
        "\n",
        "Chame a função `q1.check()` no fim da célula para verificar a resposta.\n",
        "Você pode pedir dicas com `q1.hint()`"
      ]
    },
    {
      "cell_type": "code",
      "execution_count": 75,
      "metadata": {
        "id": "hbkmyaDU6N-f",
        "colab": {
          "base_uri": "https://localhost:8080/",
          "height": 795
        },
        "outputId": "749e7aba-53ef-4a28-d80c-6bafd3aa6c38"
      },
      "outputs": [
        {
          "output_type": "stream",
          "name": "stdout",
          "text": [
            "Dados dos homens:\n"
          ]
        },
        {
          "output_type": "stream",
          "name": "stderr",
          "text": [
            "<ipython-input-75-897df477eac1>:3: FutureWarning: The squeeze argument has been deprecated and will be removed in a future version. Append .squeeze(\"columns\") to the call to squeeze.\n",
            "\n",
            "\n",
            "  men_height_series = pd.read_csv('./altura_homens.csv', index_col=False, header=None, squeeze=True)\n",
            "<ipython-input-75-897df477eac1>:4: FutureWarning: The squeeze argument has been deprecated and will be removed in a future version. Append .squeeze(\"columns\") to the call to squeeze.\n",
            "\n",
            "\n",
            "  women_height_series = pd.read_csv('./altura_mulheres.csv', index_col=False, header=None, squeeze=True)\n"
          ]
        },
        {
          "output_type": "display_data",
          "data": {
            "text/plain": [
              "0      185.24\n",
              "1      172.64\n",
              "2      161.96\n",
              "3      163.68\n",
              "4      156.02\n",
              "        ...  \n",
              "995    171.91\n",
              "996    181.22\n",
              "997    162.80\n",
              "998    174.02\n",
              "999    163.19\n",
              "Name: 0, Length: 1000, dtype: float64"
            ]
          },
          "metadata": {}
        },
        {
          "output_type": "stream",
          "name": "stdout",
          "text": [
            "Dados das mulheres:\n"
          ]
        },
        {
          "output_type": "display_data",
          "data": {
            "text/plain": [
              "0      162.14\n",
              "1      146.68\n",
              "2      159.95\n",
              "3      171.98\n",
              "4      139.35\n",
              "        ...  \n",
              "995    161.83\n",
              "996    161.63\n",
              "997    162.94\n",
              "998    167.84\n",
              "999    149.25\n",
              "Name: 0, Length: 1000, dtype: float64"
            ]
          },
          "metadata": {}
        },
        {
          "output_type": "stream",
          "name": "stderr",
          "text": [
            "/usr/local/lib/python3.9/dist-packages/learntools_dados_ufv/ccf425/pratica_2.py:15: FutureWarning: The squeeze argument has been deprecated and will be removed in a future version. Append .squeeze(\"columns\") to the call to squeeze.\n",
            "\n",
            "\n",
            "  assert_series_equals(men_height_series, pd.read_csv('./altura_homens.csv', header=None, squeeze=True), name='men_height_series')\n",
            "/usr/local/lib/python3.9/dist-packages/learntools_dados_ufv/ccf425/pratica_2.py:17: FutureWarning: The squeeze argument has been deprecated and will be removed in a future version. Append .squeeze(\"columns\") to the call to squeeze.\n",
            "\n",
            "\n",
            "  assert_series_equals(women_height_series, pd.read_csv('./altura_mulheres.csv', header=None, squeeze=True), name='women_height_series')\n"
          ]
        },
        {
          "output_type": "display_data",
          "data": {
            "text/plain": [
              "<IPython.core.display.Javascript object>"
            ],
            "application/javascript": [
              "parent.postMessage({\"jupyterEvent\": \"custom.exercise_interaction\", \"data\": {\"outcomeType\": 1, \"valueTowardsCompletion\": 0.06666666666666667, \"interactionType\": 1, \"questionType\": 2, \"questionId\": \"1_Q1\", \"learnToolsVersion\": \"1.0.10\", \"failureMessage\": \"\", \"exceptionClass\": \"\", \"trace\": \"\"}}, \"*\")"
            ]
          },
          "metadata": {}
        },
        {
          "output_type": "display_data",
          "data": {
            "text/plain": [
              "CORRETO: \n"
            ],
            "text/markdown": "<span style=\"color:#33cc33\">CORRETO:</span> \n\n"
          },
          "metadata": {}
        }
      ],
      "source": [
        "# q1.hint()\n",
        "\n",
        "men_height_series = pd.read_csv('./altura_homens.csv', index_col=False, header=None, squeeze=True)\n",
        "women_height_series = pd.read_csv('./altura_mulheres.csv', index_col=False, header=None, squeeze=True)\n",
        "\n",
        "print('Dados dos homens:')\n",
        "display(men_height_series)\n",
        "\n",
        "print('Dados das mulheres:')\n",
        "display(women_height_series)\n",
        "\n",
        "q1.check()"
      ]
    },
    {
      "cell_type": "markdown",
      "metadata": {
        "id": "4l1slkIq6N-f"
      },
      "source": [
        "## 2. Recupere a altura mínima e máxima dos homens e das mulheres dessas amostras.\n",
        "Armazene a altura mínima e máxixma dos homens nas variáveis `men_min_height` e `men_max_height`, respectivamente. \\\n",
        "Armazene a altura mínima e máxixma das mulheres nas variáveis `women_min_height` e `women_max_height`, respectivamente. \n",
        "\n",
        "Chame a função `q2.check()` no fim da célula para verificar a resposta.\n",
        "Você pode pedir dicas com `q2.hint()`"
      ]
    },
    {
      "cell_type": "code",
      "execution_count": 76,
      "metadata": {
        "id": "zIpFkHRm6N-f",
        "colab": {
          "base_uri": "https://localhost:8080/",
          "height": 116
        },
        "outputId": "92bb9d95-2178-4c61-b705-a3b8b47c5fea"
      },
      "outputs": [
        {
          "output_type": "stream",
          "name": "stdout",
          "text": [
            "A altura mínima dos homens é: 120.05\n",
            "A altura máxima dos homens é: 221.00\n",
            "A altura mínima das mulheres é: 132.82\n",
            "A altura máxima das mulheres é: 190.30\n"
          ]
        },
        {
          "output_type": "display_data",
          "data": {
            "text/plain": [
              "<IPython.core.display.Javascript object>"
            ],
            "application/javascript": [
              "parent.postMessage({\"jupyterEvent\": \"custom.exercise_interaction\", \"data\": {\"outcomeType\": 1, \"valueTowardsCompletion\": 0.06666666666666667, \"interactionType\": 1, \"questionType\": 2, \"questionId\": \"2_Q2\", \"learnToolsVersion\": \"1.0.10\", \"failureMessage\": \"\", \"exceptionClass\": \"\", \"trace\": \"\"}}, \"*\")"
            ]
          },
          "metadata": {}
        },
        {
          "output_type": "display_data",
          "data": {
            "text/plain": [
              "CORRETO: \n"
            ],
            "text/markdown": "<span style=\"color:#33cc33\">CORRETO:</span> \n\n"
          },
          "metadata": {}
        }
      ],
      "source": [
        "# q2.hint()\n",
        "\n",
        "men_min_height = men_height_series.min()\n",
        "men_max_height = men_height_series.max()\n",
        "women_min_height = women_height_series.min()\n",
        "women_max_height = women_height_series.max()\n",
        "\n",
        "print('A altura mínima dos homens é: {:.2f}'.format(men_min_height))\n",
        "print('A altura máxima dos homens é: {:.2f}'.format(men_max_height))\n",
        "\n",
        "print('A altura mínima das mulheres é: {:.2f}'.format(women_min_height))\n",
        "print('A altura máxima das mulheres é: {:.2f}'.format(women_max_height))\n",
        "\n",
        "q2.check()"
      ]
    },
    {
      "cell_type": "markdown",
      "metadata": {
        "id": "yR1mnJTd6N-g"
      },
      "source": [
        "## 3. Recupere a média de altura dos homens e das mulheres.\n",
        "Armazene-as nas variáveis `men_mean_height` e `women_mean_height`, respectivamente.\n",
        "\n",
        "Chame a função `q3.check()` no fim da célula para verificar a resposta.\n",
        "Você pode pedir dicas com `q3.hint()`"
      ]
    },
    {
      "cell_type": "code",
      "execution_count": 77,
      "metadata": {
        "id": "rxN-qiF46N-g",
        "colab": {
          "base_uri": "https://localhost:8080/",
          "height": 81
        },
        "outputId": "10eaa725-4755-4c45-9111-3cc3a2ba7c3f"
      },
      "outputs": [
        {
          "output_type": "stream",
          "name": "stdout",
          "text": [
            "A altura média dos homens é: 175.06\n",
            "A altura média das mulheres é: 160.12\n"
          ]
        },
        {
          "output_type": "display_data",
          "data": {
            "text/plain": [
              "<IPython.core.display.Javascript object>"
            ],
            "application/javascript": [
              "parent.postMessage({\"jupyterEvent\": \"custom.exercise_interaction\", \"data\": {\"outcomeType\": 1, \"valueTowardsCompletion\": 0.06666666666666667, \"interactionType\": 1, \"questionType\": 2, \"questionId\": \"3_Q3\", \"learnToolsVersion\": \"1.0.10\", \"failureMessage\": \"\", \"exceptionClass\": \"\", \"trace\": \"\"}}, \"*\")"
            ]
          },
          "metadata": {}
        },
        {
          "output_type": "display_data",
          "data": {
            "text/plain": [
              "CORRETO: \n"
            ],
            "text/markdown": "<span style=\"color:#33cc33\">CORRETO:</span> \n\n"
          },
          "metadata": {}
        }
      ],
      "source": [
        "# q3.hint()\n",
        "\n",
        "men_mean_height = men_height_series.mean()\n",
        "women_mean_height = women_height_series.mean()\n",
        "\n",
        "print('A altura média dos homens é: {:.2f}'.format(men_mean_height))\n",
        "print('A altura média das mulheres é: {:.2f}'.format(women_mean_height))\n",
        "\n",
        "q3.check()"
      ]
    },
    {
      "cell_type": "markdown",
      "metadata": {
        "id": "iUj-JKtH6N-h"
      },
      "source": [
        "## 4. Recupere a mediana de altura dos homens e das mulheres\n",
        "Armazene-as nas variáveis `men_median_height` e `women_median_height`, respectivamente.\n",
        "\n",
        "Chame a função `q4.check()` no fim da célula para verificar a resposta.\n",
        "Você pode pedir dicas com `q4.hint()`"
      ]
    },
    {
      "cell_type": "code",
      "execution_count": 78,
      "metadata": {
        "id": "gXpBOkD16N-h",
        "colab": {
          "base_uri": "https://localhost:8080/",
          "height": 81
        },
        "outputId": "8f0cbb5a-f0be-4277-f2ff-4e65a9bd808e"
      },
      "outputs": [
        {
          "output_type": "stream",
          "name": "stdout",
          "text": [
            "O valor da mediana da altura dos homens é: 174.57\n",
            "O valor da mediana da altura das mulheres é: 160.06\n"
          ]
        },
        {
          "output_type": "display_data",
          "data": {
            "text/plain": [
              "<IPython.core.display.Javascript object>"
            ],
            "application/javascript": [
              "parent.postMessage({\"jupyterEvent\": \"custom.exercise_interaction\", \"data\": {\"outcomeType\": 1, \"valueTowardsCompletion\": 0.06666666666666667, \"interactionType\": 1, \"questionType\": 2, \"questionId\": \"4_Q4\", \"learnToolsVersion\": \"1.0.10\", \"failureMessage\": \"\", \"exceptionClass\": \"\", \"trace\": \"\"}}, \"*\")"
            ]
          },
          "metadata": {}
        },
        {
          "output_type": "display_data",
          "data": {
            "text/plain": [
              "CORRETO: \n"
            ],
            "text/markdown": "<span style=\"color:#33cc33\">CORRETO:</span> \n\n"
          },
          "metadata": {}
        }
      ],
      "source": [
        "# q4.hint()\n",
        "\n",
        "men_median_height = men_height_series.median()\n",
        "women_median_height = women_height_series.median()\n",
        "\n",
        "print('O valor da mediana da altura dos homens é: {:.2f}'.format(men_median_height))\n",
        "print('O valor da mediana da altura das mulheres é: {:.2f}'.format(women_median_height))\n",
        "\n",
        "q4.check()"
      ]
    },
    {
      "cell_type": "markdown",
      "metadata": {
        "id": "NG4vw_Mq6N-h"
      },
      "source": [
        "## 5. Recupere o desvio padrão da altura dos homens e das mulheres\n",
        "Armazene-os nas variáveis `men_std_height` e `women_std_height`, respectivamente.\n",
        "\n",
        "Chame a função `q5.check()` no fim da célula para verificar a resposta.\n",
        "Você pode pedir dicas com `q5.hint()`"
      ]
    },
    {
      "cell_type": "code",
      "execution_count": 79,
      "metadata": {
        "id": "L6RQAmL06N-h",
        "colab": {
          "base_uri": "https://localhost:8080/",
          "height": 81
        },
        "outputId": "e3255a3f-85d0-45af-b2c0-1103326db12d"
      },
      "outputs": [
        {
          "output_type": "stream",
          "name": "stdout",
          "text": [
            "O valor do desvio padrão da altura dos homens é: 15.33\n",
            "O valor do desvio padrão da altura das mulheres é: 9.70\n"
          ]
        },
        {
          "output_type": "display_data",
          "data": {
            "text/plain": [
              "<IPython.core.display.Javascript object>"
            ],
            "application/javascript": [
              "parent.postMessage({\"jupyterEvent\": \"custom.exercise_interaction\", \"data\": {\"outcomeType\": 1, \"valueTowardsCompletion\": 0.06666666666666667, \"interactionType\": 1, \"questionType\": 2, \"questionId\": \"5_Q5\", \"learnToolsVersion\": \"1.0.10\", \"failureMessage\": \"\", \"exceptionClass\": \"\", \"trace\": \"\"}}, \"*\")"
            ]
          },
          "metadata": {}
        },
        {
          "output_type": "display_data",
          "data": {
            "text/plain": [
              "CORRETO: \n"
            ],
            "text/markdown": "<span style=\"color:#33cc33\">CORRETO:</span> \n\n"
          },
          "metadata": {}
        }
      ],
      "source": [
        "# q5.hint()\n",
        "\n",
        "men_std_height = men_height_series.std()\n",
        "women_std_height = women_height_series.std()\n",
        "\n",
        "print('O valor do desvio padrão da altura dos homens é: {:.2f}'.format(men_std_height))\n",
        "print('O valor do desvio padrão da altura das mulheres é: {:.2f}'.format(women_std_height))\n",
        "\n",
        "q5.check()"
      ]
    },
    {
      "cell_type": "markdown",
      "metadata": {
        "id": "q1LPxmkH6N-i"
      },
      "source": [
        "## 6. Recupere o percentual de homens com altura menor que 160cm\n",
        "Armazene-o na variável `men_shorter_160cm_perc`.\n",
        "\n",
        "Chame a função `q6.check()` no fim da célula para verificar a resposta.\n",
        "Você pode pedir dicas com `q6.hint(n)` onde n é o número da dica."
      ]
    },
    {
      "cell_type": "code",
      "execution_count": 80,
      "metadata": {
        "id": "-_mMFHCH6N-i",
        "colab": {
          "base_uri": "https://localhost:8080/",
          "height": 64
        },
        "outputId": "7a96d02b-2023-4bca-996a-4bdedb2a8967"
      },
      "outputs": [
        {
          "output_type": "stream",
          "name": "stdout",
          "text": [
            "15.6\n"
          ]
        },
        {
          "output_type": "display_data",
          "data": {
            "text/plain": [
              "<IPython.core.display.Javascript object>"
            ],
            "application/javascript": [
              "parent.postMessage({\"jupyterEvent\": \"custom.exercise_interaction\", \"data\": {\"outcomeType\": 1, \"valueTowardsCompletion\": 0.06666666666666667, \"interactionType\": 1, \"questionType\": 2, \"questionId\": \"6_Q6\", \"learnToolsVersion\": \"1.0.10\", \"failureMessage\": \"\", \"exceptionClass\": \"\", \"trace\": \"\"}}, \"*\")"
            ]
          },
          "metadata": {}
        },
        {
          "output_type": "display_data",
          "data": {
            "text/plain": [
              "CORRETO: \n"
            ],
            "text/markdown": "<span style=\"color:#33cc33\">CORRETO:</span> \n\n"
          },
          "metadata": {}
        }
      ],
      "source": [
        "# q6.hint()\n",
        "\n",
        "men_shorter_160cm_perc = len(men_height_series.loc[lambda x: x<160])/len(men_height_series)*100\n",
        "print(men_shorter_160cm_perc)\n",
        "\n",
        "q6.check()"
      ]
    },
    {
      "cell_type": "markdown",
      "metadata": {
        "id": "c55mkSbN6N-i"
      },
      "source": [
        "## 7. Recupere o percentual de mulheres com altura maior que 180cm\n",
        "Armazene-o na variável `women_taller_180cm_perc`.\n",
        "\n",
        "Chame a função `q7.check()` no fim da célula para verificar a resposta.\n",
        "Você pode pedir dicas com `q7.hint(n)` onde n é o número da dica."
      ]
    },
    {
      "cell_type": "code",
      "execution_count": 81,
      "metadata": {
        "id": "QOhd5ItC6N-j",
        "colab": {
          "base_uri": "https://localhost:8080/",
          "height": 64
        },
        "outputId": "c3d4ff04-f3b9-458f-9fbd-d44756c55c23"
      },
      "outputs": [
        {
          "output_type": "stream",
          "name": "stdout",
          "text": [
            "2.4\n"
          ]
        },
        {
          "output_type": "display_data",
          "data": {
            "text/plain": [
              "<IPython.core.display.Javascript object>"
            ],
            "application/javascript": [
              "parent.postMessage({\"jupyterEvent\": \"custom.exercise_interaction\", \"data\": {\"outcomeType\": 1, \"valueTowardsCompletion\": 0.06666666666666667, \"interactionType\": 1, \"questionType\": 2, \"questionId\": \"7_Q7\", \"learnToolsVersion\": \"1.0.10\", \"failureMessage\": \"\", \"exceptionClass\": \"\", \"trace\": \"\"}}, \"*\")"
            ]
          },
          "metadata": {}
        },
        {
          "output_type": "display_data",
          "data": {
            "text/plain": [
              "CORRETO: \n"
            ],
            "text/markdown": "<span style=\"color:#33cc33\">CORRETO:</span> \n\n"
          },
          "metadata": {}
        }
      ],
      "source": [
        "# q7.hint()\n",
        "\n",
        "women_taller_180cm_perc = len(women_height_series.loc[lambda x: x>180])/len(women_height_series)*100\n",
        "print(women_taller_180cm_perc)\n",
        "\n",
        "q7.check()"
      ]
    },
    {
      "cell_type": "markdown",
      "metadata": {
        "id": "xSwdN_-m6N-j"
      },
      "source": [
        "## 8. Um homem com altura 185cm está em qual percentil?\n",
        "Armazene a resposta na variável `men_185cm_percentile`.\n",
        "\n",
        "Chame a função `q8.check()` no fim da célula para verificar a resposta.\n",
        "Você pode pedir dicas com `q8.hint(n)` onde n é o número da dica."
      ]
    },
    {
      "cell_type": "code",
      "execution_count": 82,
      "metadata": {
        "id": "4TNFrDoU6N-j",
        "colab": {
          "base_uri": "https://localhost:8080/",
          "height": 64
        },
        "outputId": "94c79a34-111f-461d-9987-9525a23242d9"
      },
      "outputs": [
        {
          "output_type": "stream",
          "name": "stdout",
          "text": [
            "73.9\n"
          ]
        },
        {
          "output_type": "display_data",
          "data": {
            "text/plain": [
              "<IPython.core.display.Javascript object>"
            ],
            "application/javascript": [
              "parent.postMessage({\"jupyterEvent\": \"custom.exercise_interaction\", \"data\": {\"outcomeType\": 1, \"valueTowardsCompletion\": 0.06666666666666667, \"interactionType\": 1, \"questionType\": 2, \"questionId\": \"8_Q8\", \"learnToolsVersion\": \"1.0.10\", \"failureMessage\": \"\", \"exceptionClass\": \"\", \"trace\": \"\"}}, \"*\")"
            ]
          },
          "metadata": {}
        },
        {
          "output_type": "display_data",
          "data": {
            "text/plain": [
              "CORRETO: \n"
            ],
            "text/markdown": "<span style=\"color:#33cc33\">CORRETO:</span> \n\n"
          },
          "metadata": {}
        }
      ],
      "source": [
        "# q8.hint()\n",
        "\n",
        "men_185cm_percentile = sum(np.abs(men_height_series) < 185) / float(len(men_height_series))*100\n",
        "print(men_185cm_percentile)\n",
        "\n",
        "q8.check()"
      ]
    },
    {
      "cell_type": "markdown",
      "metadata": {
        "id": "BbQPQ7w86N-j"
      },
      "source": [
        "## 9. Uma mulher com altura 150cm está em qual percentil?\n",
        "Armazene a resposta na variável `women_150cm_percentile`.\n",
        "\n",
        "Chame a função `q9.check()` no fim da célula para verificar a resposta.\n",
        "Você pode pedir dicas com `q9.hint(n)` onde n é o número da dica."
      ]
    },
    {
      "cell_type": "markdown",
      "source": [
        "## ## **O valor correto de 14.6 não é aceito##**"
      ],
      "metadata": {
        "id": "VKY1WfnNnghV"
      }
    },
    {
      "cell_type": "code",
      "execution_count": 83,
      "metadata": {
        "id": "geFe-w0W6N-j",
        "colab": {
          "base_uri": "https://localhost:8080/",
          "height": 64
        },
        "outputId": "6212dc2b-148d-438e-ceda-493d9f825809"
      },
      "outputs": [
        {
          "output_type": "stream",
          "name": "stdout",
          "text": [
            "14.6\n"
          ]
        },
        {
          "output_type": "display_data",
          "data": {
            "text/plain": [
              "<IPython.core.display.Javascript object>"
            ],
            "application/javascript": [
              "parent.postMessage({\"jupyterEvent\": \"custom.exercise_interaction\", \"data\": {\"outcomeType\": 2, \"failureMessage\": \"A vari\\u00e1vel `women_150cm_percentile` (valor = `14.6`) n\\u00e3o possui o valor do percentil de um homem com altura de 185cm\", \"interactionType\": 1, \"questionType\": 2, \"questionId\": \"9_Q9\", \"learnToolsVersion\": \"1.0.10\", \"valueTowardsCompletion\": 0.0, \"exceptionClass\": \"\", \"trace\": \"\"}}, \"*\")"
            ]
          },
          "metadata": {}
        },
        {
          "output_type": "display_data",
          "data": {
            "text/plain": [
              "INCORRETO: A variável `women_150cm_percentile` (valor = `14.6`) não possui o valor do percentil de um homem com altura de 185cm"
            ],
            "text/markdown": "<span style=\"color:#cc3333\">INCORRETO:</span> A variável `women_150cm_percentile` (valor = `14.6`) não possui o valor do percentil de um homem com altura de 185cm"
          },
          "metadata": {}
        }
      ],
      "source": [
        "# q9.hint()\n",
        "\n",
        "women_150cm_percentile = sum(np.abs(women_height_series) < 150) / float(len(women_height_series))*100\n",
        "print(women_150cm_percentile)\n",
        "\n",
        "q9.check()"
      ]
    },
    {
      "cell_type": "markdown",
      "metadata": {
        "id": "2zHbXl136N-k"
      },
      "source": [
        "## 10. Quais as três alturas de homens que são as mais frequentes? Quantos homens possuem, no total, essas alturas?\n",
        "Armazene a resposta das perguntas nas variáveis `men_top3_height` e `men_in_top3_height` respectivamente.\n",
        "\n",
        "Chame a função `q10.check()` no fim da célula para verificar a resposta.\n",
        "Você pode pedir dicas com `q10.hint(n)` onde n é o número da dica."
      ]
    },
    {
      "cell_type": "code",
      "execution_count": 84,
      "metadata": {
        "id": "W8J2Sjv2X7_7",
        "colab": {
          "base_uri": "https://localhost:8080/",
          "height": 133
        },
        "outputId": "143c434d-d895-47e6-ef06-428fde0c12f0"
      },
      "outputs": [
        {
          "output_type": "stream",
          "name": "stdout",
          "text": [
            "As alturas mais frequentes dos homens são:  169.97    3\n",
            "174.38    3\n",
            "169.17    3\n",
            "Name: 0, dtype: int64\n",
            "A quantidade de homens que possuem essas alturas são:  9\n"
          ]
        },
        {
          "output_type": "display_data",
          "data": {
            "text/plain": [
              "<IPython.core.display.Javascript object>"
            ],
            "application/javascript": [
              "parent.postMessage({\"jupyterEvent\": \"custom.exercise_interaction\", \"data\": {\"outcomeType\": 1, \"valueTowardsCompletion\": 0.06666666666666667, \"interactionType\": 1, \"questionType\": 2, \"questionId\": \"10_Q10\", \"learnToolsVersion\": \"1.0.10\", \"failureMessage\": \"\", \"exceptionClass\": \"\", \"trace\": \"\"}}, \"*\")"
            ]
          },
          "metadata": {}
        },
        {
          "output_type": "display_data",
          "data": {
            "text/plain": [
              "CORRETO: \n"
            ],
            "text/markdown": "<span style=\"color:#33cc33\">CORRETO:</span> \n\n"
          },
          "metadata": {}
        }
      ],
      "source": [
        "# q10.hint()\n",
        "\n",
        "men_top3_height = pd.Series(men_height_series.value_counts()).iloc[:3]\n",
        "men_in_top3_height = int(sum(men_height_series.value_counts().values[:3]))\n",
        "\n",
        "print('As alturas mais frequentes dos homens são: ', men_top3_height)\n",
        "print('A quantidade de homens que possuem essas alturas são: ', men_in_top3_height)\n",
        "\n",
        "q10.check()"
      ]
    },
    {
      "cell_type": "markdown",
      "metadata": {
        "id": "l6UIY12o6N-k"
      },
      "source": [
        "## 11. Uma mulher com altura 185cm está distante quantos desvios padrões da média das mulheres? E uma de 145cm?\n",
        "Armazene as respostas das perguntas nas variáveis `women_185cm_std_distance` e `women_145cm_std_distance` respectivamente.\n",
        "\n",
        "Chame a função `q11.check()` no fim da célula para verificar a resposta.\n",
        "Você pode pedir dicas com `q11.hint(n)` onde n é o número da dica."
      ]
    },
    {
      "cell_type": "code",
      "execution_count": 85,
      "metadata": {
        "id": "-OGk4gRy6N-k",
        "colab": {
          "base_uri": "https://localhost:8080/",
          "height": 81
        },
        "outputId": "87996c50-e914-4ff8-c857-e29c4183b9f5"
      },
      "outputs": [
        {
          "output_type": "stream",
          "name": "stdout",
          "text": [
            "A quantidade de desvios padrões distante da média de uma mulher de 185cm é:  2.56469508678217\n",
            "A quantidade de desvios padrões distante da média de uma mulher de 145cm é:  1.5580637393733234\n"
          ]
        },
        {
          "output_type": "display_data",
          "data": {
            "text/plain": [
              "<IPython.core.display.Javascript object>"
            ],
            "application/javascript": [
              "parent.postMessage({\"jupyterEvent\": \"custom.exercise_interaction\", \"data\": {\"outcomeType\": 1, \"valueTowardsCompletion\": 0.06666666666666667, \"interactionType\": 1, \"questionType\": 2, \"questionId\": \"11_Q11\", \"learnToolsVersion\": \"1.0.10\", \"failureMessage\": \"\", \"exceptionClass\": \"\", \"trace\": \"\"}}, \"*\")"
            ]
          },
          "metadata": {}
        },
        {
          "output_type": "display_data",
          "data": {
            "text/plain": [
              "CORRETO: \n"
            ],
            "text/markdown": "<span style=\"color:#33cc33\">CORRETO:</span> \n\n"
          },
          "metadata": {}
        }
      ],
      "source": [
        "# q11.hint()\n",
        "\n",
        "women_185cm_std_distance = abs((185 - women_height_series.mean())/women_height_series.std())\n",
        "women_145cm_std_distance = abs((145 - women_height_series.mean())/women_height_series.std())\n",
        "\n",
        "print('A quantidade de desvios padrões distante da média de uma mulher de 185cm é: ', women_185cm_std_distance)\n",
        "print('A quantidade de desvios padrões distante da média de uma mulher de 145cm é: ', women_145cm_std_distance)\n",
        "\n",
        "q11.check()"
      ]
    },
    {
      "cell_type": "markdown",
      "metadata": {
        "id": "-UYhCR6h6N-k"
      },
      "source": [
        "## 12.\n",
        "É possível afirmar com determinado grau de confiança que uma pessoa com altura 150cm é um homem ou uma mulher?\n",
        "- E uma pessoa com altura 190cm?\n",
        "- E uma pessoa com altura 165cm?\n",
        "\n",
        "\n",
        "Esta questão não possui `check`.\n",
        "Mas você pode pedir dica com `q12.hint()`."
      ]
    },
    {
      "cell_type": "code",
      "source": [
        "percentil = sum(np.abs(men_height_series) < 150) / float(len(men_height_series))*100\n",
        "print(\"Grau de confiança de ser homem {} %\".format(percentil))"
      ],
      "metadata": {
        "colab": {
          "base_uri": "https://localhost:8080/"
        },
        "id": "Iz4gvcKBpAIc",
        "outputId": "634e3c93-516e-4bfc-8bc8-b0f429bb0038"
      },
      "execution_count": 86,
      "outputs": [
        {
          "output_type": "stream",
          "name": "stdout",
          "text": [
            "Grau de confiança de ser homem 5.0 %\n"
          ]
        }
      ]
    },
    {
      "cell_type": "markdown",
      "metadata": {
        "id": "cwPzokLT6N-l"
      },
      "source": [
        "### Resposta:\n",
        "\n",
        "O percentil pode nos ajudar a ter uma noção dessa probabilidade. O valor da altura 150 se encontra no percentil de 5%, ou seja, apenas 5% dos valores estão abaixo dele.\n",
        "\n",
        "Mas uma forma mais precisa de se calcular a probabilidade desse valor ser do conjunto de dados é utilizando o z-Score.\n",
        "\n",
        "Não é possivel mostrar o cálculo para chegar no resultado, pois o mesmo deve ser analisado consultando a [Tabela Z](https://datascience.eu/pt/matematica-e-estatistica/tabela-z/) ."
      ]
    },
    {
      "cell_type": "code",
      "source": [
        "z_score = (150 - men_height_series.mean())/men_height_series.std()\n",
        "print(\"z-Score\",z_score)\n",
        "print(\"Olhando na tabela, corresponde a probabilidade de 5.16%\")"
      ],
      "metadata": {
        "colab": {
          "base_uri": "https://localhost:8080/"
        },
        "id": "iwZDlYwbu0hR",
        "outputId": "0a879705-5bd3-4d15-8168-e6e1a0fb2a10"
      },
      "execution_count": 87,
      "outputs": [
        {
          "output_type": "stream",
          "name": "stdout",
          "text": [
            "z-Score -1.6351375513866075\n",
            "Olhando na tabela, corresponde a probabilidade de 5.16%\n"
          ]
        }
      ]
    },
    {
      "cell_type": "code",
      "source": [],
      "metadata": {
        "id": "Bs8-we1e0tp_"
      },
      "execution_count": 87,
      "outputs": []
    },
    {
      "cell_type": "markdown",
      "source": [
        "Olhando na tabela, a probabilidade de ser um homem é de 5.16%"
      ],
      "metadata": {
        "id": "GPA0AzyHyN_m"
      }
    },
    {
      "cell_type": "markdown",
      "source": [
        "Altura de 190cm ou mais ? A probabilidade difere aqui, e não foi claro, mas uma pessoa com 190 ou mais tenha a probabilidade descrita abaixo."
      ],
      "metadata": {
        "id": "N-mnX-l2zaLm"
      }
    },
    {
      "cell_type": "code",
      "source": [
        "z_score = (190 - men_height_series.mean())/men_height_series.std()\n",
        "print(\"z-Score\",z_score)\n",
        "print(\"Probabilidade de ter 190 = 16.6%\")\n",
        "print(\"Probabilidade de ter 190 ou menos = 83.4%\")"
      ],
      "metadata": {
        "colab": {
          "base_uri": "https://localhost:8080/"
        },
        "id": "XN-V7JgEzcAw",
        "outputId": "4fc6862c-dd08-4b7f-bfe0-7c26159024e1"
      },
      "execution_count": 88,
      "outputs": [
        {
          "output_type": "stream",
          "name": "stdout",
          "text": [
            "z-Score 0.9749332041319604\n",
            "Probabilidade de ter 190 = 16.6%\n",
            "Probabilidade de ter 190 ou menos = 83.4%\n"
          ]
        }
      ]
    },
    {
      "cell_type": "markdown",
      "source": [
        "Probabilidade de ter 165cm e ser homem"
      ],
      "metadata": {
        "id": "MlMqgpzl1jR1"
      }
    },
    {
      "cell_type": "code",
      "source": [
        "z_score = (165 - men_height_series.mean())/men_height_series.std()\n",
        "print(\"z-Score\",z_score)\n",
        "print(\"Probabilidade de ter 165 ou menos = 25.78%\")"
      ],
      "metadata": {
        "colab": {
          "base_uri": "https://localhost:8080/"
        },
        "id": "UL4qO71h1n2F",
        "outputId": "b0e2618c-37d1-4061-9178-f6877778ce40"
      },
      "execution_count": 89,
      "outputs": [
        {
          "output_type": "stream",
          "name": "stdout",
          "text": [
            "z-Score -0.6563610180671445\n",
            "Probabilidade de ter 165 ou menos = 25.78%\n"
          ]
        }
      ]
    },
    {
      "cell_type": "code",
      "execution_count": 90,
      "metadata": {
        "id": "yuarcBQW6N-l"
      },
      "outputs": [],
      "source": [
        "# q12.hint()"
      ]
    },
    {
      "cell_type": "markdown",
      "metadata": {
        "id": "pIjaC7iX6N-l"
      },
      "source": [
        "## 13. As alturas dos homens e mulheres seguem uma distribuição Normal?\n",
        "Justifique a sua resposta com evidências.\n",
        "\n",
        "Esta questão não possui `check`.\n",
        "Mas você pode pedir dica com `q13.hint()`."
      ]
    },
    {
      "cell_type": "markdown",
      "metadata": {
        "id": "tK-zrYat6N-l"
      },
      "source": [
        "### Resposta:\n",
        "\n",
        "Um conjunto de dados pode ser descrito como seguir uma distribuição normal caso ele se comporte como a curva normal.\n",
        "Há dois parametros que descrevem essa curva, média e desvio-padrão.\n",
        "Enquanto média marca o centro do histograma ou curva, o desvio-padrão estabelece a largura da curva.\n",
        "Além disso a curva normal é simétrica, como um sino.\n",
        "\n",
        "Analisando o histograma dos dados de altura dos homems podemos encontrar essa semelhança, a média marca o meio da curva, desvio dita a largura e há simetria nestes dados.\n",
        "\n",
        "Portando, podemos dizer que as alturas dos homens seguem distribuição normal ou muito próximo disso."
      ]
    },
    {
      "cell_type": "code",
      "execution_count": 91,
      "metadata": {
        "id": "vQwdE6_c6N-l",
        "colab": {
          "base_uri": "https://localhost:8080/",
          "height": 469
        },
        "outputId": "c85c50d5-de9f-4c68-cbf1-d845c5c5a837"
      },
      "outputs": [
        {
          "output_type": "stream",
          "name": "stdout",
          "text": [
            "[[<Axes: title={'center': 'Altura Masculina'}>]]\n"
          ]
        },
        {
          "output_type": "display_data",
          "data": {
            "text/plain": [
              "<Figure size 640x480 with 1 Axes>"
            ],
            "image/png": "[encoded data removed]"
          },
          "metadata": {}
        }
      ],
      "source": [
        "# q13.hint()\n",
        "df = pd.DataFrame(men_height_series.tolist(), columns=[\"Altura Masculina\"])\n",
        "print(df.hist())"
      ]
    },
    {
      "cell_type": "markdown",
      "source": [
        "O mesmo se aplica para as alturas femininas"
      ],
      "metadata": {
        "id": "4S32UQ3L7d5Z"
      }
    },
    {
      "cell_type": "code",
      "source": [
        "df = pd.DataFrame(women_height_series.tolist(), columns=[\"Altura Feminina\"])\n",
        "print(df.hist())"
      ],
      "metadata": {
        "colab": {
          "base_uri": "https://localhost:8080/",
          "height": 469
        },
        "id": "FQiZzNFF7MKC",
        "outputId": "43340d15-71ce-4e8c-e6ec-e1b62894d833"
      },
      "execution_count": 92,
      "outputs": [
        {
          "output_type": "stream",
          "name": "stdout",
          "text": [
            "[[<Axes: title={'center': 'Altura Feminina'}>]]\n"
          ]
        },
        {
          "output_type": "display_data",
          "data": {
            "text/plain": [
              "<Figure size 640x480 with 1 Axes>"
            ],
            "image/png": "[encoded data removed]"
          },
          "metadata": {}
        }
      ]
    },
    {
      "cell_type": "markdown",
      "metadata": {
        "id": "-JAYWMS86N-m"
      },
      "source": [
        "## 14. Para que serve a função “describe()” de uma Series?\n",
        "Justifique a sua resposta com evidências.\n",
        "\n",
        "Esta questão não possui `check`.\n",
        "Mas você pode pedir dica com `q14.hint()`."
      ]
    },
    {
      "cell_type": "markdown",
      "metadata": {
        "id": "YBedgadj6N-m"
      },
      "source": [
        "### Resposta:\n",
        "\n",
        "Describe de pandas gera um conjunto de informações para análise descritiva, como média, mediana, quartis, n.\n",
        "Server para resumir o conjunto de dados e interpreta-los usando a estatística descritiva."
      ]
    },
    {
      "cell_type": "code",
      "execution_count": 93,
      "metadata": {
        "id": "4wGK0w2q6N-m",
        "colab": {
          "base_uri": "https://localhost:8080/"
        },
        "outputId": "efe7d599-2244-49c2-fde3-53e0bbd1dab5"
      },
      "outputs": [
        {
          "output_type": "stream",
          "name": "stdout",
          "text": [
            "count    1000.000000\n",
            "mean      175.058900\n",
            "std        15.325255\n",
            "min       120.050000\n",
            "25%       164.800000\n",
            "50%       174.575000\n",
            "75%       185.590000\n",
            "max       221.000000\n",
            "Name: 0, dtype: float64\n"
          ]
        }
      ],
      "source": [
        "# q14.hint()\n",
        "\n",
        "describe = men_height_series.describe()\n",
        "print(describe)"
      ]
    },
    {
      "cell_type": "markdown",
      "metadata": {
        "id": "4ejAqiK26N-m"
      },
      "source": [
        "## 15. Para que serve a função \"unique()” de uma Series?\n",
        "Justifique a sua resposta com evidências.\n",
        "\n",
        "Esta questão não possui `check`.\n",
        "Mas você pode pedir dica com `q15.hint()`."
      ]
    },
    {
      "cell_type": "markdown",
      "metadata": {
        "id": "4kpaRk-m6N-m"
      },
      "source": [
        "### Resposta:\n",
        "\n",
        "Unique de acordo com a documentação de Pandas é um método que retorna valores únicos do conjunto de dados, ou seja, removento duplicatas."
      ]
    },
    {
      "cell_type": "code",
      "execution_count": 94,
      "metadata": {
        "id": "-XNk--_A6N-m",
        "colab": {
          "base_uri": "https://localhost:8080/"
        },
        "outputId": "4cfa97c2-4938-43b0-d80e-e83ddce3b62c"
      },
      "outputs": [
        {
          "output_type": "stream",
          "name": "stdout",
          "text": [
            "[185.24 172.64 161.96 163.68 156.02 191.98 189.86 199.45 187.44 167.37\n",
            " 176.55 167.59 179.1  185.89 169.33 168.87 164.33 170.82 159.55 172.67\n",
            " 180.7  198.36 177.06 183.35 170.87 159.79 175.42 181.83 159.43 183.77\n",
            " 161.69 178.27 202.19 184.51 185.49 175.84 145.36 164.84 199.64 170.22\n",
            " 161.64 164.21 152.95 163.62 195.44 177.25 185.19 168.11 175.19 177.4\n",
            " 151.27 182.41 173.64 170.78 170.23 218.04 207.77 160.48 187.69 138.37\n",
            " 173.34 146.57 204.05 164.88 150.17 162.98 193.3  176.73 187.12 174.25\n",
            " 174.32 188.89 181.91 175.11 164.74 165.2  172.48 177.58 186.12 144.12\n",
            " 185.79 195.56 158.8  204.1  158.68 165.43 189.61 199.22 164.13 179.05\n",
            " 203.05 194.39 166.78 170.66 185.44 178.62 164.96 170.41 166.94 196.69\n",
            " 184.85 201.62 165.87 162.82 174.08 159.2  167.55 170.11 199.6  156.9\n",
            " 196.27 175.08 191.08 188.66 170.9  174.85 174.54 155.07 188.69 199.35\n",
            " 162.23 188.92 146.12 175.44 171.48 165.56 188.31 179.67 162.36 180.23\n",
            " 171.62 163.28 151.24 167.75 169.17 177.82 169.97 180.49 150.72 177.61\n",
            " 164.   173.38 190.1  212.21 181.37 168.81 190.82 187.27 166.1  196.48\n",
            " 182.33 190.76 167.23 167.22 174.58 189.96 193.45 163.26 180.45 198.76\n",
            " 141.35 166.9  181.54 188.1  182.03 182.91 152.54 189.64 147.06 183.53\n",
            " 196.54 167.79 184.57 172.05 189.52 199.   194.19 164.05 177.44 146.22\n",
            " 175.22 190.41 176.77 195.13 171.67 158.11 153.62 210.52 192.62 165.54\n",
            " 151.57 167.96 184.34 163.35 160.34 169.93 204.35 161.43 140.85 203.31\n",
            " 189.38 192.57 211.07 197.51 192.26 170.85 166.71 158.27 172.99 181.71\n",
            " 185.13 162.34 186.2  179.58 188.53 156.51 171.56 173.96 163.46 189.31\n",
            " 188.79 158.66 183.4  217.06 164.54 175.47 172.96 172.7  174.59 170.59\n",
            " 164.8  213.96 174.07 163.67 165.25 192.55 171.61 161.47 155.08 139.26\n",
            " 169.85 165.09 207.43 186.34 155.84 156.05 184.23 185.16 155.8  150.98\n",
            " 193.28 169.43 176.14 174.02 211.35 171.06 139.21 163.42 166.22 187.61\n",
            " 180.57 189.51 182.43 152.17 184.61 179.87 138.61 196.49 189.97 169.16\n",
            " 188.08 167.95 150.32 161.32 202.12 159.01 206.33 176.37 172.72 188.57\n",
            " 153.26 188.26 217.74 178.15 169.12 177.01 200.23 181.11 183.22 172.3\n",
            " 171.9  162.5  177.07 189.75 165.02 183.78 179.28 157.39 133.85 174.68\n",
            " 165.04 143.67 176.79 175.6  174.06 144.5  177.56 170.04 164.47 176.57\n",
            " 198.56 180.75 160.96 181.31 173.76 183.99 196.13 199.63 186.   216.63\n",
            " 160.56 144.27 170.84 146.61 195.3  184.64 163.2  176.86 181.84 185.59\n",
            " 154.75 161.38 178.69 172.62 168.04 183.62 181.07 166.09 165.77 173.8\n",
            " 174.38 181.12 161.6  171.07 174.78 166.53 183.98 174.97 167.36 173.91\n",
            " 184.46 194.24 194.89 173.98 194.72 167.45 201.35 189.78 176.33 208.68\n",
            " 156.34 182.55 167.48 183.73 161.76 190.78 187.71 153.3  161.11 184.19\n",
            " 188.22 179.92 142.94 173.72 155.04 190.16 182.83 183.9  204.79 171.29\n",
            " 162.99 178.   198.32 189.11 179.47 168.98 193.7  178.6  202.5  172.08\n",
            " 188.84 148.95 173.83 193.1  203.54 155.27 162.06 181.88 165.51 159.29\n",
            " 162.01 188.62 156.84 183.48 199.86 153.21 167.94 172.94 176.75 186.29\n",
            " 179.53 152.97 183.76 173.69 160.84 177.75 201.27 186.36 174.44 173.21\n",
            " 182.26 174.57 187.72 177.13 162.79 164.09 188.63 171.31 153.51 180.83\n",
            " 196.21 161.56 189.88 166.72 165.55 163.49 170.58 171.57 180.26 205.67\n",
            " 183.01 182.14 190.13 183.86 170.92 198.04 174.98 165.37 166.86 167.43\n",
            " 184.86 170.98 178.54 182.53 187.82 174.72 195.6  200.07 183.71 162.85\n",
            " 171.3  201.03 173.27 154.16 174.41 195.62 207.6  171.41 184.8  154.94\n",
            " 120.05 175.48 175.93 179.22 172.18 156.86 185.57 149.55 154.52 196.57\n",
            " 181.97 154.26 179.57 174.77 168.92 158.35 170.93 189.15 193.93 178.25\n",
            " 185.72 166.15 172.8  174.14 174.17 193.66 198.62 164.34 177.74 161.23\n",
            " 169.21 149.09 171.27 183.46 192.51 163.04 188.35 164.79 183.15 157.62\n",
            " 175.54 152.4  149.96 190.45 180.47 189.39 164.4  179.91 191.   205.43\n",
            " 169.09 186.99 172.16 177.63 181.68 210.64 169.44 205.54 174.86 200.66\n",
            " 175.37 142.62 172.86 173.4  147.31 162.64 161.82 174.43 193.36 174.6\n",
            " 200.25 194.3  176.85 181.29 173.89 159.56 168.97 191.22 188.64 186.76\n",
            " 163.34 172.76 201.38 191.56 192.33 170.28 183.27 185.86 170.24 180.86\n",
            " 180.32 176.13 143.9  176.44 140.12 140.33 198.12 168.08 170.75 191.12\n",
            " 187.39 168.63 202.05 155.44 163.52 144.66 184.03 180.34 201.65 179.72\n",
            " 151.75 177.15 151.49 152.07 167.15 171.28 154.82 177.21 182.52 167.88\n",
            " 199.88 163.41 166.2  157.36 187.13 168.89 178.96 171.86 154.64 151.45\n",
            " 189.2  160.74 187.67 200.55 174.45 160.37 175.26 176.11 177.54 175.36\n",
            " 172.23 178.8  188.97 155.05 159.75 179.34 193.38 173.53 185.74 144.78\n",
            " 196.41 157.98 163.43 172.9  177.91 177.11 152.5  150.6  167.04 170.94\n",
            " 165.1  183.63 180.4  164.95 147.99 198.45 186.07 204.28 175.73 189.44\n",
            " 187.45 176.69 164.58 164.06 138.62 184.67 178.43 170.29 195.11 202.26\n",
            " 146.84 196.73 151.92 198.11 159.15 159.95 170.71 177.1  209.19 176.41\n",
            " 189.71 153.34 139.88 180.14 183.89 161.29 159.18 192.59 158.98 156.64\n",
            " 184.82 160.66 169.99 163.17 161.45 147.5  173.55 168.18 156.71 194.17\n",
            " 175.31 183.56 185.03 182.48 180.01 135.76 187.4  173.95 158.9  206.3\n",
            " 179.89 167.49 174.92 171.78 174.13 185.64 178.09 160.42 169.32 166.21\n",
            " 166.69 191.67 181.28 171.72 211.05 185.97 169.68 174.95 186.93 168.12\n",
            " 162.37 188.88 191.01 175.68 167.66 159.82 181.3  158.39 160.44 183.17\n",
            " 174.88 165.69 187.22 179.96 184.72 192.27 172.12 175.14 183.37 173.16\n",
            " 172.47 148.86 135.45 161.74 188.61 155.63 184.52 131.99 139.01 183.02\n",
            " 165.53 221.   173.56 174.29 154.22 187.94 162.54 180.46 146.69 156.11\n",
            " 177.39 172.79 191.7  178.86 192.61 175.58 189.22 153.66 147.51 163.19\n",
            " 171.53 193.08 190.39 181.73 158.06 172.28 185.82 197.45 173.99 176.26\n",
            " 155.92 170.08 170.8  152.73 174.34 171.01 178.12 182.22 180.87 196.37\n",
            " 156.45 169.06 169.83 188.5  166.25 194.94 142.58 173.74 166.16 153.16\n",
            " 180.19 170.76 155.68 178.24 171.99 174.73 189.32 179.32 175.78 159.93\n",
            " 169.73 211.16 209.13 171.2  171.35 180.73 180.56 196.98 203.48 143.6\n",
            " 192.83 172.09 177.71 190.93 153.37 151.13 161.02 193.59 169.07 191.64\n",
            " 170.95 175.71 163.14 145.13 145.94 153.93 188.06 203.78 161.99 159.63\n",
            " 175.65 186.82 180.98 167.7  187.74 195.63 191.75 178.38 195.77 198.75\n",
            " 152.15 179.66 149.86 140.36 173.58 180.43 181.16 121.84 168.64 173.22\n",
            " 156.6  188.56 183.45 194.51 159.77 154.25 157.09 169.55 156.44 175.06\n",
            " 197.91 152.25 192.14 184.55 162.07 187.31 177.52 161.75 165.17 184.49\n",
            " 177.62 167.03 182.64 156.79 170.97 176.74 170.35 182.88 155.94 190.74\n",
            " 190.31 176.98 181.95 188.59 188.72 159.36 185.27 181.49 147.23 173.1\n",
            " 164.75 173.36 154.06 164.48 190.22 190.19 203.4  170.51 171.65 164.83\n",
            " 181.92 163.39 155.32 162.47 177.79 186.31 178.75 171.91 181.22 162.8 ]\n"
          ]
        }
      ],
      "source": [
        "# q15.hint()\n",
        "\n",
        "unique = men_height_series.unique()\n",
        "print(unique)"
      ]
    }
  ],
  "metadata": {
    "colab": {
      "provenance": []
    },
    "kernelspec": {
      "display_name": "Python 3",
      "language": "python",
      "name": "python3"
    },
    "language_info": {
      "codemirror_mode": {
        "name": "ipython",
        "version": 3
      },
      "file_extension": ".py",
      "mimetype": "text/x-python",
      "name": "python",
      "nbconvert_exporter": "python",
      "pygments_lexer": "ipython3",
      "version": "3.9.12"
    }
  },
  "nbformat": 4,
  "nbformat_minor": 0
}