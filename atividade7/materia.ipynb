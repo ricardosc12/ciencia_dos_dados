{
  "cells": [
    {
      "attachments": {},
      "cell_type": "markdown",
      "metadata": {},
      "source": [
        "### Regras de associação\n",
        "#### Itens\n",
        "- Elemento que pode fazer parte de uma transação (produtos, ...)\n",
        "#### Transação\n",
        "- Operação realizada que gerou um registro de dados.\n",
        "- Uma tabela com todos os itens e marcados com 0 ou 1, contém na transação ou não\n",
        "- ID   Arroz   Feijão   Carne\n",
        "-  0     1        1        0\n",
        "-  1     1        1        1\n",
        "-  2     1        1        0\n",
        "#### Itemset\n",
        "- Coleção de um ou mais itens\n",
        "#### Suporte Count ((FREQUENCIA))\n",
        "- Frequência de um itemset\n",
        "- (Feijão): 3\n",
        "#### Suporte\n",
        "- Frequência relativa (freq/n)\n",
        "- (Carne): 1/3 = 0.33%\n",
        "#### Regra de associação\n",
        "- X -> Y: Implicação\n",
        "- X é o antecedente e Y consequente\n",
        "- {\"Ovo\"} -> {\"Feijão\"}\n",
        "- {\"Ovo\", \"Feijão\"} -> {\"Cebola\"}\n",
        "#### Métricas para avaliar a implicação X -> Y\n",
        "#### Suporte\n",
        "- Suporte: Fração das transações quem conteem X e Y\n",
        "- Suporte(X->Y) = suporte(X U Y) = freq(X U Y)/ |T|\n",
        "- {\"Ovo\",\"Fiejão\"} -> {\"Cebola\"}\n",
        "  - suporte = freq({\"Ovo\", \"Feijão\", \"Cebola\"})/5 = 3/5\n",
        "#### Confiança\n",
        "- Dentre as transações que contem X, a frequência que também contem Y\n",
        "- conf(X -> Y) = P(X|Y) = freq(X U Y) / freq(X)\n",
        "- conf({\"Ovo\", \"Feijão\"} -> {\"Cebola\"}) = freq({\"Ovo\", \"Feijão\", \"Cebola\"}) / freq({\"Ovo\", \"Feijão\"})\n",
        "#### Suporte vs Confiança\n",
        "- Valor de confiança é suficiente ?\n",
        "  - Uma regra que somente se aplica a poucas transações pode não ser considerada \"boa\"\n",
        "  - depende do suporte\n",
        "#### Lift\n",
        "- O quanto a transação conter A diminui ou aumenta a probabilidade dela conter B também\n",
        "  - P(B|A)/P(B) = conf(X->Y) / suporte(Y)\n",
        "#### Mineração de Regra de associação\n",
        "- Encontrar todas as regras que satisfaçãm um limiar\n",
        "- suporte >= minSup\n",
        "- confiança >= minConf\n",
        "### Geração de conjuntos frequentes\n",
        "- Para um conjunto de d itens, existem 2^d itemset candidatos\n"
      ]
    }
  ],
  "metadata": {
    "colab": {
      "provenance": []
    },
    "interpreter": {
      "hash": "aee8b7b246df8f9039afb4144a1f6fd8d2ca17a180786b69acc140d282b71a49"
    },
    "kernelspec": {
      "display_name": "Python 3.9.12 64-bit",
      "language": "python",
      "name": "python3"
    },
    "language_info": {
      "codemirror_mode": {
        "name": "ipython",
        "version": 3
      },
      "file_extension": ".py",
      "mimetype": "text/x-python",
      "name": "python",
      "nbconvert_exporter": "python",
      "pygments_lexer": "ipython3",
      "version": "3.10.4"
    }
  },
  "nbformat": 4,
  "nbformat_minor": 0
}
