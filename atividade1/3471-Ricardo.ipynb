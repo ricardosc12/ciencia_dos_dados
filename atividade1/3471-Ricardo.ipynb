{
  "cells": [
    {
      "cell_type": "markdown",
      "metadata": {
        "id": "v9b5EcQz_YB5"
      },
      "source": [
        "> Introdução à Ciência dos Dados \\\n",
        "> Ciência da Computação – UFV/Florestal\n",
        "\n",
        "\n",
        "* **Nome:** %s\n",
        "* **Matrícula:**  %d\n",
        "\n",
        "# Aula Prática 01\n",
        "##  Conhecendo o Ambiente e Manipulando Estruturas de Uma Dimensão\n",
        "\n",
        "**Objetivo:** Conhecer o ambiente de desenvolvimento \\\n",
        "**Pré-requisitos:** Linguagem de programação Python \\\n",
        "**Meta:** Ao final da prática, o aluno será capaz de iniciar o ambiente de desenvolvimento e executar comandos na linguagem Python para manipular uma estrutura de dados de uma dimensão.\n",
        "\n",
        "----"
      ]
    },
    {
      "cell_type": "markdown",
      "metadata": {
        "id": "OVf4E3va_YB-"
      },
      "source": [
        "## Introdução\n",
        "\n",
        "A ferramenta de desenvolvimento a ser utilizada é chamada Jupyter Notebook. Com ela, é possível executar comandos para análises de dados isoladamente, sem precisar executar todo o código sempre que for preciso fazer algum ajuste. Você pode instalar localmente na sua máquina o [Jupyter Notebook](https://jupyter.org) ou utilizar o [Google Colab](https://colab.research.google.com).\n",
        "\n",
        "A principal API de desenvolvimento que será utilizada é chamada de [Pandas](https://pandas.pydata.org). Com ela, é possível manipular estruturas de dados complexas para análises de dados.\n",
        "\n",
        "Dentro da API Pandas, uma estrutura 1-dimensional é a Series. Uma Serie é similar a um arranjo nas linguagens de programação, com algumas características particulares que a torna mais poderosa que as estruturas de arranjos e listas tradicionais.\n",
        "\n",
        "Seguindo o roteiro abaixo, você deverá utilizar o Jupyter Notebook ou Google Colab para manipular algumas estruturas do tipo Series.\n",
        "\n",
        "Para instalar as ferramentas e as bibliotecas necessárias, você pode seguir o tutorial que está no PVANet.\n"
      ]
    },
    {
      "cell_type": "code",
      "source": [
        "### NÃO REMOVA ESSA CÉLULA! ####\n",
        "!pip install learntools_dados_ufv"
      ],
      "metadata": {
        "colab": {
          "base_uri": "https://localhost:8080/"
        },
        "id": "W09QN2cs_cQ_",
        "outputId": "cd9c35b7-bde1-4645-e3eb-f05a1bfcb538"
      },
      "execution_count": 1,
      "outputs": [
        {
          "output_type": "stream",
          "name": "stdout",
          "text": [
            "Looking in indexes: https://pypi.org/simple, https://us-python.pkg.dev/colab-wheels/public/simple/\n",
            "Collecting learntools_dados_ufv\n",
            "  Downloading learntools_dados_ufv-1.0.10.tar.gz (29 kB)\n",
            "  Preparing metadata (setup.py) ... \u001b[?25l\u001b[?25hdone\n",
            "Building wheels for collected packages: learntools_dados_ufv\n",
            "  Building wheel for learntools_dados_ufv (setup.py) ... \u001b[?25l\u001b[?25hdone\n",
            "  Created wheel for learntools_dados_ufv: filename=learntools_dados_ufv-1.0.10-py3-none-any.whl size=37116 sha256=a4c874c975400777d56d035266f8521ab82dda6374e4ec26fde812a3c4635baf\n",
            "  Stored in directory: /root/.cache/pip/wheels/26/f8/3e/b15724cf1339acbf446237f41bf17ff83f5abb1b764d78d7b5\n",
            "Successfully built learntools_dados_ufv\n",
            "Installing collected packages: learntools_dados_ufv\n",
            "Successfully installed learntools_dados_ufv-1.0.10\n"
          ]
        }
      ]
    },
    {
      "cell_type": "code",
      "execution_count": 15,
      "metadata": {
        "id": "_X9J3UPRX7_6",
        "colab": {
          "base_uri": "https://localhost:8080/"
        },
        "outputId": "8f53c59f-460e-4a02-b233-1af14c11862f"
      },
      "outputs": [
        {
          "output_type": "stream",
          "name": "stderr",
          "text": [
            "WARNING:root:Ignoring repeated attempt to bind to globals\n"
          ]
        }
      ],
      "source": [
        "#### Não altere essa célula!!! ####\n",
        "import pandas as pd\n",
        "import random\n",
        "import numpy as np\n",
        "import math\n",
        "\n",
        "from learntools_dados_ufv.core import binder; binder.bind(globals())\n",
        "from learntools_dados_ufv.ccf425.pratica_1 import *"
      ]
    },
    {
      "cell_type": "markdown",
      "metadata": {
        "id": "3LWiNtDCX7_7"
      },
      "source": [
        "## 1. Gere uma Serie com 500 valores inteiros aleatórios entre -1000 e 1000\n",
        "Armazene-o na variável `series`. \n",
        "\n",
        "Chame a função `q1.check()` no fim da célula para verificar a resposta.\n",
        "Você pode pedir dicas com `q1.hint()`"
      ]
    },
    {
      "cell_type": "code",
      "execution_count": 47,
      "metadata": {
        "id": "TxEmCjTx_YCB",
        "colab": {
          "base_uri": "https://localhost:8080/",
          "height": 255
        },
        "outputId": "1ed534ff-2e30-4d69-ebac-2507c45e1719"
      },
      "outputs": [
        {
          "output_type": "stream",
          "name": "stdout",
          "text": [
            "0      965\n",
            "1     -167\n",
            "2     -567\n",
            "3      811\n",
            "4     -847\n",
            "      ... \n",
            "495   -260\n",
            "496    518\n",
            "497    102\n",
            "498    620\n",
            "499   -329\n",
            "Length: 500, dtype: int64\n"
          ]
        },
        {
          "output_type": "display_data",
          "data": {
            "text/plain": [
              "<IPython.core.display.Javascript object>"
            ],
            "application/javascript": [
              "parent.postMessage({\"jupyterEvent\": \"custom.exercise_interaction\", \"data\": {\"outcomeType\": 1, \"valueTowardsCompletion\": 0.1, \"interactionType\": 1, \"questionType\": 2, \"questionId\": \"1_Q1\", \"learnToolsVersion\": \"1.0.10\", \"failureMessage\": \"\", \"exceptionClass\": \"\", \"trace\": \"\"}}, \"*\")"
            ]
          },
          "metadata": {}
        },
        {
          "output_type": "display_data",
          "data": {
            "text/plain": [
              "CORRETO: \n"
            ],
            "text/markdown": "<span style=\"color:#33cc33\">CORRETO:</span> \n\n"
          },
          "metadata": {}
        }
      ],
      "source": [
        "# q1.hint()\n",
        "\n",
        "series = pd.Series(np.random.randint(-1000,1000,size=500),dtype=int)\n",
        "print(series)\n",
        "\n",
        "q1.check()"
      ]
    },
    {
      "cell_type": "markdown",
      "metadata": {
        "id": "pp_1vrN-_YCB"
      },
      "source": [
        "## 2. Recupere o maior valor da Série\n",
        "Armazene-o na variável `series_max`. \n",
        "\n",
        "Chame a função `q2.check()` no fim da célula para verificar a resposta.\n",
        "Você pode pedir dicas com `q2.hint()`"
      ]
    },
    {
      "cell_type": "code",
      "execution_count": 46,
      "metadata": {
        "id": "oW9iunTR_YCC",
        "colab": {
          "base_uri": "https://localhost:8080/",
          "height": 64
        },
        "outputId": "7e23fd5e-6098-4635-b7f3-d80bfdc239cc"
      },
      "outputs": [
        {
          "output_type": "stream",
          "name": "stdout",
          "text": [
            "998\n"
          ]
        },
        {
          "output_type": "display_data",
          "data": {
            "text/plain": [
              "<IPython.core.display.Javascript object>"
            ],
            "application/javascript": [
              "parent.postMessage({\"jupyterEvent\": \"custom.exercise_interaction\", \"data\": {\"outcomeType\": 1, \"valueTowardsCompletion\": 0.1, \"interactionType\": 1, \"questionType\": 2, \"questionId\": \"2_Q2\", \"learnToolsVersion\": \"1.0.10\", \"failureMessage\": \"\", \"exceptionClass\": \"\", \"trace\": \"\"}}, \"*\")"
            ]
          },
          "metadata": {}
        },
        {
          "output_type": "display_data",
          "data": {
            "text/plain": [
              "CORRETO: \n"
            ],
            "text/markdown": "<span style=\"color:#33cc33\">CORRETO:</span> \n\n"
          },
          "metadata": {}
        }
      ],
      "source": [
        "# q2.hint()\n",
        "\n",
        "series_max = int(series.max())\n",
        "print(series_max)\n",
        "\n",
        "q2.check()"
      ]
    },
    {
      "cell_type": "markdown",
      "metadata": {
        "id": "3VTP92eW_YCD"
      },
      "source": [
        "## 3. Recupere o menor valor da Série\n",
        "Armazene-o na variável `series_min`.\n",
        "\n",
        "Chame a função `q3.check()` no fim da célula para verificar a resposta.\n",
        "Você pode pedir dicas com `q3.hint()`"
      ]
    },
    {
      "cell_type": "code",
      "execution_count": 45,
      "metadata": {
        "id": "7FK2oejP_YCE",
        "colab": {
          "base_uri": "https://localhost:8080/",
          "height": 64
        },
        "outputId": "fa8dbe9c-f036-487b-b2cb-02845a2057c5"
      },
      "outputs": [
        {
          "output_type": "stream",
          "name": "stdout",
          "text": [
            "-995\n"
          ]
        },
        {
          "output_type": "display_data",
          "data": {
            "text/plain": [
              "<IPython.core.display.Javascript object>"
            ],
            "application/javascript": [
              "parent.postMessage({\"jupyterEvent\": \"custom.exercise_interaction\", \"data\": {\"outcomeType\": 1, \"valueTowardsCompletion\": 0.1, \"interactionType\": 1, \"questionType\": 2, \"questionId\": \"3_Q3\", \"learnToolsVersion\": \"1.0.10\", \"failureMessage\": \"\", \"exceptionClass\": \"\", \"trace\": \"\"}}, \"*\")"
            ]
          },
          "metadata": {}
        },
        {
          "output_type": "display_data",
          "data": {
            "text/plain": [
              "CORRETO: \n"
            ],
            "text/markdown": "<span style=\"color:#33cc33\">CORRETO:</span> \n\n"
          },
          "metadata": {}
        }
      ],
      "source": [
        "# q3.hint()\n",
        "\n",
        "series_min = int(series.min())\n",
        "print(series_min)\n",
        "\n",
        "q3.check()"
      ]
    },
    {
      "cell_type": "markdown",
      "metadata": {
        "id": "zKImcTgi_YCF"
      },
      "source": [
        "## 4. Recupere somente os valores positivos da Série\n",
        "Armazene-os na variável `series_positives`.\n",
        "\n",
        "Chame a função `q4.check()` no fim da célula para verificar a resposta.\n",
        "Você pode pedir dicas com `q4.hint()`"
      ]
    },
    {
      "cell_type": "code",
      "execution_count": 44,
      "metadata": {
        "id": "Zq6yBor2_YCF",
        "colab": {
          "base_uri": "https://localhost:8080/",
          "height": 255
        },
        "outputId": "b7c2c468-6b63-4e5e-dd4d-3b9e5995ff37"
      },
      "outputs": [
        {
          "output_type": "stream",
          "name": "stdout",
          "text": [
            "3      779\n",
            "4      374\n",
            "5      450\n",
            "8      534\n",
            "10     800\n",
            "      ... \n",
            "492     78\n",
            "494     71\n",
            "495    568\n",
            "497    324\n",
            "499    208\n",
            "Length: 245, dtype: int64\n"
          ]
        },
        {
          "output_type": "display_data",
          "data": {
            "text/plain": [
              "<IPython.core.display.Javascript object>"
            ],
            "application/javascript": [
              "parent.postMessage({\"jupyterEvent\": \"custom.exercise_interaction\", \"data\": {\"outcomeType\": 1, \"valueTowardsCompletion\": 0.1, \"interactionType\": 1, \"questionType\": 2, \"questionId\": \"4_Q4\", \"learnToolsVersion\": \"1.0.10\", \"failureMessage\": \"\", \"exceptionClass\": \"\", \"trace\": \"\"}}, \"*\")"
            ]
          },
          "metadata": {}
        },
        {
          "output_type": "display_data",
          "data": {
            "text/plain": [
              "CORRETO: \n"
            ],
            "text/markdown": "<span style=\"color:#33cc33\">CORRETO:</span> \n\n"
          },
          "metadata": {}
        }
      ],
      "source": [
        "# q4.hint()\n",
        "\n",
        "series_positives = series.loc[lambda x: x>=0]\n",
        "print(series_positives)\n",
        "\n",
        "q4.check()"
      ]
    },
    {
      "cell_type": "markdown",
      "metadata": {
        "id": "aZRr9TZL_YCG"
      },
      "source": [
        "## 5. Recupere somente os valores ímpares da Série\n",
        "Armazene-os na variável `series_odds`.\n",
        "\n",
        "Chame a função `q5.check()` no fim da célula para verificar a resposta.\n",
        "Você pode pedir dicas com `q5.hint()`"
      ]
    },
    {
      "cell_type": "code",
      "execution_count": 43,
      "metadata": {
        "id": "s5XgfoOv_YCG",
        "colab": {
          "base_uri": "https://localhost:8080/",
          "height": 255
        },
        "outputId": "b6dfe0e3-f546-419d-dc76-c9460ba8edd0"
      },
      "outputs": [
        {
          "output_type": "stream",
          "name": "stdout",
          "text": [
            "0     -307\n",
            "2     -195\n",
            "3      779\n",
            "6     -277\n",
            "7     -985\n",
            "      ... \n",
            "489   -519\n",
            "491    645\n",
            "493   -809\n",
            "494     71\n",
            "496   -471\n",
            "Length: 267, dtype: int64\n"
          ]
        },
        {
          "output_type": "display_data",
          "data": {
            "text/plain": [
              "<IPython.core.display.Javascript object>"
            ],
            "application/javascript": [
              "parent.postMessage({\"jupyterEvent\": \"custom.exercise_interaction\", \"data\": {\"outcomeType\": 1, \"valueTowardsCompletion\": 0.1, \"interactionType\": 1, \"questionType\": 2, \"questionId\": \"5_Q5\", \"learnToolsVersion\": \"1.0.10\", \"failureMessage\": \"\", \"exceptionClass\": \"\", \"trace\": \"\"}}, \"*\")"
            ]
          },
          "metadata": {}
        },
        {
          "output_type": "display_data",
          "data": {
            "text/plain": [
              "CORRETO: \n"
            ],
            "text/markdown": "<span style=\"color:#33cc33\">CORRETO:</span> \n\n"
          },
          "metadata": {}
        }
      ],
      "source": [
        "# q5.hint()\n",
        "\n",
        "series_odds = series.loc[lambda x: x%2!=0]\n",
        "print(series_odds)\n",
        "\n",
        "q5.check()"
      ]
    },
    {
      "cell_type": "markdown",
      "metadata": {
        "id": "KMz-69mj_YCH"
      },
      "source": [
        "## 6. Recupere somente os valores das posições/índices de 50 a 100 (inclusive) da Série\n",
        "Armazene-os na variável `series_range`.\n",
        "\n",
        "Chame a função `q6.check()` no fim da célula para verificar a resposta.\n",
        "Você pode pedir dicas com `q6.hint(n)` onde n é o número da dica."
      ]
    },
    {
      "cell_type": "code",
      "execution_count": 48,
      "metadata": {
        "id": "z4DhEQcl_YCH",
        "colab": {
          "base_uri": "https://localhost:8080/",
          "height": 949
        },
        "outputId": "6e6e08e7-dd18-41b2-a381-d6849a713599"
      },
      "outputs": [
        {
          "output_type": "stream",
          "name": "stdout",
          "text": [
            "50     403\n",
            "51    -748\n",
            "52    -367\n",
            "53    -936\n",
            "54     835\n",
            "55     998\n",
            "56     884\n",
            "57     307\n",
            "58     555\n",
            "59    -397\n",
            "60    -386\n",
            "61     255\n",
            "62    -566\n",
            "63    -242\n",
            "64      90\n",
            "65    -859\n",
            "66      22\n",
            "67     915\n",
            "68     733\n",
            "69    -539\n",
            "70    -342\n",
            "71     334\n",
            "72     -17\n",
            "73     -19\n",
            "74    -371\n",
            "75     788\n",
            "76    -730\n",
            "77    -314\n",
            "78     792\n",
            "79     919\n",
            "80     872\n",
            "81    -429\n",
            "82    -415\n",
            "83     912\n",
            "84    -580\n",
            "85       5\n",
            "86     353\n",
            "87     916\n",
            "88    -686\n",
            "89    -981\n",
            "90     193\n",
            "91     192\n",
            "92     862\n",
            "93     808\n",
            "94     782\n",
            "95    -160\n",
            "96    -411\n",
            "97     292\n",
            "98    -472\n",
            "99     281\n",
            "100    867\n",
            "dtype: int64\n"
          ]
        },
        {
          "output_type": "display_data",
          "data": {
            "text/plain": [
              "<IPython.core.display.Javascript object>"
            ],
            "application/javascript": [
              "parent.postMessage({\"jupyterEvent\": \"custom.exercise_interaction\", \"data\": {\"outcomeType\": 1, \"valueTowardsCompletion\": 0.1, \"interactionType\": 1, \"questionType\": 2, \"questionId\": \"6_Q6\", \"learnToolsVersion\": \"1.0.10\", \"failureMessage\": \"\", \"exceptionClass\": \"\", \"trace\": \"\"}}, \"*\")"
            ]
          },
          "metadata": {}
        },
        {
          "output_type": "display_data",
          "data": {
            "text/plain": [
              "CORRETO"
            ],
            "text/markdown": "<span style=\"color:#33cc33\">CORRETO</span>"
          },
          "metadata": {}
        }
      ],
      "source": [
        "# q6.hint()\n",
        "\n",
        "series_range = series.iloc[50:101]\n",
        "print(series_range)\n",
        "\n",
        "q6.check()"
      ]
    },
    {
      "cell_type": "markdown",
      "metadata": {
        "id": "PUJQdeCM_YCH"
      },
      "source": [
        "## 7. Recupere a quantidade de valores pares da Série\n",
        "Armazene-o na variável `series_even_size`.\n",
        "\n",
        "Chame a função `q7.check()` no fim da célula para verificar a resposta.\n",
        "Você pode pedir dicas com `q7.hint(n)` onde n é o número da dica."
      ]
    },
    {
      "cell_type": "code",
      "execution_count": 49,
      "metadata": {
        "id": "I-8dk7HC_YCI",
        "colab": {
          "base_uri": "https://localhost:8080/",
          "height": 64
        },
        "outputId": "de928540-ffce-4aef-cc70-4ed527af5054"
      },
      "outputs": [
        {
          "output_type": "stream",
          "name": "stdout",
          "text": [
            "259\n"
          ]
        },
        {
          "output_type": "display_data",
          "data": {
            "text/plain": [
              "<IPython.core.display.Javascript object>"
            ],
            "application/javascript": [
              "parent.postMessage({\"jupyterEvent\": \"custom.exercise_interaction\", \"data\": {\"outcomeType\": 1, \"valueTowardsCompletion\": 0.1, \"interactionType\": 1, \"questionType\": 2, \"questionId\": \"7_Q7\", \"learnToolsVersion\": \"1.0.10\", \"failureMessage\": \"\", \"exceptionClass\": \"\", \"trace\": \"\"}}, \"*\")"
            ]
          },
          "metadata": {}
        },
        {
          "output_type": "display_data",
          "data": {
            "text/plain": [
              "CORRETO: \n"
            ],
            "text/markdown": "<span style=\"color:#33cc33\">CORRETO:</span> \n\n"
          },
          "metadata": {}
        }
      ],
      "source": [
        "# q7.hint()\n",
        "\n",
        "series_even_size = len(series.loc[lambda x: x%2==0])\n",
        "print(series_even_size)\n",
        "\n",
        "q7.check()"
      ]
    },
    {
      "cell_type": "markdown",
      "metadata": {
        "id": "Bong0Fb2_YCI"
      },
      "source": [
        "## 8. Recupere a quantidade de valores da Série maiores que 500\n",
        "Armazene-o na variável `series_high_values_size`.\n",
        "\n",
        "Chame a função `q8.check()` no fim da célula para verificar a resposta.\n",
        "Você pode pedir dicas com `q8.hint()` onde n é o número da dica."
      ]
    },
    {
      "cell_type": "code",
      "execution_count": 50,
      "metadata": {
        "id": "jRq5nWj5_YCI",
        "colab": {
          "base_uri": "https://localhost:8080/",
          "height": 64
        },
        "outputId": "c6b50781-0ea4-4042-d7bb-ff3084a98573"
      },
      "outputs": [
        {
          "output_type": "stream",
          "name": "stdout",
          "text": [
            "114\n"
          ]
        },
        {
          "output_type": "display_data",
          "data": {
            "text/plain": [
              "<IPython.core.display.Javascript object>"
            ],
            "application/javascript": [
              "parent.postMessage({\"jupyterEvent\": \"custom.exercise_interaction\", \"data\": {\"outcomeType\": 1, \"valueTowardsCompletion\": 0.1, \"interactionType\": 1, \"questionType\": 2, \"questionId\": \"8_Q8\", \"learnToolsVersion\": \"1.0.10\", \"failureMessage\": \"\", \"exceptionClass\": \"\", \"trace\": \"\"}}, \"*\")"
            ]
          },
          "metadata": {}
        },
        {
          "output_type": "display_data",
          "data": {
            "text/plain": [
              "CORRETO: \n"
            ],
            "text/markdown": "<span style=\"color:#33cc33\">CORRETO:</span> \n\n"
          },
          "metadata": {}
        }
      ],
      "source": [
        "# q8.hint()\n",
        "\n",
        "series_high_values_size = len(series.loc[lambda x: x>=500])\n",
        "print(series_high_values_size)\n",
        "\n",
        "q8.check()"
      ]
    },
    {
      "cell_type": "markdown",
      "metadata": {
        "id": "9fqTzqCr_YCJ"
      },
      "source": [
        "## 9. Recupere os valores simultaneamente maiores que 500 e menores que 700 da Série\n",
        "Armazene-o na variável `series_subset_values`.\n",
        "\n",
        "Chame a função `q9.check()` no fim da célula para verificar a resposta.\n",
        "Você pode pedir dicas com `q9.hint()` onde n é o número da dica."
      ]
    },
    {
      "cell_type": "code",
      "execution_count": 51,
      "metadata": {
        "id": "MTt9Txfh_YCJ",
        "colab": {
          "base_uri": "https://localhost:8080/",
          "height": 862
        },
        "outputId": "b73b0a76-883f-40e3-ced0-60983a6263db"
      },
      "outputs": [
        {
          "output_type": "stream",
          "name": "stdout",
          "text": [
            "14     628\n",
            "48     554\n",
            "49     598\n",
            "58     555\n",
            "101    541\n",
            "109    570\n",
            "114    658\n",
            "123    660\n",
            "144    518\n",
            "147    695\n",
            "151    524\n",
            "156    605\n",
            "176    589\n",
            "182    663\n",
            "202    648\n",
            "211    691\n",
            "214    619\n",
            "219    673\n",
            "236    631\n",
            "242    699\n",
            "243    696\n",
            "251    558\n",
            "253    513\n",
            "254    648\n",
            "257    676\n",
            "274    621\n",
            "275    535\n",
            "316    516\n",
            "341    623\n",
            "344    696\n",
            "391    584\n",
            "394    564\n",
            "397    539\n",
            "402    635\n",
            "412    699\n",
            "418    688\n",
            "426    577\n",
            "438    670\n",
            "453    516\n",
            "458    638\n",
            "464    545\n",
            "482    679\n",
            "486    541\n",
            "488    616\n",
            "496    518\n",
            "498    620\n",
            "dtype: int64\n"
          ]
        },
        {
          "output_type": "display_data",
          "data": {
            "text/plain": [
              "<IPython.core.display.Javascript object>"
            ],
            "application/javascript": [
              "parent.postMessage({\"jupyterEvent\": \"custom.exercise_interaction\", \"data\": {\"outcomeType\": 1, \"valueTowardsCompletion\": 0.1, \"interactionType\": 1, \"questionType\": 2, \"questionId\": \"9_Q9\", \"learnToolsVersion\": \"1.0.10\", \"failureMessage\": \"\", \"exceptionClass\": \"\", \"trace\": \"\"}}, \"*\")"
            ]
          },
          "metadata": {}
        },
        {
          "output_type": "display_data",
          "data": {
            "text/plain": [
              "CORRETO: \n"
            ],
            "text/markdown": "<span style=\"color:#33cc33\">CORRETO:</span> \n\n"
          },
          "metadata": {}
        }
      ],
      "source": [
        "# q9.hint()\n",
        "\n",
        "series_subset_values = series.loc[lambda x: np.logical_and(x>=500,  x<700)]\n",
        "print(series_subset_values)\n",
        "\n",
        "q9.check()"
      ]
    },
    {
      "cell_type": "markdown",
      "metadata": {
        "id": "1Dr2uCIC_YCJ"
      },
      "source": [
        "## 10. Imprima a raiz quadrada de todos os valores da Série\n",
        "Armazene-os na variável `series_sqrt_values`.\n",
        "\n",
        "**Atenção**: Mantenha o tipo da série como `float64`. Os valores inválidos devem ser `NaN`.\n",
        "\n",
        "Chame a função `q10.check()` no fim da célula para verificar a resposta.\n",
        "Você pode pedir dicas com `q10.hint()` onde n é o número da dica."
      ]
    },
    {
      "cell_type": "code",
      "execution_count": 52,
      "metadata": {
        "id": "W8J2Sjv2X7_7",
        "colab": {
          "base_uri": "https://localhost:8080/",
          "height": 255
        },
        "outputId": "ac40880c-e2aa-4c4c-9bde-b7e11943aec6"
      },
      "outputs": [
        {
          "output_type": "stream",
          "name": "stdout",
          "text": [
            "0      31.064449\n",
            "1            NaN\n",
            "2            NaN\n",
            "3      28.478062\n",
            "4            NaN\n",
            "         ...    \n",
            "495          NaN\n",
            "496    22.759613\n",
            "497    10.099505\n",
            "498    24.899799\n",
            "499          NaN\n",
            "Length: 500, dtype: float64\n"
          ]
        },
        {
          "output_type": "display_data",
          "data": {
            "text/plain": [
              "<IPython.core.display.Javascript object>"
            ],
            "application/javascript": [
              "parent.postMessage({\"jupyterEvent\": \"custom.exercise_interaction\", \"data\": {\"outcomeType\": 1, \"valueTowardsCompletion\": 0.1, \"interactionType\": 1, \"questionType\": 2, \"questionId\": \"10_Q10\", \"learnToolsVersion\": \"1.0.10\", \"failureMessage\": \"\", \"exceptionClass\": \"\", \"trace\": \"\"}}, \"*\")"
            ]
          },
          "metadata": {}
        },
        {
          "output_type": "display_data",
          "data": {
            "text/plain": [
              "CORRETO: \n"
            ],
            "text/markdown": "<span style=\"color:#33cc33\">CORRETO:</span> \n\n"
          },
          "metadata": {}
        }
      ],
      "source": [
        "#q10.hint()\n",
        "\n",
        "series_sqrt_values = square = series.apply(lambda x: math.sqrt(x) if x>0 else float(\"NaN\"))\n",
        "print(series_sqrt_values)\n",
        "\n",
        "q10.check()"
      ]
    },
    {
      "cell_type": "markdown",
      "metadata": {
        "id": "Jd_q_zl5_YCK"
      },
      "source": [
        "## 11. Faça sua própria ~5ª~ série!\n",
        "\n",
        "Agora é sua vez de brincar com as séries. E bem não é *exatamente* a 5ª série, mas é quase!"
      ]
    },
    {
      "cell_type": "markdown",
      "metadata": {
        "id": "XbaVn97-_YCK"
      },
      "source": [
        "### 11.a.\n",
        "Crie uma série (`pd.Series`) que possui os dados das notas de **todas** as turmas de 5ª série de **todas as disciplinas** de uma escola fictícia. Dê um nome pra essa escola e explique quantas disciplinas essas turmas cursam e quantos alunos possuem em cada sala.\n",
        "\n",
        "Armazene a sua série na variável `grades`.\n",
        "\n",
        "Chame a função `q11.a.check()` no fim da célula para verificar a resposta.\n",
        "Você pode pedir dica com `q11.a.hint()`."
      ]
    },
    {
      "cell_type": "markdown",
      "metadata": {
        "id": "bw1CwZAr_YCK"
      },
      "source": [
        "#### Resposta:\n",
        "\n",
        "(escreva aqui sobre seu problema 11.a.)"
      ]
    },
    {
      "cell_type": "code",
      "execution_count": 53,
      "metadata": {
        "id": "x0v7n2tf_YCM",
        "colab": {
          "base_uri": "https://localhost:8080/",
          "height": 237
        },
        "outputId": "591acba0-8b5d-4dca-d391-a12ad3938935"
      },
      "outputs": [
        {
          "output_type": "display_data",
          "data": {
            "text/plain": [
              "<IPython.core.display.Javascript object>"
            ],
            "application/javascript": [
              "parent.postMessage({\"jupyterEvent\": \"custom.exercise_interaction\", \"data\": {\"interactionType\": 2, \"questionType\": 2, \"questionId\": \"11.1_Q11A\", \"learnToolsVersion\": \"1.0.10\", \"valueTowardsCompletion\": 0.0, \"failureMessage\": \"\", \"exceptionClass\": \"\", \"trace\": \"\", \"outcomeType\": 4}}, \"*\")"
            ]
          },
          "metadata": {}
        },
        {
          "output_type": "display_data",
          "data": {
            "text/plain": [
              "Dica: Utilize a função `pd.Series` com uma lista de números como argumento. A função `random.sample` pode ser útil..."
            ],
            "text/markdown": "<span style=\"color:#3366cc\">Dica:</span> Utilize a função `pd.Series` com uma lista de números como argumento. A função `random.sample` pode ser útil..."
          },
          "metadata": {}
        },
        {
          "output_type": "stream",
          "name": "stdout",
          "text": [
            "      Aluno       Disciplina Turma Nota\n",
            "0  Aluno 13  meta_heuristica     4   13\n",
            "1   Aluno 0     compiladores     4   66\n",
            "2   Aluno 7  meta_heuristica     2   56\n",
            "3  Aluno 19  meta_heuristica     3   22\n",
            "4  Aluno 12     distribuidos     3   80\n",
            "5  Aluno 25     compiladores     4  100\n",
            "6  Aluno 20  meta_heuristica     2   75\n",
            "7   Aluno 0     distribuidos     3   78\n",
            "8   Aluno 5     distribuidos     3   31\n",
            "9  Aluno 18  meta_heuristica     4   11\n"
          ]
        }
      ],
      "source": [
        "q11.a.hint()\n",
        "\n",
        "def generateAluno(x):\n",
        "    turma = turmas[np.random.randint(0,4)]\n",
        "    disciplina = disciplinas[np.random.randint(0,4)]\n",
        "    return (\"Aluno \"+str(x), disciplina, turma, np.random.randint(0,101))\n",
        "\n",
        "disciplinas = [\"compiladores\",\"distribuidos\",\"pdi\",\"meta_heuristica\"]\n",
        "turmas = [1,2,3,4]\n",
        "alunos = np.array(list(map(lambda x: tuple(generateAluno(x)), np.random.randint(0,30,size=10))))\n",
        "\n",
        "alunos = pd.Series(alunos.tolist()) # pd.Series\n",
        "\n",
        "# Para melhor visualização, um DataFrame\n",
        "grades = pd.DataFrame(alunos.tolist(), columns=['Aluno', 'Disciplina', \"Turma\", \"Nota\"])\n",
        "print(grades)\n",
        "# q11.a.check()"
      ]
    },
    {
      "cell_type": "markdown",
      "metadata": {
        "id": "B6tRkCai_YCN"
      },
      "source": [
        "### 11.b.\n",
        "Agora, usando a série `grades` que você criou, extraia 5 informações que podem ser úteis em uma reunião de pais, análise pedagócica, avaliações, etc.\n",
        "\n",
        "Esta questão não possui `check`.\n",
        "Mas você pode pedir dica com `q11.b.hint()`."
      ]
    },
    {
      "cell_type": "code",
      "execution_count": 54,
      "metadata": {
        "id": "C6muNafm_YCN",
        "colab": {
          "base_uri": "https://localhost:8080/"
        },
        "outputId": "0b8d0d55-0aca-4d6c-e720-4844b82b57b7"
      },
      "outputs": [
        {
          "output_type": "stream",
          "name": "stdout",
          "text": [
            "(1) Notas turma 4\n",
            "      Aluno Nota\n",
            "0  Aluno 13   13\n",
            "1   Aluno 0   66\n",
            "2  Aluno 25  100\n",
            "3  Aluno 18   11\n",
            "\n",
            "(2) Média das notas da turma 4\n",
            "39.5\n",
            "\n",
            "(3) Alunos de compiladores\n",
            "      Aluno Nota\n",
            "0   Aluno 0   66\n",
            "1  Aluno 25  100\n",
            "\n",
            "(4) Alunos por disciplina\n",
            "Disciplina\n",
            "compiladores       2\n",
            "distribuidos       3\n",
            "meta_heuristica    5\n",
            "Name: Aluno, dtype: int64\n",
            "\n",
            "(5) Média das notas dos estudantes\n",
            "Aluno\n",
            "Aluno 0      72.0\n",
            "Aluno 12     80.0\n",
            "Aluno 13     13.0\n",
            "Aluno 18     11.0\n",
            "Aluno 19     22.0\n",
            "Aluno 20     75.0\n",
            "Aluno 25    100.0\n",
            "Aluno 5      31.0\n",
            "Aluno 7      56.0\n",
            "Name: Nota, dtype: float64\n"
          ]
        }
      ],
      "source": [
        "# q11.b.hint()\n",
        "\n",
        "print(\"(1) Notas turma 4\")\n",
        "notas_turma4 = alunos.apply(lambda x: [x[0],x[3]] if int(x[2])==4 else None).dropna()\n",
        "df_notas = pd.DataFrame(notas_turma4.tolist(), columns=[\"Aluno\",\"Nota\"])\n",
        "print(df_notas)\n",
        "\n",
        "print(\"\\n(2) Média das notas da turma 4\")\n",
        "media = notas_turma4.apply(lambda x: x[1]).median()\n",
        "print(media)\n",
        "\n",
        "print(\"\\n(3) Alunos de compiladores\")\n",
        "comp = alunos.apply(lambda x: [x[0],x[3]] if x[1]==\"compiladores\" else None).dropna()\n",
        "df_comp = pd.DataFrame(comp.tolist(), columns=[\"Aluno\",\"Nota\"])\n",
        "print(df_comp)\n",
        "\n",
        "print(\"\\n(4) Alunos por disciplina\")\n",
        "print(grades.groupby(\"Disciplina\")[\"Aluno\"].count())\n",
        "\n",
        "print(\"\\n(5) Média das notas dos estudantes\")\n",
        "print(grades.groupby(\"Aluno\")[\"Nota\"].median())"
      ]
    },
    {
      "cell_type": "markdown",
      "metadata": {
        "id": "4mgJ4QyA_YCN"
      },
      "source": [
        "### 11.c.\n",
        "Faça uma breve análise sobre a utilidade e limitações de uma série `pandas`. Também inclua uma opinião pessoal curta se gostou ou não dessa estrutura.\n",
        "\n",
        "Esta questão não possui `check`.\n",
        "Mas você pode pedir dica com `q11.c.hint()`."
      ]
    },
    {
      "cell_type": "code",
      "execution_count": 32,
      "metadata": {
        "id": "FAEcBR4E_YCN"
      },
      "outputs": [],
      "source": [
        "# q11.c.hint()"
      ]
    },
    {
      "cell_type": "markdown",
      "metadata": {
        "id": "bgAImaFL_YCN"
      },
      "source": [
        "#### Resposta:\n",
        "\n",
        "A \"Serie\" de pandas tem sua vantagem por disponibilizar diversas funções que facilitam análise e tratamento dos dados. Os exercícios feitos mostram que você consegue tratar e analisar os dados sem extensos trechos de códigos para isso.\n",
        "\n",
        "A desvantagem que vejo talvez não esteja só relacionada com a lib, mas também com python, que seria a eficiencia e velocidade deste tratamento.\n",
        "\n",
        "De modo geral, gostei de utilizar a lib pandas, usei pouquíssimas vezes."
      ]
    }
  ],
  "metadata": {
    "colab": {
      "provenance": []
    },
    "kernelspec": {
      "display_name": "Python 3",
      "language": "python",
      "name": "python3"
    },
    "language_info": {
      "codemirror_mode": {
        "name": "ipython",
        "version": 3
      },
      "file_extension": ".py",
      "mimetype": "text/x-python",
      "name": "python",
      "nbconvert_exporter": "python",
      "pygments_lexer": "ipython3",
      "version": "3.9.10"
    }
  },
  "nbformat": 4,
  "nbformat_minor": 0
}