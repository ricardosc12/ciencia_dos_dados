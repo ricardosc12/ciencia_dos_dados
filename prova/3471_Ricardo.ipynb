{
  "cells": [
    {
      "cell_type": "code",
      "execution_count": 104,
      "metadata": {},
      "outputs": [],
      "source": [
        "import pandas as pd\n",
        "import numpy as np\n",
        "import matplotlib.pyplot as plt\n",
        "import seaborn as sns"
      ]
    },
    {
      "attachments": {},
      "cell_type": "markdown",
      "metadata": {},
      "source": [
        "### Leitura dos dados"
      ]
    },
    {
      "cell_type": "code",
      "execution_count": 105,
      "metadata": {},
      "outputs": [
        {
          "data": {
            "text/html": [
              "<div>\n",
              "<style scoped>\n",
              "    .dataframe tbody tr th:only-of-type {\n",
              "        vertical-align: middle;\n",
              "    }\n",
              "\n",
              "    .dataframe tbody tr th {\n",
              "        vertical-align: top;\n",
              "    }\n",
              "\n",
              "    .dataframe thead th {\n",
              "        text-align: right;\n",
              "    }\n",
              "</style>\n",
              "<table border=\"1\" class=\"dataframe\">\n",
              "  <thead>\n",
              "    <tr style=\"text-align: right;\">\n",
              "      <th></th>\n",
              "      <th>Unnamed: 0</th>\n",
              "      <th>pais</th>\n",
              "      <th>regiao</th>\n",
              "      <th>populacao</th>\n",
              "      <th>area</th>\n",
              "      <th>densidade_populacional</th>\n",
              "      <th>area_costeira</th>\n",
              "      <th>migracao</th>\n",
              "      <th>mortalidade_infantil_por_1000</th>\n",
              "      <th>GDP</th>\n",
              "      <th>...</th>\n",
              "      <th>telefone_por_1000</th>\n",
              "      <th>terra_plantavel</th>\n",
              "      <th>cultivo</th>\n",
              "      <th>outro</th>\n",
              "      <th>clima</th>\n",
              "      <th>taxa_natalidade</th>\n",
              "      <th>taxa_mortalidade</th>\n",
              "      <th>agricultura</th>\n",
              "      <th>industria</th>\n",
              "      <th>servico</th>\n",
              "    </tr>\n",
              "  </thead>\n",
              "  <tbody>\n",
              "    <tr>\n",
              "      <th>0</th>\n",
              "      <td>0</td>\n",
              "      <td>Afghanistan</td>\n",
              "      <td>ASIA (EX. NEAR EAST)</td>\n",
              "      <td>31056997</td>\n",
              "      <td>647500</td>\n",
              "      <td>48.0</td>\n",
              "      <td>0.00</td>\n",
              "      <td>23.06</td>\n",
              "      <td>163.07</td>\n",
              "      <td>700.0</td>\n",
              "      <td>...</td>\n",
              "      <td>3.2</td>\n",
              "      <td>12.13</td>\n",
              "      <td>0.22</td>\n",
              "      <td>87.65</td>\n",
              "      <td>1.0</td>\n",
              "      <td>46.60</td>\n",
              "      <td>20.34</td>\n",
              "      <td>0.380</td>\n",
              "      <td>0.240</td>\n",
              "      <td>0.380</td>\n",
              "    </tr>\n",
              "    <tr>\n",
              "      <th>1</th>\n",
              "      <td>1</td>\n",
              "      <td>Albania</td>\n",
              "      <td>EASTERN EUROPE</td>\n",
              "      <td>3581655</td>\n",
              "      <td>28748</td>\n",
              "      <td>124.6</td>\n",
              "      <td>1.26</td>\n",
              "      <td>-4.93</td>\n",
              "      <td>21.52</td>\n",
              "      <td>4500.0</td>\n",
              "      <td>...</td>\n",
              "      <td>71.2</td>\n",
              "      <td>21.09</td>\n",
              "      <td>4.42</td>\n",
              "      <td>74.49</td>\n",
              "      <td>3.0</td>\n",
              "      <td>15.11</td>\n",
              "      <td>5.22</td>\n",
              "      <td>0.232</td>\n",
              "      <td>0.188</td>\n",
              "      <td>0.579</td>\n",
              "    </tr>\n",
              "    <tr>\n",
              "      <th>2</th>\n",
              "      <td>2</td>\n",
              "      <td>Algeria</td>\n",
              "      <td>NORTHERN AFRICA</td>\n",
              "      <td>32930091</td>\n",
              "      <td>2381740</td>\n",
              "      <td>13.8</td>\n",
              "      <td>0.04</td>\n",
              "      <td>-0.39</td>\n",
              "      <td>31.00</td>\n",
              "      <td>6000.0</td>\n",
              "      <td>...</td>\n",
              "      <td>78.1</td>\n",
              "      <td>3.22</td>\n",
              "      <td>0.25</td>\n",
              "      <td>96.53</td>\n",
              "      <td>1.0</td>\n",
              "      <td>17.14</td>\n",
              "      <td>4.61</td>\n",
              "      <td>0.101</td>\n",
              "      <td>0.600</td>\n",
              "      <td>0.298</td>\n",
              "    </tr>\n",
              "    <tr>\n",
              "      <th>3</th>\n",
              "      <td>3</td>\n",
              "      <td>American Samoa</td>\n",
              "      <td>OCEANIA</td>\n",
              "      <td>57794</td>\n",
              "      <td>199</td>\n",
              "      <td>290.4</td>\n",
              "      <td>58.29</td>\n",
              "      <td>-20.71</td>\n",
              "      <td>9.27</td>\n",
              "      <td>8000.0</td>\n",
              "      <td>...</td>\n",
              "      <td>259.5</td>\n",
              "      <td>10.00</td>\n",
              "      <td>15.00</td>\n",
              "      <td>75.00</td>\n",
              "      <td>2.0</td>\n",
              "      <td>22.46</td>\n",
              "      <td>3.27</td>\n",
              "      <td>NaN</td>\n",
              "      <td>NaN</td>\n",
              "      <td>NaN</td>\n",
              "    </tr>\n",
              "    <tr>\n",
              "      <th>4</th>\n",
              "      <td>4</td>\n",
              "      <td>Andorra</td>\n",
              "      <td>WESTERN EUROPE</td>\n",
              "      <td>71201</td>\n",
              "      <td>468</td>\n",
              "      <td>152.1</td>\n",
              "      <td>0.00</td>\n",
              "      <td>6.60</td>\n",
              "      <td>4.05</td>\n",
              "      <td>19000.0</td>\n",
              "      <td>...</td>\n",
              "      <td>497.2</td>\n",
              "      <td>2.22</td>\n",
              "      <td>0.00</td>\n",
              "      <td>97.78</td>\n",
              "      <td>3.0</td>\n",
              "      <td>8.71</td>\n",
              "      <td>6.25</td>\n",
              "      <td>NaN</td>\n",
              "      <td>NaN</td>\n",
              "      <td>NaN</td>\n",
              "    </tr>\n",
              "    <tr>\n",
              "      <th>...</th>\n",
              "      <td>...</td>\n",
              "      <td>...</td>\n",
              "      <td>...</td>\n",
              "      <td>...</td>\n",
              "      <td>...</td>\n",
              "      <td>...</td>\n",
              "      <td>...</td>\n",
              "      <td>...</td>\n",
              "      <td>...</td>\n",
              "      <td>...</td>\n",
              "      <td>...</td>\n",
              "      <td>...</td>\n",
              "      <td>...</td>\n",
              "      <td>...</td>\n",
              "      <td>...</td>\n",
              "      <td>...</td>\n",
              "      <td>...</td>\n",
              "      <td>...</td>\n",
              "      <td>...</td>\n",
              "      <td>...</td>\n",
              "      <td>...</td>\n",
              "    </tr>\n",
              "    <tr>\n",
              "      <th>222</th>\n",
              "      <td>222</td>\n",
              "      <td>West Bank</td>\n",
              "      <td>NEAR EAST</td>\n",
              "      <td>2460492</td>\n",
              "      <td>5860</td>\n",
              "      <td>419.9</td>\n",
              "      <td>0.00</td>\n",
              "      <td>2.98</td>\n",
              "      <td>19.62</td>\n",
              "      <td>800.0</td>\n",
              "      <td>...</td>\n",
              "      <td>145.2</td>\n",
              "      <td>16.90</td>\n",
              "      <td>18.97</td>\n",
              "      <td>64.13</td>\n",
              "      <td>3.0</td>\n",
              "      <td>31.67</td>\n",
              "      <td>3.92</td>\n",
              "      <td>0.090</td>\n",
              "      <td>0.280</td>\n",
              "      <td>0.630</td>\n",
              "    </tr>\n",
              "    <tr>\n",
              "      <th>223</th>\n",
              "      <td>223</td>\n",
              "      <td>Western Sahara</td>\n",
              "      <td>NORTHERN AFRICA</td>\n",
              "      <td>273008</td>\n",
              "      <td>266000</td>\n",
              "      <td>1.0</td>\n",
              "      <td>0.42</td>\n",
              "      <td>NaN</td>\n",
              "      <td>NaN</td>\n",
              "      <td>NaN</td>\n",
              "      <td>...</td>\n",
              "      <td>NaN</td>\n",
              "      <td>0.02</td>\n",
              "      <td>0.00</td>\n",
              "      <td>99.98</td>\n",
              "      <td>1.0</td>\n",
              "      <td>NaN</td>\n",
              "      <td>NaN</td>\n",
              "      <td>NaN</td>\n",
              "      <td>NaN</td>\n",
              "      <td>0.400</td>\n",
              "    </tr>\n",
              "    <tr>\n",
              "      <th>224</th>\n",
              "      <td>224</td>\n",
              "      <td>Yemen</td>\n",
              "      <td>NEAR EAST</td>\n",
              "      <td>21456188</td>\n",
              "      <td>527970</td>\n",
              "      <td>40.6</td>\n",
              "      <td>0.36</td>\n",
              "      <td>0.00</td>\n",
              "      <td>61.50</td>\n",
              "      <td>800.0</td>\n",
              "      <td>...</td>\n",
              "      <td>37.2</td>\n",
              "      <td>2.78</td>\n",
              "      <td>0.24</td>\n",
              "      <td>96.98</td>\n",
              "      <td>1.0</td>\n",
              "      <td>42.89</td>\n",
              "      <td>8.30</td>\n",
              "      <td>0.135</td>\n",
              "      <td>0.472</td>\n",
              "      <td>0.393</td>\n",
              "    </tr>\n",
              "    <tr>\n",
              "      <th>225</th>\n",
              "      <td>225</td>\n",
              "      <td>Zambia</td>\n",
              "      <td>SUB-SAHARAN AFRICA</td>\n",
              "      <td>11502010</td>\n",
              "      <td>752614</td>\n",
              "      <td>15.3</td>\n",
              "      <td>0.00</td>\n",
              "      <td>0.00</td>\n",
              "      <td>88.29</td>\n",
              "      <td>800.0</td>\n",
              "      <td>...</td>\n",
              "      <td>8.2</td>\n",
              "      <td>7.08</td>\n",
              "      <td>0.03</td>\n",
              "      <td>92.90</td>\n",
              "      <td>2.0</td>\n",
              "      <td>41.00</td>\n",
              "      <td>19.93</td>\n",
              "      <td>0.220</td>\n",
              "      <td>0.290</td>\n",
              "      <td>0.489</td>\n",
              "    </tr>\n",
              "    <tr>\n",
              "      <th>226</th>\n",
              "      <td>226</td>\n",
              "      <td>Zimbabwe</td>\n",
              "      <td>SUB-SAHARAN AFRICA</td>\n",
              "      <td>12236805</td>\n",
              "      <td>390580</td>\n",
              "      <td>31.3</td>\n",
              "      <td>0.00</td>\n",
              "      <td>0.00</td>\n",
              "      <td>67.69</td>\n",
              "      <td>1900.0</td>\n",
              "      <td>...</td>\n",
              "      <td>26.8</td>\n",
              "      <td>8.32</td>\n",
              "      <td>0.34</td>\n",
              "      <td>91.34</td>\n",
              "      <td>2.0</td>\n",
              "      <td>28.01</td>\n",
              "      <td>21.84</td>\n",
              "      <td>0.179</td>\n",
              "      <td>0.243</td>\n",
              "      <td>0.579</td>\n",
              "    </tr>\n",
              "  </tbody>\n",
              "</table>\n",
              "<p>227 rows × 21 columns</p>\n",
              "</div>"
            ],
            "text/plain": [
              "     Unnamed: 0            pais                regiao  populacao     area  \\\n",
              "0             0     Afghanistan  ASIA (EX. NEAR EAST)   31056997   647500   \n",
              "1             1         Albania        EASTERN EUROPE    3581655    28748   \n",
              "2             2         Algeria       NORTHERN AFRICA   32930091  2381740   \n",
              "3             3  American Samoa               OCEANIA      57794      199   \n",
              "4             4         Andorra        WESTERN EUROPE      71201      468   \n",
              "..          ...             ...                   ...        ...      ...   \n",
              "222         222       West Bank             NEAR EAST    2460492     5860   \n",
              "223         223  Western Sahara       NORTHERN AFRICA     273008   266000   \n",
              "224         224           Yemen             NEAR EAST   21456188   527970   \n",
              "225         225          Zambia    SUB-SAHARAN AFRICA   11502010   752614   \n",
              "226         226        Zimbabwe    SUB-SAHARAN AFRICA   12236805   390580   \n",
              "\n",
              "     densidade_populacional  area_costeira  migracao  \\\n",
              "0                      48.0           0.00     23.06   \n",
              "1                     124.6           1.26     -4.93   \n",
              "2                      13.8           0.04     -0.39   \n",
              "3                     290.4          58.29    -20.71   \n",
              "4                     152.1           0.00      6.60   \n",
              "..                      ...            ...       ...   \n",
              "222                   419.9           0.00      2.98   \n",
              "223                     1.0           0.42       NaN   \n",
              "224                    40.6           0.36      0.00   \n",
              "225                    15.3           0.00      0.00   \n",
              "226                    31.3           0.00      0.00   \n",
              "\n",
              "     mortalidade_infantil_por_1000      GDP  ...  telefone_por_1000  \\\n",
              "0                           163.07    700.0  ...                3.2   \n",
              "1                            21.52   4500.0  ...               71.2   \n",
              "2                            31.00   6000.0  ...               78.1   \n",
              "3                             9.27   8000.0  ...              259.5   \n",
              "4                             4.05  19000.0  ...              497.2   \n",
              "..                             ...      ...  ...                ...   \n",
              "222                          19.62    800.0  ...              145.2   \n",
              "223                            NaN      NaN  ...                NaN   \n",
              "224                          61.50    800.0  ...               37.2   \n",
              "225                          88.29    800.0  ...                8.2   \n",
              "226                          67.69   1900.0  ...               26.8   \n",
              "\n",
              "     terra_plantavel  cultivo  outro  clima  taxa_natalidade  \\\n",
              "0              12.13     0.22  87.65    1.0            46.60   \n",
              "1              21.09     4.42  74.49    3.0            15.11   \n",
              "2               3.22     0.25  96.53    1.0            17.14   \n",
              "3              10.00    15.00  75.00    2.0            22.46   \n",
              "4               2.22     0.00  97.78    3.0             8.71   \n",
              "..               ...      ...    ...    ...              ...   \n",
              "222            16.90    18.97  64.13    3.0            31.67   \n",
              "223             0.02     0.00  99.98    1.0              NaN   \n",
              "224             2.78     0.24  96.98    1.0            42.89   \n",
              "225             7.08     0.03  92.90    2.0            41.00   \n",
              "226             8.32     0.34  91.34    2.0            28.01   \n",
              "\n",
              "     taxa_mortalidade  agricultura  industria  servico  \n",
              "0               20.34        0.380      0.240    0.380  \n",
              "1                5.22        0.232      0.188    0.579  \n",
              "2                4.61        0.101      0.600    0.298  \n",
              "3                3.27          NaN        NaN      NaN  \n",
              "4                6.25          NaN        NaN      NaN  \n",
              "..                ...          ...        ...      ...  \n",
              "222              3.92        0.090      0.280    0.630  \n",
              "223               NaN          NaN        NaN    0.400  \n",
              "224              8.30        0.135      0.472    0.393  \n",
              "225             19.93        0.220      0.290    0.489  \n",
              "226             21.84        0.179      0.243    0.579  \n",
              "\n",
              "[227 rows x 21 columns]"
            ]
          },
          "execution_count": 105,
          "metadata": {},
          "output_type": "execute_result"
        }
      ],
      "source": [
        "df = pd.read_csv(\"paises-prova-2023.csv\")\n",
        "# df_not_null = df[pd.isnull(df['mortalidade_infantil_por_1000']) == False]\n",
        "df"
      ]
    },
    {
      "attachments": {},
      "cell_type": "markdown",
      "metadata": {},
      "source": [
        "#### Questao 1"
      ]
    },
    {
      "cell_type": "code",
      "execution_count": 106,
      "metadata": {},
      "outputs": [
        {
          "name": "stdout",
          "output_type": "stream",
          "text": [
            "Qt paises 227\n",
            "Qt regioes 11\n"
          ]
        }
      ],
      "source": [
        "paises = df['pais'].unique().size\n",
        "regioes = df['regiao'].unique().size\n",
        "\n",
        "print(\"Qt paises\",paises)\n",
        "print('Qt regioes', regioes)"
      ]
    },
    {
      "attachments": {},
      "cell_type": "markdown",
      "metadata": {},
      "source": [
        "#### Questao 2"
      ]
    },
    {
      "cell_type": "code",
      "execution_count": 107,
      "metadata": {},
      "outputs": [
        {
          "name": "stdout",
          "output_type": "stream",
          "text": [
            "Pais com menor mortalidade por 1000:  WESTERN EUROPE\n"
          ]
        }
      ],
      "source": [
        "menor_mortalidade = df.groupby(['regiao'])['mortalidade_infantil_por_1000'].mean().sort_values()[:1].index[0]\n",
        "\n",
        "print('Pais com menor mortalidade por 1000: ', menor_mortalidade)"
      ]
    },
    {
      "attachments": {},
      "cell_type": "markdown",
      "metadata": {},
      "source": [
        "#### Questao 3"
      ]
    },
    {
      "cell_type": "code",
      "execution_count": 108,
      "metadata": {},
      "outputs": [
        {
          "name": "stdout",
          "output_type": "stream",
          "text": [
            "Maior populacao:  China\n",
            "Menor populacao:  St Pierre & Miquelon\n"
          ]
        }
      ],
      "source": [
        "menor_populacao = df.groupby(['pais'])['populacao'].min().sort_values(ascending=True).index[0]\n",
        "maior_populacao = df.groupby(['pais'])['populacao'].max().sort_values(ascending=False).index[0]\n",
        "\n",
        "print(\"Maior populacao: \", maior_populacao)\n",
        "print(\"Menor populacao: \", menor_populacao)\n"
      ]
    },
    {
      "attachments": {},
      "cell_type": "markdown",
      "metadata": {},
      "source": [
        "#### Questao 4"
      ]
    },
    {
      "cell_type": "code",
      "execution_count": 109,
      "metadata": {},
      "outputs": [
        {
          "data": {
            "text/plain": [
              "<Axes: xlabel='regiao'>"
            ]
          },
          "execution_count": 109,
          "metadata": {},
          "output_type": "execute_result"
        },
        {
          "data": {
            "image/png": "[encoded data removed]",
            "text/plain": [
              "<Figure size 640x480 with 1 Axes>"
            ]
          },
          "metadata": {},
          "output_type": "display_data"
        }
      ],
      "source": [
        "df.groupby(['regiao'])['pais'].count().plot(kind='bar')\n"
      ]
    },
    {
      "attachments": {},
      "cell_type": "markdown",
      "metadata": {},
      "source": [
        "#### Questao 5"
      ]
    },
    {
      "cell_type": "code",
      "execution_count": 110,
      "metadata": {},
      "outputs": [
        {
          "name": "stdout",
          "output_type": "stream",
          "text": [
            "Porcentil 90 do GDP:  26900.0\n",
            "Percentil do GDP brasileiro: 58.590308370044056 %\n"
          ]
        }
      ],
      "source": [
        "percentil_90 = df['GDP'].quantile(.90)\n",
        "print(\"Porcentil 90 do GDP: \",percentil_90)\n",
        "\n",
        "brazil_gdp = df[df['pais']=='Brazil']['GDP'].values[0]\n",
        "percentil_brazil = sum(np.abs(df['GDP']) < brazil_gdp) / float(len(df['GDP']))*100\n",
        "print(\"Percentil do GDP brasileiro: {} %\".format(percentil_brazil))\n"
      ]
    },
    {
      "attachments": {},
      "cell_type": "markdown",
      "metadata": {},
      "source": [
        "#### Questao 6"
      ]
    },
    {
      "cell_type": "code",
      "execution_count": 111,
      "metadata": {},
      "outputs": [],
      "source": [
        "def confidence_interval(data):\n",
        "    mean=data.mean()\n",
        "    sd=data.std()\n",
        "    n=len(data)\n",
        "    std_error=sd/np.sqrt(n)\n",
        "    return (mean-(1.96*std_error)),(mean+(1.96*std_error))"
      ]
    },
    {
      "cell_type": "code",
      "execution_count": 112,
      "metadata": {},
      "outputs": [
        {
          "name": "stdout",
          "output_type": "stream",
          "text": [
            "Intervalo de confianca para a mortalidade por 1000:  (30.90310052684361, 40.110828044584956)\n",
            "Intervalo de confianca para a taxa de natalidade:  (20.6607557779754, 23.568708507738894)\n"
          ]
        }
      ],
      "source": [
        "print(\"Intervalo de confianca para a mortalidade por 1000: \", confidence_interval(df['mortalidade_infantil_por_1000']))\n",
        "print(\"Intervalo de confianca para a taxa de natalidade: \", confidence_interval(df['taxa_natalidade']))"
      ]
    },
    {
      "attachments": {},
      "cell_type": "markdown",
      "metadata": {},
      "source": [
        "#### Resposta Questao 6\n",
        "Com base no intervalo de confiança (mostrado acima) dos valores para cada uma das colunas, o valor 22 é mais provável de ser um valor pertencente a taxa de natalidade"
      ]
    },
    {
      "attachments": {},
      "cell_type": "markdown",
      "metadata": {},
      "source": [
        "#### Questao 7"
      ]
    },
    {
      "cell_type": "code",
      "execution_count": 113,
      "metadata": {},
      "outputs": [
        {
          "name": "stdout",
          "output_type": "stream",
          "text": [
            "Media da populacao de LATIN...:  12484991.08888889\n",
            "Media da populacao de SUB-SAHA...:  14694843.137254901\n",
            "Desvio da populacao de LATIN...:  32353969.310905356\n",
            "Desvio da populacao de SUB-SAHA...:  23091892.704227272\n",
            "\n",
            "\n",
            "Media da populacao das regioes sao iguais ?: True\n"
          ]
        }
      ],
      "source": [
        "# media_latin_region = df[df['']]\n",
        "media_latin_region = df[df['regiao'] == \"LATIN AMER. & CARIB\"]['populacao'].mean()\n",
        "media_sub_saha = df[df['regiao'] == \"SUB-SAHARAN AFRICA\"]['populacao'].mean()\n",
        "\n",
        "desvio_latin_region = df[df['regiao'] == \"LATIN AMER. & CARIB\"]['populacao'].std()\n",
        "desvio_sub_saha = df[df['regiao'] == \"SUB-SAHARAN AFRICA\"]['populacao'].std()\n",
        "\n",
        "qt_paises_sub = df[df['regiao'] == \"SUB-SAHARAN AFRICA\"]['pais'].count()\n",
        "\n",
        "print(\"Media da populacao de LATIN...: \", media_latin_region)\n",
        "print(\"Media da populacao de SUB-SAHA...: \", media_sub_saha)\n",
        "\n",
        "print(\"Desvio da populacao de LATIN...: \", desvio_latin_region)\n",
        "print(\"Desvio da populacao de SUB-SAHA...: \", desvio_sub_saha)\n",
        "\n",
        "erro = desvio_latin_region / np.sqrt(qt_paises_sub)\n",
        "distance = abs(media_latin_region - media_sub_saha) / erro\n",
        "\n",
        "print(\"\\n\\nMedia da populacao das regioes sao iguais ?:\", True if distance < 3*erro else False)\n",
        "\n"
      ]
    },
    {
      "attachments": {},
      "cell_type": "markdown",
      "metadata": {},
      "source": [
        "#### Resposta Questao 7\n",
        "Sim, o cálculo acima mostra que as médias das duas regiões são iguais"
      ]
    },
    {
      "attachments": {},
      "cell_type": "markdown",
      "metadata": {},
      "source": [
        "#### Questao 8"
      ]
    },
    {
      "cell_type": "code",
      "execution_count": 114,
      "metadata": {},
      "outputs": [
        {
          "data": {
            "text/plain": [
              "<Axes: xlabel='populacao', ylabel='area'>"
            ]
          },
          "execution_count": 114,
          "metadata": {},
          "output_type": "execute_result"
        },
        {
          "data": {
            "image/png": "[encoded data removed]",
            "text/plain": [
              "<Figure size 640x480 with 1 Axes>"
            ]
          },
          "metadata": {},
          "output_type": "display_data"
        }
      ],
      "source": [
        "df[df['regiao'] == \"BALTICS\"].plot(x=\"populacao\", y=\"area\", kind=\"scatter\")\n"
      ]
    },
    {
      "attachments": {},
      "cell_type": "markdown",
      "metadata": {},
      "source": [
        "#### Questao 9"
      ]
    },
    {
      "cell_type": "code",
      "execution_count": 115,
      "metadata": {},
      "outputs": [
        {
          "data": {
            "text/plain": [
              "<Axes: xlabel='regiao'>"
            ]
          },
          "execution_count": 115,
          "metadata": {},
          "output_type": "execute_result"
        },
        {
          "data": {
            "image/png": "[encoded data removed]",
            "text/plain": [
              "<Figure size 640x480 with 1 Axes>"
            ]
          },
          "metadata": {},
          "output_type": "display_data"
        }
      ],
      "source": [
        "df.groupby(['regiao'])['populacao'].mean().plot.bar()"
      ]
    }
  ],
  "metadata": {
    "colab": {
      "provenance": []
    },
    "interpreter": {
      "hash": "aee8b7b246df8f9039afb4144a1f6fd8d2ca17a180786b69acc140d282b71a49"
    },
    "kernelspec": {
      "display_name": "Python 3.9.12 64-bit",
      "language": "python",
      "name": "python3"
    },
    "language_info": {
      "codemirror_mode": {
        "name": "ipython",
        "version": 3
      },
      "file_extension": ".py",
      "mimetype": "text/x-python",
      "name": "python",
      "nbconvert_exporter": "python",
      "pygments_lexer": "ipython3",
      "version": "3.10.4"
    }
  },
  "nbformat": 4,
  "nbformat_minor": 0
}
