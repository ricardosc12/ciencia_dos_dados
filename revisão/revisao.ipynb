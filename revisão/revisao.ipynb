{
  "cells": [
    {
      "cell_type": "code",
      "execution_count": 19,
      "id": "28cffbde",
      "metadata": {
        "id": "28cffbde"
      },
      "outputs": [],
      "source": [
        "import pandas as pd\n",
        "import numpy as np\n",
        "import matplotlib.pyplot as plt\n",
        "import seaborn as sns"
      ]
    },
    {
      "cell_type": "code",
      "execution_count": 20,
      "id": "1f87483d",
      "metadata": {
        "colab": {
          "base_uri": "https://localhost:8080/",
          "height": 424
        },
        "id": "1f87483d",
        "outputId": "75252363-70d8-47d2-a04c-e4eaac3e36ac",
        "scrolled": true
      },
      "outputs": [
        {
          "data": {
            "text/html": [
              "<div>\n",
              "<style scoped>\n",
              "    .dataframe tbody tr th:only-of-type {\n",
              "        vertical-align: middle;\n",
              "    }\n",
              "\n",
              "    .dataframe tbody tr th {\n",
              "        vertical-align: top;\n",
              "    }\n",
              "\n",
              "    .dataframe thead th {\n",
              "        text-align: right;\n",
              "    }\n",
              "</style>\n",
              "<table border=\"1\" class=\"dataframe\">\n",
              "  <thead>\n",
              "    <tr style=\"text-align: right;\">\n",
              "      <th></th>\n",
              "      <th>fixed acidity</th>\n",
              "      <th>volatile acidity</th>\n",
              "      <th>citric acid</th>\n",
              "      <th>residual sugar</th>\n",
              "      <th>chlorides</th>\n",
              "      <th>free sulfur dioxide</th>\n",
              "      <th>total sulfur dioxide</th>\n",
              "      <th>density</th>\n",
              "      <th>pH</th>\n",
              "      <th>sulphates</th>\n",
              "      <th>alcohol</th>\n",
              "      <th>quality</th>\n",
              "    </tr>\n",
              "  </thead>\n",
              "  <tbody>\n",
              "    <tr>\n",
              "      <th>0</th>\n",
              "      <td>7.4</td>\n",
              "      <td>0.700</td>\n",
              "      <td>0.00</td>\n",
              "      <td>1.9</td>\n",
              "      <td>0.076</td>\n",
              "      <td>11.0</td>\n",
              "      <td>34.0</td>\n",
              "      <td>0.99780</td>\n",
              "      <td>3.51</td>\n",
              "      <td>0.56</td>\n",
              "      <td>9.4</td>\n",
              "      <td>5</td>\n",
              "    </tr>\n",
              "    <tr>\n",
              "      <th>1</th>\n",
              "      <td>7.8</td>\n",
              "      <td>0.880</td>\n",
              "      <td>0.00</td>\n",
              "      <td>2.6</td>\n",
              "      <td>0.098</td>\n",
              "      <td>25.0</td>\n",
              "      <td>67.0</td>\n",
              "      <td>0.99680</td>\n",
              "      <td>3.20</td>\n",
              "      <td>0.68</td>\n",
              "      <td>9.8</td>\n",
              "      <td>5</td>\n",
              "    </tr>\n",
              "    <tr>\n",
              "      <th>2</th>\n",
              "      <td>7.8</td>\n",
              "      <td>0.760</td>\n",
              "      <td>0.04</td>\n",
              "      <td>2.3</td>\n",
              "      <td>0.092</td>\n",
              "      <td>15.0</td>\n",
              "      <td>54.0</td>\n",
              "      <td>0.99700</td>\n",
              "      <td>3.26</td>\n",
              "      <td>0.65</td>\n",
              "      <td>9.8</td>\n",
              "      <td>5</td>\n",
              "    </tr>\n",
              "    <tr>\n",
              "      <th>3</th>\n",
              "      <td>11.2</td>\n",
              "      <td>0.280</td>\n",
              "      <td>0.56</td>\n",
              "      <td>1.9</td>\n",
              "      <td>0.075</td>\n",
              "      <td>17.0</td>\n",
              "      <td>60.0</td>\n",
              "      <td>0.99800</td>\n",
              "      <td>3.16</td>\n",
              "      <td>0.58</td>\n",
              "      <td>9.8</td>\n",
              "      <td>6</td>\n",
              "    </tr>\n",
              "    <tr>\n",
              "      <th>4</th>\n",
              "      <td>7.4</td>\n",
              "      <td>0.700</td>\n",
              "      <td>0.00</td>\n",
              "      <td>1.9</td>\n",
              "      <td>0.076</td>\n",
              "      <td>11.0</td>\n",
              "      <td>34.0</td>\n",
              "      <td>0.99780</td>\n",
              "      <td>3.51</td>\n",
              "      <td>0.56</td>\n",
              "      <td>9.4</td>\n",
              "      <td>5</td>\n",
              "    </tr>\n",
              "    <tr>\n",
              "      <th>...</th>\n",
              "      <td>...</td>\n",
              "      <td>...</td>\n",
              "      <td>...</td>\n",
              "      <td>...</td>\n",
              "      <td>...</td>\n",
              "      <td>...</td>\n",
              "      <td>...</td>\n",
              "      <td>...</td>\n",
              "      <td>...</td>\n",
              "      <td>...</td>\n",
              "      <td>...</td>\n",
              "      <td>...</td>\n",
              "    </tr>\n",
              "    <tr>\n",
              "      <th>1594</th>\n",
              "      <td>6.2</td>\n",
              "      <td>0.600</td>\n",
              "      <td>0.08</td>\n",
              "      <td>2.0</td>\n",
              "      <td>0.090</td>\n",
              "      <td>32.0</td>\n",
              "      <td>44.0</td>\n",
              "      <td>0.99490</td>\n",
              "      <td>3.45</td>\n",
              "      <td>0.58</td>\n",
              "      <td>10.5</td>\n",
              "      <td>5</td>\n",
              "    </tr>\n",
              "    <tr>\n",
              "      <th>1595</th>\n",
              "      <td>5.9</td>\n",
              "      <td>0.550</td>\n",
              "      <td>0.10</td>\n",
              "      <td>2.2</td>\n",
              "      <td>0.062</td>\n",
              "      <td>39.0</td>\n",
              "      <td>51.0</td>\n",
              "      <td>0.99512</td>\n",
              "      <td>3.52</td>\n",
              "      <td>0.76</td>\n",
              "      <td>11.2</td>\n",
              "      <td>6</td>\n",
              "    </tr>\n",
              "    <tr>\n",
              "      <th>1596</th>\n",
              "      <td>6.3</td>\n",
              "      <td>0.510</td>\n",
              "      <td>0.13</td>\n",
              "      <td>2.3</td>\n",
              "      <td>0.076</td>\n",
              "      <td>29.0</td>\n",
              "      <td>40.0</td>\n",
              "      <td>0.99574</td>\n",
              "      <td>3.42</td>\n",
              "      <td>0.75</td>\n",
              "      <td>11.0</td>\n",
              "      <td>6</td>\n",
              "    </tr>\n",
              "    <tr>\n",
              "      <th>1597</th>\n",
              "      <td>5.9</td>\n",
              "      <td>0.645</td>\n",
              "      <td>0.12</td>\n",
              "      <td>2.0</td>\n",
              "      <td>0.075</td>\n",
              "      <td>32.0</td>\n",
              "      <td>44.0</td>\n",
              "      <td>0.99547</td>\n",
              "      <td>3.57</td>\n",
              "      <td>0.71</td>\n",
              "      <td>10.2</td>\n",
              "      <td>5</td>\n",
              "    </tr>\n",
              "    <tr>\n",
              "      <th>1598</th>\n",
              "      <td>6.0</td>\n",
              "      <td>0.310</td>\n",
              "      <td>0.47</td>\n",
              "      <td>3.6</td>\n",
              "      <td>0.067</td>\n",
              "      <td>18.0</td>\n",
              "      <td>42.0</td>\n",
              "      <td>0.99549</td>\n",
              "      <td>3.39</td>\n",
              "      <td>0.66</td>\n",
              "      <td>11.0</td>\n",
              "      <td>6</td>\n",
              "    </tr>\n",
              "  </tbody>\n",
              "</table>\n",
              "<p>1599 rows × 12 columns</p>\n",
              "</div>"
            ],
            "text/plain": [
              "      fixed acidity  volatile acidity  citric acid  residual sugar  chlorides  \\\n",
              "0               7.4             0.700         0.00             1.9      0.076   \n",
              "1               7.8             0.880         0.00             2.6      0.098   \n",
              "2               7.8             0.760         0.04             2.3      0.092   \n",
              "3              11.2             0.280         0.56             1.9      0.075   \n",
              "4               7.4             0.700         0.00             1.9      0.076   \n",
              "...             ...               ...          ...             ...        ...   \n",
              "1594            6.2             0.600         0.08             2.0      0.090   \n",
              "1595            5.9             0.550         0.10             2.2      0.062   \n",
              "1596            6.3             0.510         0.13             2.3      0.076   \n",
              "1597            5.9             0.645         0.12             2.0      0.075   \n",
              "1598            6.0             0.310         0.47             3.6      0.067   \n",
              "\n",
              "      free sulfur dioxide  total sulfur dioxide  density    pH  sulphates  \\\n",
              "0                    11.0                  34.0  0.99780  3.51       0.56   \n",
              "1                    25.0                  67.0  0.99680  3.20       0.68   \n",
              "2                    15.0                  54.0  0.99700  3.26       0.65   \n",
              "3                    17.0                  60.0  0.99800  3.16       0.58   \n",
              "4                    11.0                  34.0  0.99780  3.51       0.56   \n",
              "...                   ...                   ...      ...   ...        ...   \n",
              "1594                 32.0                  44.0  0.99490  3.45       0.58   \n",
              "1595                 39.0                  51.0  0.99512  3.52       0.76   \n",
              "1596                 29.0                  40.0  0.99574  3.42       0.75   \n",
              "1597                 32.0                  44.0  0.99547  3.57       0.71   \n",
              "1598                 18.0                  42.0  0.99549  3.39       0.66   \n",
              "\n",
              "      alcohol  quality  \n",
              "0         9.4        5  \n",
              "1         9.8        5  \n",
              "2         9.8        5  \n",
              "3         9.8        6  \n",
              "4         9.4        5  \n",
              "...       ...      ...  \n",
              "1594     10.5        5  \n",
              "1595     11.2        6  \n",
              "1596     11.0        6  \n",
              "1597     10.2        5  \n",
              "1598     11.0        6  \n",
              "\n",
              "[1599 rows x 12 columns]"
            ]
          },
          "execution_count": 20,
          "metadata": {},
          "output_type": "execute_result"
        }
      ],
      "source": [
        "df = pd.read_csv(\"winequality-red.csv\")\n",
        "df"
      ]
    },
    {
      "cell_type": "code",
      "execution_count": 21,
      "id": "cedfaf5e",
      "metadata": {
        "id": "cedfaf5e",
        "outputId": "4b650420-c72a-45cc-f1b8-edaf9356dae2"
      },
      "outputs": [
        {
          "data": {
            "text/plain": [
              "fixed acidity           0\n",
              "volatile acidity        0\n",
              "citric acid             0\n",
              "residual sugar          0\n",
              "chlorides               0\n",
              "free sulfur dioxide     0\n",
              "total sulfur dioxide    0\n",
              "density                 0\n",
              "pH                      0\n",
              "sulphates               0\n",
              "alcohol                 0\n",
              "quality                 0\n",
              "dtype: int64"
            ]
          },
          "execution_count": 21,
          "metadata": {},
          "output_type": "execute_result"
        }
      ],
      "source": [
        "df.isnull().sum()"
      ]
    },
    {
      "attachments": {},
      "cell_type": "markdown",
      "id": "b683046c",
      "metadata": {
        "id": "b683046c"
      },
      "source": [
        "## Quais as quantidades de cada tipo de vinho?"
      ]
    },
    {
      "cell_type": "code",
      "execution_count": 22,
      "id": "6aafe8a4",
      "metadata": {
        "colab": {
          "base_uri": "https://localhost:8080/"
        },
        "id": "6aafe8a4",
        "outputId": "e760bf04-a936-41b7-f30d-84213d33b159",
        "scrolled": true
      },
      "outputs": [
        {
          "data": {
            "text/plain": [
              "5    681\n",
              "6    638\n",
              "7    199\n",
              "4     53\n",
              "8     18\n",
              "3     10\n",
              "Name: quality, dtype: int64"
            ]
          },
          "execution_count": 22,
          "metadata": {},
          "output_type": "execute_result"
        }
      ],
      "source": [
        "df['quality'].value_counts()"
      ]
    },
    {
      "attachments": {},
      "cell_type": "markdown",
      "id": "dab6054a",
      "metadata": {
        "id": "dab6054a"
      },
      "source": [
        "## Quantos desvios padrões o vinho de 0.5 de açucar residual está da média?"
      ]
    },
    {
      "cell_type": "code",
      "execution_count": 23,
      "id": "581e2b85",
      "metadata": {
        "colab": {
          "base_uri": "https://localhost:8080/"
        },
        "id": "581e2b85",
        "outputId": "845946ee-79a4-4349-926b-12b153ea67a3"
      },
      "outputs": [
        {
          "data": {
            "text/plain": [
              "1.446035129020796"
            ]
          },
          "execution_count": 23,
          "metadata": {},
          "output_type": "execute_result"
        }
      ],
      "source": [
        "std_distance = (abs(0.5 - df['residual sugar'].mean()) / df['residual sugar'].std())\n",
        "std_distance"
      ]
    },
    {
      "attachments": {},
      "cell_type": "markdown",
      "id": "c595c13f",
      "metadata": {
        "id": "c595c13f"
      },
      "source": [
        "## Qual o intervalo de confiança dos vinhos de qualidade 5 em relação à quantidade de açucar residual?"
      ]
    },
    {
      "cell_type": "code",
      "execution_count": 24,
      "id": "aaefaaa6",
      "metadata": {
        "id": "aaefaaa6"
      },
      "outputs": [],
      "source": [
        "# 1.96 pois este é o valor crítico encontrado na tabela z para 5%\n",
        "# 100% - 5%/2 = 97.5%, esse valor na tabela Z é igual a 1.96\n",
        "\n",
        "def confidence_interval(data):\n",
        "    # 95% intervalo confiança\n",
        "    mean=data.mean()\n",
        "    sd=data.std()\n",
        "    n=len(data)\n",
        "    std_error=sd/np.sqrt(n)\n",
        "    return (mean-(1.96*std_error)),(mean+(1.96*std_error))"
      ]
    },
    {
      "cell_type": "code",
      "execution_count": 25,
      "id": "aTYE4OQk7Xmv",
      "metadata": {
        "colab": {
          "base_uri": "https://localhost:8080/"
        },
        "id": "aTYE4OQk7Xmv",
        "outputId": "8ba8ab2f-ad73-4d13-e7b5-48180aaa908b"
      },
      "outputs": [
        {
          "data": {
            "text/plain": [
              "(2.426727190893679, 2.630982060207643)"
            ]
          },
          "execution_count": 25,
          "metadata": {},
          "output_type": "execute_result"
        }
      ],
      "source": [
        "confidence_interval(df[df['quality'] == 5]['residual sugar'])"
      ]
    },
    {
      "attachments": {},
      "cell_type": "markdown",
      "id": "eb840c81",
      "metadata": {
        "id": "eb840c81"
      },
      "source": [
        "## Plote a distribuição do teor alcólico dos vinhos de acordo com a qualidade"
      ]
    },
    {
      "cell_type": "code",
      "execution_count": 26,
      "id": "027d6e7b",
      "metadata": {
        "colab": {
          "base_uri": "https://localhost:8080/",
          "height": 466
        },
        "id": "027d6e7b",
        "outputId": "e8ea9344-0eb4-46e1-8674-83df0f073a16"
      },
      "outputs": [
        {
          "data": {
            "text/plain": [
              "<Axes: xlabel='quality', ylabel='alcohol'>"
            ]
          },
          "execution_count": 26,
          "metadata": {},
          "output_type": "execute_result"
        },
        {
          "data": {
            "image/png": "[encoded data removed]",
            "text/plain": [
              "<Figure size 640x480 with 1 Axes>"
            ]
          },
          "metadata": {},
          "output_type": "display_data"
        }
      ],
      "source": [
        "sns.boxplot(data=df, x='quality', y='alcohol')"
      ]
    },
    {
      "attachments": {},
      "cell_type": "markdown",
      "id": "5d9062e9",
      "metadata": {
        "id": "5d9062e9"
      },
      "source": [
        "## Houve um erro durante a produção, sendo que vinhos com a açucar residual maior que 10 foram afetados. Mostre quais foram os vinhos afetados"
      ]
    },
    {
      "cell_type": "code",
      "execution_count": 27,
      "id": "d3dc790f",
      "metadata": {
        "colab": {
          "base_uri": "https://localhost:8080/",
          "height": 394
        },
        "id": "d3dc790f",
        "outputId": "12182909-d7ed-426c-f852-c20d65fc0b56",
        "scrolled": true
      },
      "outputs": [
        {
          "data": {
            "text/html": [
              "<div>\n",
              "<style scoped>\n",
              "    .dataframe tbody tr th:only-of-type {\n",
              "        vertical-align: middle;\n",
              "    }\n",
              "\n",
              "    .dataframe tbody tr th {\n",
              "        vertical-align: top;\n",
              "    }\n",
              "\n",
              "    .dataframe thead th {\n",
              "        text-align: right;\n",
              "    }\n",
              "</style>\n",
              "<table border=\"1\" class=\"dataframe\">\n",
              "  <thead>\n",
              "    <tr style=\"text-align: right;\">\n",
              "      <th></th>\n",
              "      <th>fixed acidity</th>\n",
              "      <th>volatile acidity</th>\n",
              "      <th>citric acid</th>\n",
              "      <th>residual sugar</th>\n",
              "      <th>chlorides</th>\n",
              "      <th>free sulfur dioxide</th>\n",
              "      <th>total sulfur dioxide</th>\n",
              "      <th>density</th>\n",
              "      <th>pH</th>\n",
              "      <th>sulphates</th>\n",
              "      <th>alcohol</th>\n",
              "      <th>quality</th>\n",
              "    </tr>\n",
              "  </thead>\n",
              "  <tbody>\n",
              "    <tr>\n",
              "      <th>33</th>\n",
              "      <td>6.9</td>\n",
              "      <td>0.605</td>\n",
              "      <td>0.12</td>\n",
              "      <td>10.7</td>\n",
              "      <td>0.073</td>\n",
              "      <td>40.0</td>\n",
              "      <td>83.0</td>\n",
              "      <td>0.99930</td>\n",
              "      <td>3.45</td>\n",
              "      <td>0.52</td>\n",
              "      <td>9.4</td>\n",
              "      <td>6</td>\n",
              "    </tr>\n",
              "    <tr>\n",
              "      <th>324</th>\n",
              "      <td>10.0</td>\n",
              "      <td>0.490</td>\n",
              "      <td>0.20</td>\n",
              "      <td>11.0</td>\n",
              "      <td>0.071</td>\n",
              "      <td>13.0</td>\n",
              "      <td>50.0</td>\n",
              "      <td>1.00150</td>\n",
              "      <td>3.16</td>\n",
              "      <td>0.69</td>\n",
              "      <td>9.2</td>\n",
              "      <td>6</td>\n",
              "    </tr>\n",
              "    <tr>\n",
              "      <th>325</th>\n",
              "      <td>10.0</td>\n",
              "      <td>0.490</td>\n",
              "      <td>0.20</td>\n",
              "      <td>11.0</td>\n",
              "      <td>0.071</td>\n",
              "      <td>13.0</td>\n",
              "      <td>50.0</td>\n",
              "      <td>1.00150</td>\n",
              "      <td>3.16</td>\n",
              "      <td>0.69</td>\n",
              "      <td>9.2</td>\n",
              "      <td>6</td>\n",
              "    </tr>\n",
              "    <tr>\n",
              "      <th>480</th>\n",
              "      <td>10.6</td>\n",
              "      <td>0.280</td>\n",
              "      <td>0.39</td>\n",
              "      <td>15.5</td>\n",
              "      <td>0.069</td>\n",
              "      <td>6.0</td>\n",
              "      <td>23.0</td>\n",
              "      <td>1.00260</td>\n",
              "      <td>3.12</td>\n",
              "      <td>0.66</td>\n",
              "      <td>9.2</td>\n",
              "      <td>5</td>\n",
              "    </tr>\n",
              "    <tr>\n",
              "      <th>1235</th>\n",
              "      <td>6.0</td>\n",
              "      <td>0.330</td>\n",
              "      <td>0.32</td>\n",
              "      <td>12.9</td>\n",
              "      <td>0.054</td>\n",
              "      <td>6.0</td>\n",
              "      <td>113.0</td>\n",
              "      <td>0.99572</td>\n",
              "      <td>3.30</td>\n",
              "      <td>0.56</td>\n",
              "      <td>11.5</td>\n",
              "      <td>4</td>\n",
              "    </tr>\n",
              "    <tr>\n",
              "      <th>1244</th>\n",
              "      <td>5.9</td>\n",
              "      <td>0.290</td>\n",
              "      <td>0.25</td>\n",
              "      <td>13.4</td>\n",
              "      <td>0.067</td>\n",
              "      <td>72.0</td>\n",
              "      <td>160.0</td>\n",
              "      <td>0.99721</td>\n",
              "      <td>3.33</td>\n",
              "      <td>0.54</td>\n",
              "      <td>10.3</td>\n",
              "      <td>6</td>\n",
              "    </tr>\n",
              "    <tr>\n",
              "      <th>1434</th>\n",
              "      <td>10.2</td>\n",
              "      <td>0.540</td>\n",
              "      <td>0.37</td>\n",
              "      <td>15.4</td>\n",
              "      <td>0.214</td>\n",
              "      <td>55.0</td>\n",
              "      <td>95.0</td>\n",
              "      <td>1.00369</td>\n",
              "      <td>3.18</td>\n",
              "      <td>0.77</td>\n",
              "      <td>9.0</td>\n",
              "      <td>6</td>\n",
              "    </tr>\n",
              "    <tr>\n",
              "      <th>1435</th>\n",
              "      <td>10.2</td>\n",
              "      <td>0.540</td>\n",
              "      <td>0.37</td>\n",
              "      <td>15.4</td>\n",
              "      <td>0.214</td>\n",
              "      <td>55.0</td>\n",
              "      <td>95.0</td>\n",
              "      <td>1.00369</td>\n",
              "      <td>3.18</td>\n",
              "      <td>0.77</td>\n",
              "      <td>9.0</td>\n",
              "      <td>6</td>\n",
              "    </tr>\n",
              "    <tr>\n",
              "      <th>1474</th>\n",
              "      <td>9.9</td>\n",
              "      <td>0.500</td>\n",
              "      <td>0.50</td>\n",
              "      <td>13.8</td>\n",
              "      <td>0.205</td>\n",
              "      <td>48.0</td>\n",
              "      <td>82.0</td>\n",
              "      <td>1.00242</td>\n",
              "      <td>3.16</td>\n",
              "      <td>0.75</td>\n",
              "      <td>8.8</td>\n",
              "      <td>5</td>\n",
              "    </tr>\n",
              "    <tr>\n",
              "      <th>1476</th>\n",
              "      <td>9.9</td>\n",
              "      <td>0.500</td>\n",
              "      <td>0.50</td>\n",
              "      <td>13.8</td>\n",
              "      <td>0.205</td>\n",
              "      <td>48.0</td>\n",
              "      <td>82.0</td>\n",
              "      <td>1.00242</td>\n",
              "      <td>3.16</td>\n",
              "      <td>0.75</td>\n",
              "      <td>8.8</td>\n",
              "      <td>5</td>\n",
              "    </tr>\n",
              "    <tr>\n",
              "      <th>1574</th>\n",
              "      <td>5.6</td>\n",
              "      <td>0.310</td>\n",
              "      <td>0.78</td>\n",
              "      <td>13.9</td>\n",
              "      <td>0.074</td>\n",
              "      <td>23.0</td>\n",
              "      <td>92.0</td>\n",
              "      <td>0.99677</td>\n",
              "      <td>3.39</td>\n",
              "      <td>0.48</td>\n",
              "      <td>10.5</td>\n",
              "      <td>6</td>\n",
              "    </tr>\n",
              "  </tbody>\n",
              "</table>\n",
              "</div>"
            ],
            "text/plain": [
              "      fixed acidity  volatile acidity  citric acid  residual sugar  chlorides  \\\n",
              "33              6.9             0.605         0.12            10.7      0.073   \n",
              "324            10.0             0.490         0.20            11.0      0.071   \n",
              "325            10.0             0.490         0.20            11.0      0.071   \n",
              "480            10.6             0.280         0.39            15.5      0.069   \n",
              "1235            6.0             0.330         0.32            12.9      0.054   \n",
              "1244            5.9             0.290         0.25            13.4      0.067   \n",
              "1434           10.2             0.540         0.37            15.4      0.214   \n",
              "1435           10.2             0.540         0.37            15.4      0.214   \n",
              "1474            9.9             0.500         0.50            13.8      0.205   \n",
              "1476            9.9             0.500         0.50            13.8      0.205   \n",
              "1574            5.6             0.310         0.78            13.9      0.074   \n",
              "\n",
              "      free sulfur dioxide  total sulfur dioxide  density    pH  sulphates  \\\n",
              "33                   40.0                  83.0  0.99930  3.45       0.52   \n",
              "324                  13.0                  50.0  1.00150  3.16       0.69   \n",
              "325                  13.0                  50.0  1.00150  3.16       0.69   \n",
              "480                   6.0                  23.0  1.00260  3.12       0.66   \n",
              "1235                  6.0                 113.0  0.99572  3.30       0.56   \n",
              "1244                 72.0                 160.0  0.99721  3.33       0.54   \n",
              "1434                 55.0                  95.0  1.00369  3.18       0.77   \n",
              "1435                 55.0                  95.0  1.00369  3.18       0.77   \n",
              "1474                 48.0                  82.0  1.00242  3.16       0.75   \n",
              "1476                 48.0                  82.0  1.00242  3.16       0.75   \n",
              "1574                 23.0                  92.0  0.99677  3.39       0.48   \n",
              "\n",
              "      alcohol  quality  \n",
              "33        9.4        6  \n",
              "324       9.2        6  \n",
              "325       9.2        6  \n",
              "480       9.2        5  \n",
              "1235     11.5        4  \n",
              "1244     10.3        6  \n",
              "1434      9.0        6  \n",
              "1435      9.0        6  \n",
              "1474      8.8        5  \n",
              "1476      8.8        5  \n",
              "1574     10.5        6  "
            ]
          },
          "execution_count": 27,
          "metadata": {},
          "output_type": "execute_result"
        }
      ],
      "source": [
        "df[df['residual sugar'] > 10]"
      ]
    },
    {
      "attachments": {},
      "cell_type": "markdown",
      "id": "c09710e1",
      "metadata": {
        "id": "c09710e1"
      },
      "source": [
        "### Mostre uma lista com o id dos vinhos afetados"
      ]
    },
    {
      "cell_type": "code",
      "execution_count": 28,
      "id": "21be46d6",
      "metadata": {
        "colab": {
          "base_uri": "https://localhost:8080/"
        },
        "id": "21be46d6",
        "outputId": "ad744997-5ce2-494b-c792-3b4c79709797"
      },
      "outputs": [
        {
          "data": {
            "text/plain": [
              "Int64Index([33, 324, 325, 480, 1235, 1244, 1434, 1435, 1474, 1476, 1574], dtype='int64')"
            ]
          },
          "execution_count": 28,
          "metadata": {},
          "output_type": "execute_result"
        }
      ],
      "source": [
        "df[df['residual sugar'] > 10].index"
      ]
    },
    {
      "attachments": {},
      "cell_type": "markdown",
      "id": "0b62d800",
      "metadata": {
        "id": "0b62d800"
      },
      "source": [
        "## Adicione um coluna para determinar o valor do vinho, considerando que o valor será:"
      ]
    },
    {
      "attachments": {},
      "cell_type": "markdown",
      "id": "a27e9481",
      "metadata": {
        "id": "a27e9481"
      },
      "source": [
        "Valor = Qualidade * teor alcóolico"
      ]
    },
    {
      "cell_type": "code",
      "execution_count": 29,
      "id": "9e2a7279",
      "metadata": {
        "colab": {
          "base_uri": "https://localhost:8080/",
          "height": 424
        },
        "id": "9e2a7279",
        "outputId": "5c082601-73a2-4e8a-d287-f5231a8e629d",
        "scrolled": true
      },
      "outputs": [
        {
          "data": {
            "text/html": [
              "<div>\n",
              "<style scoped>\n",
              "    .dataframe tbody tr th:only-of-type {\n",
              "        vertical-align: middle;\n",
              "    }\n",
              "\n",
              "    .dataframe tbody tr th {\n",
              "        vertical-align: top;\n",
              "    }\n",
              "\n",
              "    .dataframe thead th {\n",
              "        text-align: right;\n",
              "    }\n",
              "</style>\n",
              "<table border=\"1\" class=\"dataframe\">\n",
              "  <thead>\n",
              "    <tr style=\"text-align: right;\">\n",
              "      <th></th>\n",
              "      <th>fixed acidity</th>\n",
              "      <th>volatile acidity</th>\n",
              "      <th>citric acid</th>\n",
              "      <th>residual sugar</th>\n",
              "      <th>chlorides</th>\n",
              "      <th>free sulfur dioxide</th>\n",
              "      <th>total sulfur dioxide</th>\n",
              "      <th>density</th>\n",
              "      <th>pH</th>\n",
              "      <th>sulphates</th>\n",
              "      <th>alcohol</th>\n",
              "      <th>quality</th>\n",
              "      <th>valor</th>\n",
              "    </tr>\n",
              "  </thead>\n",
              "  <tbody>\n",
              "    <tr>\n",
              "      <th>0</th>\n",
              "      <td>7.4</td>\n",
              "      <td>0.700</td>\n",
              "      <td>0.00</td>\n",
              "      <td>1.9</td>\n",
              "      <td>0.076</td>\n",
              "      <td>11.0</td>\n",
              "      <td>34.0</td>\n",
              "      <td>0.99780</td>\n",
              "      <td>3.51</td>\n",
              "      <td>0.56</td>\n",
              "      <td>9.4</td>\n",
              "      <td>5</td>\n",
              "      <td>47.0</td>\n",
              "    </tr>\n",
              "    <tr>\n",
              "      <th>1</th>\n",
              "      <td>7.8</td>\n",
              "      <td>0.880</td>\n",
              "      <td>0.00</td>\n",
              "      <td>2.6</td>\n",
              "      <td>0.098</td>\n",
              "      <td>25.0</td>\n",
              "      <td>67.0</td>\n",
              "      <td>0.99680</td>\n",
              "      <td>3.20</td>\n",
              "      <td>0.68</td>\n",
              "      <td>9.8</td>\n",
              "      <td>5</td>\n",
              "      <td>49.0</td>\n",
              "    </tr>\n",
              "    <tr>\n",
              "      <th>2</th>\n",
              "      <td>7.8</td>\n",
              "      <td>0.760</td>\n",
              "      <td>0.04</td>\n",
              "      <td>2.3</td>\n",
              "      <td>0.092</td>\n",
              "      <td>15.0</td>\n",
              "      <td>54.0</td>\n",
              "      <td>0.99700</td>\n",
              "      <td>3.26</td>\n",
              "      <td>0.65</td>\n",
              "      <td>9.8</td>\n",
              "      <td>5</td>\n",
              "      <td>49.0</td>\n",
              "    </tr>\n",
              "    <tr>\n",
              "      <th>3</th>\n",
              "      <td>11.2</td>\n",
              "      <td>0.280</td>\n",
              "      <td>0.56</td>\n",
              "      <td>1.9</td>\n",
              "      <td>0.075</td>\n",
              "      <td>17.0</td>\n",
              "      <td>60.0</td>\n",
              "      <td>0.99800</td>\n",
              "      <td>3.16</td>\n",
              "      <td>0.58</td>\n",
              "      <td>9.8</td>\n",
              "      <td>6</td>\n",
              "      <td>58.8</td>\n",
              "    </tr>\n",
              "    <tr>\n",
              "      <th>4</th>\n",
              "      <td>7.4</td>\n",
              "      <td>0.700</td>\n",
              "      <td>0.00</td>\n",
              "      <td>1.9</td>\n",
              "      <td>0.076</td>\n",
              "      <td>11.0</td>\n",
              "      <td>34.0</td>\n",
              "      <td>0.99780</td>\n",
              "      <td>3.51</td>\n",
              "      <td>0.56</td>\n",
              "      <td>9.4</td>\n",
              "      <td>5</td>\n",
              "      <td>47.0</td>\n",
              "    </tr>\n",
              "    <tr>\n",
              "      <th>...</th>\n",
              "      <td>...</td>\n",
              "      <td>...</td>\n",
              "      <td>...</td>\n",
              "      <td>...</td>\n",
              "      <td>...</td>\n",
              "      <td>...</td>\n",
              "      <td>...</td>\n",
              "      <td>...</td>\n",
              "      <td>...</td>\n",
              "      <td>...</td>\n",
              "      <td>...</td>\n",
              "      <td>...</td>\n",
              "      <td>...</td>\n",
              "    </tr>\n",
              "    <tr>\n",
              "      <th>1594</th>\n",
              "      <td>6.2</td>\n",
              "      <td>0.600</td>\n",
              "      <td>0.08</td>\n",
              "      <td>2.0</td>\n",
              "      <td>0.090</td>\n",
              "      <td>32.0</td>\n",
              "      <td>44.0</td>\n",
              "      <td>0.99490</td>\n",
              "      <td>3.45</td>\n",
              "      <td>0.58</td>\n",
              "      <td>10.5</td>\n",
              "      <td>5</td>\n",
              "      <td>52.5</td>\n",
              "    </tr>\n",
              "    <tr>\n",
              "      <th>1595</th>\n",
              "      <td>5.9</td>\n",
              "      <td>0.550</td>\n",
              "      <td>0.10</td>\n",
              "      <td>2.2</td>\n",
              "      <td>0.062</td>\n",
              "      <td>39.0</td>\n",
              "      <td>51.0</td>\n",
              "      <td>0.99512</td>\n",
              "      <td>3.52</td>\n",
              "      <td>0.76</td>\n",
              "      <td>11.2</td>\n",
              "      <td>6</td>\n",
              "      <td>67.2</td>\n",
              "    </tr>\n",
              "    <tr>\n",
              "      <th>1596</th>\n",
              "      <td>6.3</td>\n",
              "      <td>0.510</td>\n",
              "      <td>0.13</td>\n",
              "      <td>2.3</td>\n",
              "      <td>0.076</td>\n",
              "      <td>29.0</td>\n",
              "      <td>40.0</td>\n",
              "      <td>0.99574</td>\n",
              "      <td>3.42</td>\n",
              "      <td>0.75</td>\n",
              "      <td>11.0</td>\n",
              "      <td>6</td>\n",
              "      <td>66.0</td>\n",
              "    </tr>\n",
              "    <tr>\n",
              "      <th>1597</th>\n",
              "      <td>5.9</td>\n",
              "      <td>0.645</td>\n",
              "      <td>0.12</td>\n",
              "      <td>2.0</td>\n",
              "      <td>0.075</td>\n",
              "      <td>32.0</td>\n",
              "      <td>44.0</td>\n",
              "      <td>0.99547</td>\n",
              "      <td>3.57</td>\n",
              "      <td>0.71</td>\n",
              "      <td>10.2</td>\n",
              "      <td>5</td>\n",
              "      <td>51.0</td>\n",
              "    </tr>\n",
              "    <tr>\n",
              "      <th>1598</th>\n",
              "      <td>6.0</td>\n",
              "      <td>0.310</td>\n",
              "      <td>0.47</td>\n",
              "      <td>3.6</td>\n",
              "      <td>0.067</td>\n",
              "      <td>18.0</td>\n",
              "      <td>42.0</td>\n",
              "      <td>0.99549</td>\n",
              "      <td>3.39</td>\n",
              "      <td>0.66</td>\n",
              "      <td>11.0</td>\n",
              "      <td>6</td>\n",
              "      <td>66.0</td>\n",
              "    </tr>\n",
              "  </tbody>\n",
              "</table>\n",
              "<p>1599 rows × 13 columns</p>\n",
              "</div>"
            ],
            "text/plain": [
              "      fixed acidity  volatile acidity  citric acid  residual sugar  chlorides  \\\n",
              "0               7.4             0.700         0.00             1.9      0.076   \n",
              "1               7.8             0.880         0.00             2.6      0.098   \n",
              "2               7.8             0.760         0.04             2.3      0.092   \n",
              "3              11.2             0.280         0.56             1.9      0.075   \n",
              "4               7.4             0.700         0.00             1.9      0.076   \n",
              "...             ...               ...          ...             ...        ...   \n",
              "1594            6.2             0.600         0.08             2.0      0.090   \n",
              "1595            5.9             0.550         0.10             2.2      0.062   \n",
              "1596            6.3             0.510         0.13             2.3      0.076   \n",
              "1597            5.9             0.645         0.12             2.0      0.075   \n",
              "1598            6.0             0.310         0.47             3.6      0.067   \n",
              "\n",
              "      free sulfur dioxide  total sulfur dioxide  density    pH  sulphates  \\\n",
              "0                    11.0                  34.0  0.99780  3.51       0.56   \n",
              "1                    25.0                  67.0  0.99680  3.20       0.68   \n",
              "2                    15.0                  54.0  0.99700  3.26       0.65   \n",
              "3                    17.0                  60.0  0.99800  3.16       0.58   \n",
              "4                    11.0                  34.0  0.99780  3.51       0.56   \n",
              "...                   ...                   ...      ...   ...        ...   \n",
              "1594                 32.0                  44.0  0.99490  3.45       0.58   \n",
              "1595                 39.0                  51.0  0.99512  3.52       0.76   \n",
              "1596                 29.0                  40.0  0.99574  3.42       0.75   \n",
              "1597                 32.0                  44.0  0.99547  3.57       0.71   \n",
              "1598                 18.0                  42.0  0.99549  3.39       0.66   \n",
              "\n",
              "      alcohol  quality  valor  \n",
              "0         9.4        5   47.0  \n",
              "1         9.8        5   49.0  \n",
              "2         9.8        5   49.0  \n",
              "3         9.8        6   58.8  \n",
              "4         9.4        5   47.0  \n",
              "...       ...      ...    ...  \n",
              "1594     10.5        5   52.5  \n",
              "1595     11.2        6   67.2  \n",
              "1596     11.0        6   66.0  \n",
              "1597     10.2        5   51.0  \n",
              "1598     11.0        6   66.0  \n",
              "\n",
              "[1599 rows x 13 columns]"
            ]
          },
          "execution_count": 29,
          "metadata": {},
          "output_type": "execute_result"
        }
      ],
      "source": [
        "df['valor'] = df['quality'] * df['alcohol']\n",
        "df"
      ]
    },
    {
      "attachments": {},
      "cell_type": "markdown",
      "id": "fc900075",
      "metadata": {
        "id": "fc900075"
      },
      "source": [
        "## Quais são os vinhos com o maior preço de cada qualidade?"
      ]
    },
    {
      "cell_type": "code",
      "execution_count": 30,
      "id": "23cdf073",
      "metadata": {
        "colab": {
          "base_uri": "https://localhost:8080/",
          "height": 363
        },
        "id": "23cdf073",
        "outputId": "f76d318d-aca0-4251-c4c2-773cf07511e2",
        "scrolled": true
      },
      "outputs": [
        {
          "data": {
            "text/html": [
              "<div>\n",
              "<style scoped>\n",
              "    .dataframe tbody tr th:only-of-type {\n",
              "        vertical-align: middle;\n",
              "    }\n",
              "\n",
              "    .dataframe tbody tr th {\n",
              "        vertical-align: top;\n",
              "    }\n",
              "\n",
              "    .dataframe thead th {\n",
              "        text-align: right;\n",
              "    }\n",
              "</style>\n",
              "<table border=\"1\" class=\"dataframe\">\n",
              "  <thead>\n",
              "    <tr style=\"text-align: right;\">\n",
              "      <th></th>\n",
              "      <th>fixed acidity</th>\n",
              "      <th>volatile acidity</th>\n",
              "      <th>citric acid</th>\n",
              "      <th>residual sugar</th>\n",
              "      <th>chlorides</th>\n",
              "      <th>free sulfur dioxide</th>\n",
              "      <th>total sulfur dioxide</th>\n",
              "      <th>density</th>\n",
              "      <th>pH</th>\n",
              "      <th>sulphates</th>\n",
              "      <th>alcohol</th>\n",
              "      <th>quality</th>\n",
              "      <th>valor</th>\n",
              "    </tr>\n",
              "  </thead>\n",
              "  <tbody>\n",
              "    <tr>\n",
              "      <th>45</th>\n",
              "      <td>4.6</td>\n",
              "      <td>0.52</td>\n",
              "      <td>0.15</td>\n",
              "      <td>2.1</td>\n",
              "      <td>0.054</td>\n",
              "      <td>8.0</td>\n",
              "      <td>65.0</td>\n",
              "      <td>0.99340</td>\n",
              "      <td>3.90</td>\n",
              "      <td>0.56</td>\n",
              "      <td>13.1</td>\n",
              "      <td>4</td>\n",
              "      <td>52.4</td>\n",
              "    </tr>\n",
              "    <tr>\n",
              "      <th>142</th>\n",
              "      <td>5.2</td>\n",
              "      <td>0.34</td>\n",
              "      <td>0.00</td>\n",
              "      <td>1.8</td>\n",
              "      <td>0.050</td>\n",
              "      <td>27.0</td>\n",
              "      <td>63.0</td>\n",
              "      <td>0.99160</td>\n",
              "      <td>3.68</td>\n",
              "      <td>0.79</td>\n",
              "      <td>14.0</td>\n",
              "      <td>6</td>\n",
              "      <td>84.0</td>\n",
              "    </tr>\n",
              "    <tr>\n",
              "      <th>144</th>\n",
              "      <td>5.2</td>\n",
              "      <td>0.34</td>\n",
              "      <td>0.00</td>\n",
              "      <td>1.8</td>\n",
              "      <td>0.050</td>\n",
              "      <td>27.0</td>\n",
              "      <td>63.0</td>\n",
              "      <td>0.99160</td>\n",
              "      <td>3.68</td>\n",
              "      <td>0.79</td>\n",
              "      <td>14.0</td>\n",
              "      <td>6</td>\n",
              "      <td>84.0</td>\n",
              "    </tr>\n",
              "    <tr>\n",
              "      <th>467</th>\n",
              "      <td>8.8</td>\n",
              "      <td>0.46</td>\n",
              "      <td>0.45</td>\n",
              "      <td>2.6</td>\n",
              "      <td>0.065</td>\n",
              "      <td>7.0</td>\n",
              "      <td>18.0</td>\n",
              "      <td>0.99470</td>\n",
              "      <td>3.32</td>\n",
              "      <td>0.79</td>\n",
              "      <td>14.0</td>\n",
              "      <td>6</td>\n",
              "      <td>84.0</td>\n",
              "    </tr>\n",
              "    <tr>\n",
              "      <th>588</th>\n",
              "      <td>5.0</td>\n",
              "      <td>0.42</td>\n",
              "      <td>0.24</td>\n",
              "      <td>2.0</td>\n",
              "      <td>0.060</td>\n",
              "      <td>19.0</td>\n",
              "      <td>50.0</td>\n",
              "      <td>0.99170</td>\n",
              "      <td>3.72</td>\n",
              "      <td>0.74</td>\n",
              "      <td>14.0</td>\n",
              "      <td>8</td>\n",
              "      <td>112.0</td>\n",
              "    </tr>\n",
              "    <tr>\n",
              "      <th>652</th>\n",
              "      <td>15.9</td>\n",
              "      <td>0.36</td>\n",
              "      <td>0.65</td>\n",
              "      <td>7.5</td>\n",
              "      <td>0.096</td>\n",
              "      <td>22.0</td>\n",
              "      <td>71.0</td>\n",
              "      <td>0.99760</td>\n",
              "      <td>2.98</td>\n",
              "      <td>0.84</td>\n",
              "      <td>14.9</td>\n",
              "      <td>5</td>\n",
              "      <td>74.5</td>\n",
              "    </tr>\n",
              "    <tr>\n",
              "      <th>821</th>\n",
              "      <td>4.9</td>\n",
              "      <td>0.42</td>\n",
              "      <td>0.00</td>\n",
              "      <td>2.1</td>\n",
              "      <td>0.048</td>\n",
              "      <td>16.0</td>\n",
              "      <td>42.0</td>\n",
              "      <td>0.99154</td>\n",
              "      <td>3.71</td>\n",
              "      <td>0.74</td>\n",
              "      <td>14.0</td>\n",
              "      <td>7</td>\n",
              "      <td>98.0</td>\n",
              "    </tr>\n",
              "    <tr>\n",
              "      <th>899</th>\n",
              "      <td>8.3</td>\n",
              "      <td>1.02</td>\n",
              "      <td>0.02</td>\n",
              "      <td>3.4</td>\n",
              "      <td>0.084</td>\n",
              "      <td>6.0</td>\n",
              "      <td>11.0</td>\n",
              "      <td>0.99892</td>\n",
              "      <td>3.48</td>\n",
              "      <td>0.49</td>\n",
              "      <td>11.0</td>\n",
              "      <td>3</td>\n",
              "      <td>33.0</td>\n",
              "    </tr>\n",
              "    <tr>\n",
              "      <th>1269</th>\n",
              "      <td>5.5</td>\n",
              "      <td>0.49</td>\n",
              "      <td>0.03</td>\n",
              "      <td>1.8</td>\n",
              "      <td>0.044</td>\n",
              "      <td>28.0</td>\n",
              "      <td>87.0</td>\n",
              "      <td>0.99080</td>\n",
              "      <td>3.50</td>\n",
              "      <td>0.82</td>\n",
              "      <td>14.0</td>\n",
              "      <td>8</td>\n",
              "      <td>112.0</td>\n",
              "    </tr>\n",
              "    <tr>\n",
              "      <th>1270</th>\n",
              "      <td>5.0</td>\n",
              "      <td>0.38</td>\n",
              "      <td>0.01</td>\n",
              "      <td>1.6</td>\n",
              "      <td>0.048</td>\n",
              "      <td>26.0</td>\n",
              "      <td>60.0</td>\n",
              "      <td>0.99084</td>\n",
              "      <td>3.70</td>\n",
              "      <td>0.75</td>\n",
              "      <td>14.0</td>\n",
              "      <td>6</td>\n",
              "      <td>84.0</td>\n",
              "    </tr>\n",
              "  </tbody>\n",
              "</table>\n",
              "</div>"
            ],
            "text/plain": [
              "      fixed acidity  volatile acidity  citric acid  residual sugar  chlorides  \\\n",
              "45              4.6              0.52         0.15             2.1      0.054   \n",
              "142             5.2              0.34         0.00             1.8      0.050   \n",
              "144             5.2              0.34         0.00             1.8      0.050   \n",
              "467             8.8              0.46         0.45             2.6      0.065   \n",
              "588             5.0              0.42         0.24             2.0      0.060   \n",
              "652            15.9              0.36         0.65             7.5      0.096   \n",
              "821             4.9              0.42         0.00             2.1      0.048   \n",
              "899             8.3              1.02         0.02             3.4      0.084   \n",
              "1269            5.5              0.49         0.03             1.8      0.044   \n",
              "1270            5.0              0.38         0.01             1.6      0.048   \n",
              "\n",
              "      free sulfur dioxide  total sulfur dioxide  density    pH  sulphates  \\\n",
              "45                    8.0                  65.0  0.99340  3.90       0.56   \n",
              "142                  27.0                  63.0  0.99160  3.68       0.79   \n",
              "144                  27.0                  63.0  0.99160  3.68       0.79   \n",
              "467                   7.0                  18.0  0.99470  3.32       0.79   \n",
              "588                  19.0                  50.0  0.99170  3.72       0.74   \n",
              "652                  22.0                  71.0  0.99760  2.98       0.84   \n",
              "821                  16.0                  42.0  0.99154  3.71       0.74   \n",
              "899                   6.0                  11.0  0.99892  3.48       0.49   \n",
              "1269                 28.0                  87.0  0.99080  3.50       0.82   \n",
              "1270                 26.0                  60.0  0.99084  3.70       0.75   \n",
              "\n",
              "      alcohol  quality  valor  \n",
              "45       13.1        4   52.4  \n",
              "142      14.0        6   84.0  \n",
              "144      14.0        6   84.0  \n",
              "467      14.0        6   84.0  \n",
              "588      14.0        8  112.0  \n",
              "652      14.9        5   74.5  \n",
              "821      14.0        7   98.0  \n",
              "899      11.0        3   33.0  \n",
              "1269     14.0        8  112.0  \n",
              "1270     14.0        6   84.0  "
            ]
          },
          "execution_count": 30,
          "metadata": {},
          "output_type": "execute_result"
        }
      ],
      "source": [
        " df[df.groupby(['quality'])['valor'].transform(max) == df['valor']]"
      ]
    },
    {
      "attachments": {},
      "cell_type": "markdown",
      "id": "2df79649",
      "metadata": {
        "id": "2df79649"
      },
      "source": [
        "## Um vinho com o 'citric acid' igual a 0.45 tem a maior probabilidade de pertencer a qual qualidade?"
      ]
    },
    {
      "cell_type": "code",
      "execution_count": 31,
      "id": "D9Z9MFH4CKUB",
      "metadata": {
        "id": "D9Z9MFH4CKUB"
      },
      "outputs": [],
      "source": [
        "qualidades = np.sort(df.quality.unique())"
      ]
    },
    {
      "cell_type": "code",
      "execution_count": 32,
      "id": "4602e196",
      "metadata": {
        "colab": {
          "base_uri": "https://localhost:8080/"
        },
        "id": "4602e196",
        "outputId": "aebc0239-7ba0-4b57-ff08-6ce8986ad2ae"
      },
      "outputs": [
        {
          "name": "stdout",
          "output_type": "stream",
          "text": [
            "Qualidade  3  Intervalo de confiança:  (0.015637113540946046, 0.3263628864590539)\n",
            "Qualidade  4  Intervalo de confiança:  (0.12002820062431155, 0.22827368616814123)\n",
            "Qualidade  5  Intervalo de confiança:  (0.2301662318231855, 0.2572052806584591)\n",
            "Qualidade  6  Intervalo de confiança:  (0.25868459509344455, 0.28896430772787207)\n",
            "Qualidade  7  Intervalo de confiança:  (0.34816132933166444, 0.40219042946230543)\n",
            "Qualidade  8  Intervalo de confiança:  (0.2989349953824657, 0.48328722683975645)\n"
          ]
        }
      ],
      "source": [
        "limiteInferior = []\n",
        "limiteSuperior = []\n",
        "for i in qualidades:\n",
        "    inferior, superior = confidence_interval(df[df['quality'] == i]['citric acid'])\n",
        "    print(\"Qualidade \",str(i),\" Intervalo de confiança: \",(inferior, superior))\n",
        "    limiteInferior.append(inferior)\n",
        "    limiteSuperior.append(superior)"
      ]
    },
    {
      "cell_type": "code",
      "execution_count": 33,
      "id": "fCtj2mwPCPgB",
      "metadata": {
        "colab": {
          "base_uri": "https://localhost:8080/",
          "height": 430
        },
        "id": "fCtj2mwPCPgB",
        "outputId": "fcca3ff6-c202-405a-885a-d5dffc65524f"
      },
      "outputs": [
        {
          "data": {
            "image/png": "[encoded data removed]",
            "text/plain": [
              "<Figure size 640x480 with 1 Axes>"
            ]
          },
          "metadata": {},
          "output_type": "display_data"
        }
      ],
      "source": [
        "for lower,upper,y in zip(limiteInferior,limiteSuperior,range(len(qualidades))):\n",
        "    plt.plot((lower,upper),(y,y),'ro-')\n",
        "plt.yticks(range(len(qualidades)),qualidades)\n",
        "plt.show()"
      ]
    },
    {
      "cell_type": "code",
      "execution_count": 34,
      "id": "AFkIfC0ECVmJ",
      "metadata": {
        "colab": {
          "base_uri": "https://localhost:8080/"
        },
        "id": "AFkIfC0ECVmJ",
        "outputId": "9fd21c90-92b4-4b28-d2ed-b059c2b95001"
      },
      "outputs": [
        {
          "name": "stdout",
          "output_type": "stream",
          "text": [
            "Qualidade  3  Numeros de erros padrões de distância:  12.690673457552945 0.02198464887881511\n",
            "Qualidade  4  Numeros de erros padrões de distância:  36.017988357441276 0.007658646947915499\n",
            "Qualidade  5  Numeros de erros padrões de distância:  107.84389014256075 0.0019130823590140086\n",
            "Qualidade  6  Numeros de erros padrões de distância:  82.23403992753263 0.002142367670913328\n",
            "Qualidade  7  Numeros de erros padrões de distância:  19.573641520356894 0.0038226980158595843\n",
            "Qualidade  8  Numeros de erros padrões de distância:  4.514843539028542 0.013043395276009952\n"
          ]
        }
      ],
      "source": [
        "x = 0.45\n",
        "for i in qualidades:\n",
        "    media = df[df['quality'] == i]['citric acid'].mean()\n",
        "    desvioPadrao = df[df['quality'] == i]['citric acid'].std()\n",
        "    N = df[df['quality'] == i].size\n",
        "    std_error = desvioPadrao / np.sqrt(N)\n",
        "    resultado = (x-media) / std_error\n",
        "\n",
        "    print(\"Qualidade \",str(i),\" Numeros de erros padrões de distância: \" ,resultado,std_error)"
      ]
    },
    {
      "cell_type": "code",
      "execution_count": 35,
      "id": "vyjaIGXqCa1J",
      "metadata": {
        "colab": {
          "base_uri": "https://localhost:8080/"
        },
        "id": "vyjaIGXqCa1J",
        "outputId": "6a93f3be-cd4c-42a8-9396-b83b7c40ee10"
      },
      "outputs": [
        {
          "name": "stdout",
          "output_type": "stream",
          "text": [
            "\t\t\t Qualidade  3\n",
            "\t\t\t Amostra 0.45\n",
            "Média População: 0.171\n",
            "Valor da Amostra:  0.45\n",
            "Erro Padrão:0.07926677880563977\n",
            "A diferença entre a média da amostra e da população é de 3.520 erros padrões.\n",
            "Valor-p: 0.0004319382\n",
            "Provavelmente a Amostra NÃO veio da População.\n",
            "\n",
            "\n",
            "\n",
            "\t\t\t Qualidade  4\n",
            "\t\t\t Amostra 0.45\n",
            "Média População: 0.174\n",
            "Valor da Amostra:  0.45\n",
            "Erro Padrão:0.027613644271385122\n",
            "A diferença entre a média da amostra e da população é de 9.990 erros padrões.\n",
            "Valor-p: 0.0000000000\n",
            "Provavelmente a Amostra NÃO veio da População.\n",
            "\n",
            "\n",
            "\n",
            "\t\t\t Qualidade  5\n",
            "\t\t\t Amostra 0.45\n",
            "Média População: 0.244\n",
            "Valor da Amostra:  0.45\n",
            "Erro Padrão:0.0068977165396106165\n",
            "A diferença entre a média da amostra e da população é de 29.911 erros padrões.\n",
            "Valor-p: 0.0000000000\n",
            "Provavelmente a Amostra NÃO veio da População.\n",
            "\n",
            "\n",
            "\n",
            "\t\t\t Qualidade  6\n",
            "\t\t\t Amostra 0.45\n",
            "Média População: 0.274\n",
            "Valor da Amostra:  0.45\n",
            "Erro Padrão:0.007724416488374366\n",
            "A diferença entre a média da amostra e da população é de 22.808 erros padrões.\n",
            "Valor-p: 0.0000000000\n",
            "Provavelmente a Amostra NÃO veio da População.\n",
            "\n",
            "\n",
            "\n",
            "\t\t\t Qualidade  7\n",
            "\t\t\t Amostra 0.45\n",
            "Média População: 0.375\n",
            "Valor da Amostra:  0.45\n",
            "Erro Padrão:0.013782933706796185\n",
            "A diferença entre a média da amostra e da população é de 5.429 erros padrões.\n",
            "Valor-p: 0.0000000567\n",
            "Provavelmente a Amostra NÃO veio da População.\n",
            "\n",
            "\n",
            "\n",
            "\t\t\t Qualidade  8\n",
            "\t\t\t Amostra 0.45\n",
            "Média População: 0.391\n",
            "Valor da Amostra:  0.45\n",
            "Erro Padrão:0.04702863047379866\n",
            "A diferença entre a média da amostra e da população é de 1.252 erros padrões.\n",
            "Valor-p: 0.2104998016\n",
            "Provavelmente a Amostra VEIO da População.\n",
            "\n",
            "\n",
            "\n"
          ]
        }
      ],
      "source": [
        "import scipy.stats as st\n",
        "\n",
        "\n",
        "def analise_amostra(populacao, valor):\n",
        "    print(\"\\t\\t\\t Amostra \"+str(valor))\n",
        "    \n",
        "    media_populacao=populacao.mean()\n",
        "    erro_padrao=populacao.sem() \n",
        "    \n",
        "    z_score = abs(valor - media_populacao) / erro_padrao\n",
        "    valor_p = 2*st.norm.sf(abs(z_score))\n",
        "    \n",
        "    print(\"Média População: %.3f\" % (media_populacao))\n",
        "    print(\"Valor da Amostra: \",(valor))\n",
        "    print(\"Erro Padrão:\"+str(erro_padrao))\n",
        "    print(\"A diferença entre a média da amostra e da população é de %.3f erros padrões.\" % (z_score))\n",
        "    print(\"Valor-p: %.10f\" % (valor_p))\n",
        "    \n",
        "    if(valor_p < 0.05):\n",
        "        print(\"Provavelmente a Amostra NÃO veio da População.\")\n",
        "    else:\n",
        "        print(\"Provavelmente a Amostra VEIO da População.\")\n",
        "        \n",
        "    print(\"\\n\\n\")\n",
        "\n",
        "for i in qualidades:\n",
        "    print(\"\\t\\t\\t Qualidade  \"+str(i))\n",
        "    analise_amostra(df[df['quality'] == i]['citric acid'],x)  "
      ]
    },
    {
      "attachments": {},
      "cell_type": "markdown",
      "id": "e9552f82",
      "metadata": {
        "id": "e9552f82"
      },
      "source": [
        "##  Fazer um gráfico de barra da média de \"alcohol\" por \"quality\""
      ]
    },
    {
      "cell_type": "code",
      "execution_count": 36,
      "id": "8e7aefb5",
      "metadata": {
        "colab": {
          "base_uri": "https://localhost:8080/",
          "height": 461
        },
        "id": "8e7aefb5",
        "outputId": "6eb4fc37-1e1c-44f9-b52e-e36abe19a02e"
      },
      "outputs": [
        {
          "data": {
            "text/plain": [
              "<Axes: xlabel='quality'>"
            ]
          },
          "execution_count": 36,
          "metadata": {},
          "output_type": "execute_result"
        },
        {
          "data": {
            "image/png": "[encoded data removed]",
            "text/plain": [
              "<Figure size 640x480 with 1 Axes>"
            ]
          },
          "metadata": {},
          "output_type": "display_data"
        }
      ],
      "source": [
        "df.groupby(['quality'])['alcohol'].mean().plot.bar()"
      ]
    },
    {
      "cell_type": "code",
      "execution_count": 41,
      "id": "09b505ea",
      "metadata": {},
      "outputs": [
        {
          "data": {
            "text/plain": [
              "<Axes: xlabel='quality'>"
            ]
          },
          "execution_count": 41,
          "metadata": {},
          "output_type": "execute_result"
        },
        {
          "data": {
            "image/png": "[encoded data removed]",
            "text/plain": [
              "<Figure size 640x480 with 1 Axes>"
            ]
          },
          "metadata": {},
          "output_type": "display_data"
        }
      ],
      "source": [
        "df[(df['quality'] == 3) | (df['quality'] == 4)].groupby(['quality','pH'])['fixed acidity'].mean().unstack().plot.bar(legend=False)"
      ]
    },
    {
      "cell_type": "code",
      "execution_count": 45,
      "id": "2be62b1f",
      "metadata": {},
      "outputs": [
        {
          "data": {
            "image/png": "[encoded data removed]",
            "text/plain": [
              "<Figure size 640x480 with 1 Axes>"
            ]
          },
          "metadata": {},
          "output_type": "display_data"
        }
      ],
      "source": [
        "aux = df[['quality','pH', 'fixed acidity']].plot(x=\"pH\", y=\"fixed acidity\", kind=\"bar\")\n",
        "aux.legend(df[['quality','pH', 'fixed acidity']].groupby('quality').groups.keys())\n",
        "plt.show()\n"
      ]
    },
    {
      "cell_type": "code",
      "execution_count": 50,
      "id": "7a4d4a69",
      "metadata": {},
      "outputs": [
        {
          "data": {
            "text/plain": [
              "<Axes: xlabel='pH'>"
            ]
          },
          "execution_count": 50,
          "metadata": {},
          "output_type": "execute_result"
        },
        {
          "data": {
            "image/png": "[encoded data removed]",
            "text/plain": [
              "<Figure size 640x480 with 1 Axes>"
            ]
          },
          "metadata": {},
          "output_type": "display_data"
        }
      ],
      "source": [
        "df.pivot_table(index='pH', columns='quality', values='fixed acidity', aggfunc='mean').plot(kind='bar')"
      ]
    }
  ],
  "metadata": {
    "colab": {
      "provenance": []
    },
    "kernelspec": {
      "display_name": "Python 3 (ipykernel)",
      "language": "python",
      "name": "python3"
    },
    "language_info": {
      "codemirror_mode": {
        "name": "ipython",
        "version": 3
      },
      "file_extension": ".py",
      "mimetype": "text/x-python",
      "name": "python",
      "nbconvert_exporter": "python",
      "pygments_lexer": "ipython3",
      "version": "3.9.6"
    }
  },
  "nbformat": 4,
  "nbformat_minor": 5
}
